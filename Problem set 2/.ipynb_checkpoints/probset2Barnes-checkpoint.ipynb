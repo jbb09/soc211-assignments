{
 "cells": [
  {
   "cell_type": "markdown",
   "metadata": {},
   "source": [
    "## Stats 211 Problem set 2\n",
    "\n",
    "[your name]\n",
    "\n",
    "[working title of the project] \n",
    "\n",
    "[date]"
   ]
  },
  {
   "cell_type": "markdown",
   "metadata": {
    "jp-MarkdownHeadingCollapsed": true,
    "tags": []
   },
   "source": [
    "### 1. Explain any new or revised hypotheses for interval ratio data from your own project or from Charlie's grant and loan repayment data\n",
    "\n",
    "Your answer here should explain:\n",
    "1. What are your dependent variables? Why do they interest you?\n",
    "\n",
    "***I'm using Charlie's data, so my dependent variable is student grant aid per student.\n",
    "\n",
    "2. What are your independent variables? What direction to you hypothesize will be the relationship between your dependent variable and your dependent variables?\n",
    "\n",
    "***I'm using Charlie's data, so my independent variable is univeristy research level. I expect that these variables will have a positive relationship. \n",
    "\n",
    "3. Why do you think your dependent variables are associated with your independent variables?\n",
    "\n",
    "***I would expect that higher level institutions are invested in more by the state. \n",
    "\n",
    "4. What are your control variables? Do you think they will show any spurious, intervening, or interactive relationships? Why?\n",
    "\n",
    "***I don't think that we are asked to use a control variable with Charlie's data. \n",
    "\n",
    "If you are working with the grant and loan repayment data, formulate hypotheses about:\n",
    "1. The relationship between state grant aid per student and the level of research at a university\n",
    "\n",
    "***I would expect that state grant aid per student would be higher at higher research level universities \n",
    "\n",
    "2. The relationship between loan repayment and college net price for low-income students. The later variable is name **netprice4lowincome**\n",
    "\n",
    "***My guess is that more expensive colleges have more students who struggle to repay their loans. "
   ]
  },
  {
   "cell_type": "markdown",
   "metadata": {},
   "source": [
    "### 2. Setting up your session\n",
    "\n",
    "In the code cell below, do the following:\n",
    "\n",
    "1. set current directory \n",
    "2. set more off \n",
    "3. create log file \n",
    "4. download the data from its source if it's available online\n",
    "5. read the data in [preferably only variables you are going to use]"
   ]
  },
  {
   "cell_type": "code",
   "execution_count": 1,
   "metadata": {
    "tags": []
   },
   "outputs": [
    {
     "data": {
      "text/html": [
       "<style>div.jp-Notebook .datagrid-container {min-height: 448px; }</style>"
      ],
      "text/plain": [
       "<IPython.core.display.HTML object>"
      ]
     },
     "metadata": {},
     "output_type": "display_data"
    },
    {
     "name": "stdout",
     "output_type": "stream",
     "text": [
      "(8 vars, 581 obs)\n"
     ]
    }
   ],
   "source": [
    "set more off\n",
    "*set scheme plotplainblind\n",
    "*capture log close\n",
    "*log using probset2barnes.log\n",
    "insheet using grants2015_college_affordability20200218.csv, clear\n",
    "quietly {\n",
    "rename hgroup hgroupstring\n",
    "encode hgroupstring, gen(hgrouptemp)\n",
    "recode hgrouptemp (1=1 \"Highest\") (2=3 \"High\") (3=2 \"Very high\") (4=4 \"Some/None\"), gen(hgroup)\n",
    "qui label var igrnt_low_inc \"institutional grant $ per fte\"\n",
    "qui label var sgrnt_low_inc \"state grant $ per fte\"\n",
    "qui label var hgroup \"research level\"\n",
    "}"
   ]
  },
  {
   "cell_type": "code",
   "execution_count": 2,
   "metadata": {
    "tags": []
   },
   "outputs": [
    {
     "name": "stdout",
     "output_type": "stream",
     "text": [
      "year          stabbr        hgroupstring  igrnt_low_~c  hgrouptemp\n",
      "instnm        control       highdeg       sgrnt_low_~c  hgroup\n"
     ]
    }
   ],
   "source": [
    "ds "
   ]
  },
  {
   "cell_type": "code",
   "execution_count": 3,
   "metadata": {
    "tags": []
   },
   "outputs": [
    {
     "data": {
      "text/html": [
       "<div>\n",
       "<style scoped>\n",
       "    .dataframe tbody tr th:only-of-type {\n",
       "        vertical-align: middle;\n",
       "    }\n",
       "\n",
       "    .dataframe tbody tr th {\n",
       "        vertical-align: top;\n",
       "    }\n",
       "\n",
       "    .dataframe thead th {\n",
       "        text-align: right;\n",
       "    }\n",
       "</style>\n",
       "<table border=\"1\" class=\"dataframe\">\n",
       "  <thead>\n",
       "    <tr style=\"text-align: right;\">\n",
       "      <th></th>\n",
       "      <th>year</th>\n",
       "      <th>instnm</th>\n",
       "      <th>stabbr</th>\n",
       "      <th>control</th>\n",
       "      <th>hgroupstring</th>\n",
       "      <th>highdeg</th>\n",
       "      <th>igrnt_low_inc</th>\n",
       "      <th>sgrnt_low_inc</th>\n",
       "      <th>hgrouptemp</th>\n",
       "      <th>hgroup</th>\n",
       "    </tr>\n",
       "  </thead>\n",
       "  <tbody>\n",
       "    <tr>\n",
       "      <th>1</th>\n",
       "      <td>2015</td>\n",
       "      <td>University of Alaska Anchorage</td>\n",
       "      <td>AK</td>\n",
       "      <td>1</td>\n",
       "      <td>Other RU Public</td>\n",
       "      <td>4</td>\n",
       "      <td>3527.888</td>\n",
       "      <td>5126.689</td>\n",
       "      <td>Other RU Public</td>\n",
       "      <td>Some/None</td>\n",
       "    </tr>\n",
       "    <tr>\n",
       "      <th>2</th>\n",
       "      <td>2015</td>\n",
       "      <td>University of Alaska Southeast</td>\n",
       "      <td>AK</td>\n",
       "      <td>1</td>\n",
       "      <td>Other RU Public</td>\n",
       "      <td>4</td>\n",
       "      <td>3371.517</td>\n",
       "      <td>3182.448</td>\n",
       "      <td>Other RU Public</td>\n",
       "      <td>Some/None</td>\n",
       "    </tr>\n",
       "    <tr>\n",
       "      <th>3</th>\n",
       "      <td>2015</td>\n",
       "      <td>University of Alaska Fairbanks</td>\n",
       "      <td>AK</td>\n",
       "      <td>1</td>\n",
       "      <td>HRA Public</td>\n",
       "      <td>4</td>\n",
       "      <td>6791.518</td>\n",
       "      <td>9233.675</td>\n",
       "      <td>HRA Public</td>\n",
       "      <td>High</td>\n",
       "    </tr>\n",
       "    <tr>\n",
       "      <th>4</th>\n",
       "      <td>2015</td>\n",
       "      <td>University of South Alabama</td>\n",
       "      <td>AL</td>\n",
       "      <td>1</td>\n",
       "      <td>HRA Public</td>\n",
       "      <td>4</td>\n",
       "      <td>6839.169</td>\n",
       "      <td>129.9652</td>\n",
       "      <td>HRA Public</td>\n",
       "      <td>High</td>\n",
       "    </tr>\n",
       "    <tr>\n",
       "      <th>5</th>\n",
       "      <td>2015</td>\n",
       "      <td>Auburn University-Montgomery</td>\n",
       "      <td>AL</td>\n",
       "      <td>1</td>\n",
       "      <td>Other RU Public</td>\n",
       "      <td>4</td>\n",
       "      <td>2955.426</td>\n",
       "      <td>39.06705</td>\n",
       "      <td>Other RU Public</td>\n",
       "      <td>Some/None</td>\n",
       "    </tr>\n",
       "  </tbody>\n",
       "</table>\n",
       "</div>"
      ]
     },
     "metadata": {},
     "output_type": "display_data"
    }
   ],
   "source": [
    "%head "
   ]
  },
  {
   "cell_type": "code",
   "execution_count": 4,
   "metadata": {
    "tags": []
   },
   "outputs": [
    {
     "name": "stdout",
     "output_type": "stream",
     "text": [
      "year           stabbr         hgroupstring   igrnt_low_inc  hgrouptemp\n",
      "instnm         control        highdeg        sgrnt_low_inc  hgroup\n"
     ]
    }
   ],
   "source": [
    "ds, varwidth(20)"
   ]
  },
  {
   "cell_type": "code",
   "execution_count": 5,
   "metadata": {
    "tags": []
   },
   "outputs": [
    {
     "name": "stdout",
     "output_type": "stream",
     "text": [
      "\n",
      "-------------------------------------------------------------------------------\n",
      "hgroup                                                           research level\n",
      "-------------------------------------------------------------------------------\n",
      "\n",
      "                  Type: Numeric (long)\n",
      "                 Label: hgroup\n",
      "\n",
      "                 Range: [1,4]                         Units: 1\n",
      "         Unique values: 4                         Missing .: 0/581\n",
      "\n",
      "            Tabulation: Freq.   Numeric  Label\n",
      "                           34         1  Highest\n",
      "                           37         2  Very high\n",
      "                           72         3  High\n",
      "                          438         4  Some/None\n"
     ]
    }
   ],
   "source": [
    "codebook hgroup"
   ]
  },
  {
   "cell_type": "code",
   "execution_count": 7,
   "metadata": {
    "tags": []
   },
   "outputs": [
    {
     "name": "stdout",
     "output_type": "stream",
     "text": [
      "\u001b[31mvariable mn_sgrnt_low_inc already defined\n",
      "r(110);\u001b[0m\n"
     ]
    }
   ],
   "source": [
    "bysort hgroup: egen mn_sgrnt_low_inc=mean(sgrnt_low_inc)"
   ]
  },
  {
   "cell_type": "code",
   "execution_count": 8,
   "metadata": {
    "tags": []
   },
   "outputs": [
    {
     "name": "stdout",
     "output_type": "stream",
     "text": [
      "\n",
      "mn_sgrnt_lo |\n",
      "      w_inc |      Freq.     Percent        Cum.\n",
      "------------+-----------------------------------\n",
      "   3109.573 |        438       75.39       75.39\n",
      "   3874.735 |         72       12.39       87.78\n",
      "   6196.042 |         37        6.37       94.15\n",
      "    6340.64 |         34        5.85      100.00\n",
      "------------+-----------------------------------\n",
      "      Total |        581      100.00\n"
     ]
    }
   ],
   "source": [
    "tab mn_sgrnt_low_inc"
   ]
  },
  {
   "cell_type": "code",
   "execution_count": 9,
   "metadata": {
    "tags": []
   },
   "outputs": [
    {
     "data": {
      "text/html": [
       "<div>\n",
       "<style scoped>\n",
       "    .dataframe tbody tr th:only-of-type {\n",
       "        vertical-align: middle;\n",
       "    }\n",
       "\n",
       "    .dataframe tbody tr th {\n",
       "        vertical-align: top;\n",
       "    }\n",
       "\n",
       "    .dataframe thead th {\n",
       "        text-align: right;\n",
       "    }\n",
       "</style>\n",
       "<table border=\"1\" class=\"dataframe\">\n",
       "  <thead>\n",
       "    <tr style=\"text-align: right;\">\n",
       "      <th></th>\n",
       "      <th>year</th>\n",
       "      <th>instnm</th>\n",
       "      <th>stabbr</th>\n",
       "      <th>control</th>\n",
       "      <th>hgroupstring</th>\n",
       "      <th>highdeg</th>\n",
       "      <th>igrnt_low_inc</th>\n",
       "      <th>sgrnt_low_inc</th>\n",
       "      <th>hgrouptemp</th>\n",
       "      <th>hgroup</th>\n",
       "      <th>mn_sgrnt_low_inc</th>\n",
       "    </tr>\n",
       "  </thead>\n",
       "  <tbody>\n",
       "    <tr>\n",
       "      <th>1</th>\n",
       "      <td>2015</td>\n",
       "      <td>Stony Brook University</td>\n",
       "      <td>NY</td>\n",
       "      <td>1</td>\n",
       "      <td>AAU Public</td>\n",
       "      <td>4</td>\n",
       "      <td>7573.249</td>\n",
       "      <td>5384.245</td>\n",
       "      <td>AAU Public</td>\n",
       "      <td>Highest</td>\n",
       "      <td>6340.64</td>\n",
       "    </tr>\n",
       "    <tr>\n",
       "      <th>2</th>\n",
       "      <td>2015</td>\n",
       "      <td>Georgia Institute of Technology-Main Campus</td>\n",
       "      <td>GA</td>\n",
       "      <td>1</td>\n",
       "      <td>AAU Public</td>\n",
       "      <td>4</td>\n",
       "      <td>10493.57</td>\n",
       "      <td>40112.09</td>\n",
       "      <td>AAU Public</td>\n",
       "      <td>Highest</td>\n",
       "      <td>6340.64</td>\n",
       "    </tr>\n",
       "    <tr>\n",
       "      <th>3</th>\n",
       "      <td>2015</td>\n",
       "      <td>University of Arizona</td>\n",
       "      <td>AZ</td>\n",
       "      <td>1</td>\n",
       "      <td>AAU Public</td>\n",
       "      <td>4</td>\n",
       "      <td>20377.74</td>\n",
       "      <td>33.64918</td>\n",
       "      <td>AAU Public</td>\n",
       "      <td>Highest</td>\n",
       "      <td>6340.64</td>\n",
       "    </tr>\n",
       "    <tr>\n",
       "      <th>4</th>\n",
       "      <td>2015</td>\n",
       "      <td>Purdue University-Main Campus</td>\n",
       "      <td>IN</td>\n",
       "      <td>1</td>\n",
       "      <td>AAU Public</td>\n",
       "      <td>4</td>\n",
       "      <td>14078.26</td>\n",
       "      <td>5030.767</td>\n",
       "      <td>AAU Public</td>\n",
       "      <td>Highest</td>\n",
       "      <td>6340.64</td>\n",
       "    </tr>\n",
       "    <tr>\n",
       "      <th>5</th>\n",
       "      <td>2015</td>\n",
       "      <td>Pennsylvania State University-Main Campus</td>\n",
       "      <td>PA</td>\n",
       "      <td>1</td>\n",
       "      <td>AAU Public</td>\n",
       "      <td>4</td>\n",
       "      <td>17785.69</td>\n",
       "      <td>3249.517</td>\n",
       "      <td>AAU Public</td>\n",
       "      <td>Highest</td>\n",
       "      <td>6340.64</td>\n",
       "    </tr>\n",
       "  </tbody>\n",
       "</table>\n",
       "</div>"
      ]
     },
     "metadata": {},
     "output_type": "display_data"
    }
   ],
   "source": [
    "%head"
   ]
  },
  {
   "cell_type": "code",
   "execution_count": 10,
   "metadata": {
    "tags": []
   },
   "outputs": [],
   "source": [
    "gen sqdv_sgrnt_low=(sgrnt_low_inc-mn_sgrnt_low_inc)^2"
   ]
  },
  {
   "cell_type": "code",
   "execution_count": 11,
   "metadata": {
    "tags": []
   },
   "outputs": [
    {
     "data": {
      "text/html": [
       "<div>\n",
       "<style scoped>\n",
       "    .dataframe tbody tr th:only-of-type {\n",
       "        vertical-align: middle;\n",
       "    }\n",
       "\n",
       "    .dataframe tbody tr th {\n",
       "        vertical-align: top;\n",
       "    }\n",
       "\n",
       "    .dataframe thead th {\n",
       "        text-align: right;\n",
       "    }\n",
       "</style>\n",
       "<table border=\"1\" class=\"dataframe\">\n",
       "  <thead>\n",
       "    <tr style=\"text-align: right;\">\n",
       "      <th></th>\n",
       "      <th>year</th>\n",
       "      <th>instnm</th>\n",
       "      <th>stabbr</th>\n",
       "      <th>control</th>\n",
       "      <th>hgroupstring</th>\n",
       "      <th>highdeg</th>\n",
       "      <th>igrnt_low_inc</th>\n",
       "      <th>sgrnt_low_inc</th>\n",
       "      <th>hgrouptemp</th>\n",
       "      <th>hgroup</th>\n",
       "      <th>mn_sgrnt_low_inc</th>\n",
       "      <th>sqdv_sgrnt_low</th>\n",
       "    </tr>\n",
       "  </thead>\n",
       "  <tbody>\n",
       "    <tr>\n",
       "      <th>1</th>\n",
       "      <td>2015</td>\n",
       "      <td>Stony Brook University</td>\n",
       "      <td>NY</td>\n",
       "      <td>1</td>\n",
       "      <td>AAU Public</td>\n",
       "      <td>4</td>\n",
       "      <td>7573.249</td>\n",
       "      <td>5384.245</td>\n",
       "      <td>AAU Public</td>\n",
       "      <td>Highest</td>\n",
       "      <td>6340.64</td>\n",
       "      <td>914691.4</td>\n",
       "    </tr>\n",
       "    <tr>\n",
       "      <th>2</th>\n",
       "      <td>2015</td>\n",
       "      <td>Georgia Institute of Technology-Main Campus</td>\n",
       "      <td>GA</td>\n",
       "      <td>1</td>\n",
       "      <td>AAU Public</td>\n",
       "      <td>4</td>\n",
       "      <td>10493.57</td>\n",
       "      <td>40112.09</td>\n",
       "      <td>AAU Public</td>\n",
       "      <td>Highest</td>\n",
       "      <td>6340.64</td>\n",
       "      <td>1.14e+09</td>\n",
       "    </tr>\n",
       "    <tr>\n",
       "      <th>3</th>\n",
       "      <td>2015</td>\n",
       "      <td>University of Arizona</td>\n",
       "      <td>AZ</td>\n",
       "      <td>1</td>\n",
       "      <td>AAU Public</td>\n",
       "      <td>4</td>\n",
       "      <td>20377.74</td>\n",
       "      <td>33.64918</td>\n",
       "      <td>AAU Public</td>\n",
       "      <td>Highest</td>\n",
       "      <td>6340.64</td>\n",
       "      <td>3.98e+07</td>\n",
       "    </tr>\n",
       "    <tr>\n",
       "      <th>4</th>\n",
       "      <td>2015</td>\n",
       "      <td>Purdue University-Main Campus</td>\n",
       "      <td>IN</td>\n",
       "      <td>1</td>\n",
       "      <td>AAU Public</td>\n",
       "      <td>4</td>\n",
       "      <td>14078.26</td>\n",
       "      <td>5030.767</td>\n",
       "      <td>AAU Public</td>\n",
       "      <td>Highest</td>\n",
       "      <td>6340.64</td>\n",
       "      <td>1715767</td>\n",
       "    </tr>\n",
       "    <tr>\n",
       "      <th>5</th>\n",
       "      <td>2015</td>\n",
       "      <td>Pennsylvania State University-Main Campus</td>\n",
       "      <td>PA</td>\n",
       "      <td>1</td>\n",
       "      <td>AAU Public</td>\n",
       "      <td>4</td>\n",
       "      <td>17785.69</td>\n",
       "      <td>3249.517</td>\n",
       "      <td>AAU Public</td>\n",
       "      <td>Highest</td>\n",
       "      <td>6340.64</td>\n",
       "      <td>9555042</td>\n",
       "    </tr>\n",
       "  </tbody>\n",
       "</table>\n",
       "</div>"
      ]
     },
     "metadata": {},
     "output_type": "display_data"
    }
   ],
   "source": [
    "%head "
   ]
  },
  {
   "cell_type": "code",
   "execution_count": 12,
   "metadata": {
    "tags": []
   },
   "outputs": [],
   "source": [
    "collapse ///\n",
    "(count) n=sgrnt_low_inc ///\n",
    "(first) mn_sgrnt_low_inc ///\n",
    "(sum) sumsqdv_sgrnt_low= sqdv_sgrnt_low ///\n",
    ", by(hgroup)"
   ]
  },
  {
   "cell_type": "code",
   "execution_count": 13,
   "metadata": {
    "tags": []
   },
   "outputs": [
    {
     "data": {
      "text/html": [
       "<div>\n",
       "<style scoped>\n",
       "    .dataframe tbody tr th:only-of-type {\n",
       "        vertical-align: middle;\n",
       "    }\n",
       "\n",
       "    .dataframe tbody tr th {\n",
       "        vertical-align: top;\n",
       "    }\n",
       "\n",
       "    .dataframe thead th {\n",
       "        text-align: right;\n",
       "    }\n",
       "</style>\n",
       "<table border=\"1\" class=\"dataframe\">\n",
       "  <thead>\n",
       "    <tr style=\"text-align: right;\">\n",
       "      <th></th>\n",
       "      <th>hgroup</th>\n",
       "      <th>n</th>\n",
       "      <th>mn_sgrnt_low_inc</th>\n",
       "      <th>sumsqdv_sgrnt_low</th>\n",
       "    </tr>\n",
       "  </thead>\n",
       "  <tbody>\n",
       "    <tr>\n",
       "      <th>1</th>\n",
       "      <td>Highest</td>\n",
       "      <td>34</td>\n",
       "      <td>6340.64</td>\n",
       "      <td>1.80e+09</td>\n",
       "    </tr>\n",
       "    <tr>\n",
       "      <th>2</th>\n",
       "      <td>Very high</td>\n",
       "      <td>37</td>\n",
       "      <td>6196.042</td>\n",
       "      <td>1.58e+09</td>\n",
       "    </tr>\n",
       "    <tr>\n",
       "      <th>3</th>\n",
       "      <td>High</td>\n",
       "      <td>72</td>\n",
       "      <td>3874.735</td>\n",
       "      <td>1.20e+09</td>\n",
       "    </tr>\n",
       "    <tr>\n",
       "      <th>4</th>\n",
       "      <td>Some/None</td>\n",
       "      <td>438</td>\n",
       "      <td>3109.573</td>\n",
       "      <td>3.13e+09</td>\n",
       "    </tr>\n",
       "  </tbody>\n",
       "</table>\n",
       "</div>"
      ]
     },
     "metadata": {},
     "output_type": "display_data"
    }
   ],
   "source": [
    "%head"
   ]
  },
  {
   "cell_type": "code",
   "execution_count": 15,
   "metadata": {
    "tags": []
   },
   "outputs": [
    {
     "name": "stdout",
     "output_type": "stream",
     "text": [
      "\u001b[31mvariable sd_sgrnt_low already defined\n",
      "r(110);\u001b[0m\n"
     ]
    }
   ],
   "source": [
    "gen sd_sgrnt_low=sqrt(sumsqdv_sgrnt_low/(n-1))"
   ]
  },
  {
   "cell_type": "code",
   "execution_count": 16,
   "metadata": {
    "tags": []
   },
   "outputs": [
    {
     "data": {
      "text/html": [
       "<div>\n",
       "<style scoped>\n",
       "    .dataframe tbody tr th:only-of-type {\n",
       "        vertical-align: middle;\n",
       "    }\n",
       "\n",
       "    .dataframe tbody tr th {\n",
       "        vertical-align: top;\n",
       "    }\n",
       "\n",
       "    .dataframe thead th {\n",
       "        text-align: right;\n",
       "    }\n",
       "</style>\n",
       "<table border=\"1\" class=\"dataframe\">\n",
       "  <thead>\n",
       "    <tr style=\"text-align: right;\">\n",
       "      <th></th>\n",
       "      <th>hgroup</th>\n",
       "      <th>n</th>\n",
       "      <th>mn_sgrnt_low_inc</th>\n",
       "      <th>sumsqdv_sgrnt_low</th>\n",
       "      <th>sd_sgrnt_low</th>\n",
       "    </tr>\n",
       "  </thead>\n",
       "  <tbody>\n",
       "    <tr>\n",
       "      <th>1</th>\n",
       "      <td>Highest</td>\n",
       "      <td>34</td>\n",
       "      <td>6340.64</td>\n",
       "      <td>1.80e+09</td>\n",
       "      <td>7388.537</td>\n",
       "    </tr>\n",
       "    <tr>\n",
       "      <th>2</th>\n",
       "      <td>Very high</td>\n",
       "      <td>37</td>\n",
       "      <td>6196.042</td>\n",
       "      <td>1.58e+09</td>\n",
       "      <td>6616.836</td>\n",
       "    </tr>\n",
       "    <tr>\n",
       "      <th>3</th>\n",
       "      <td>High</td>\n",
       "      <td>72</td>\n",
       "      <td>3874.735</td>\n",
       "      <td>1.20e+09</td>\n",
       "      <td>4113.963</td>\n",
       "    </tr>\n",
       "    <tr>\n",
       "      <th>4</th>\n",
       "      <td>Some/None</td>\n",
       "      <td>438</td>\n",
       "      <td>3109.573</td>\n",
       "      <td>3.13e+09</td>\n",
       "      <td>2675.931</td>\n",
       "    </tr>\n",
       "  </tbody>\n",
       "</table>\n",
       "</div>"
      ]
     },
     "metadata": {},
     "output_type": "display_data"
    }
   ],
   "source": [
    "%head"
   ]
  },
  {
   "cell_type": "code",
   "execution_count": 20,
   "metadata": {
    "tags": []
   },
   "outputs": [
    {
     "name": "stdout",
     "output_type": "stream",
     "text": [
      "\u001b[31mvariable se_sgrnt_low already defined\n",
      "r(110);\u001b[0m\n"
     ]
    }
   ],
   "source": [
    "gen se_sgrnt_low= sd_sgrnt_low/sqrt(n-1)"
   ]
  },
  {
   "cell_type": "code",
   "execution_count": 21,
   "metadata": {
    "tags": []
   },
   "outputs": [
    {
     "data": {
      "text/html": [
       "<div>\n",
       "<style scoped>\n",
       "    .dataframe tbody tr th:only-of-type {\n",
       "        vertical-align: middle;\n",
       "    }\n",
       "\n",
       "    .dataframe tbody tr th {\n",
       "        vertical-align: top;\n",
       "    }\n",
       "\n",
       "    .dataframe thead th {\n",
       "        text-align: right;\n",
       "    }\n",
       "</style>\n",
       "<table border=\"1\" class=\"dataframe\">\n",
       "  <thead>\n",
       "    <tr style=\"text-align: right;\">\n",
       "      <th></th>\n",
       "      <th>hgroup</th>\n",
       "      <th>n</th>\n",
       "      <th>mn_sgrnt_low_inc</th>\n",
       "      <th>sumsqdv_sgrnt_low</th>\n",
       "      <th>sd_sgrnt_low</th>\n",
       "      <th>se_sgrnt_low</th>\n",
       "      <th>hisgrnt_low</th>\n",
       "      <th>losgrnt_low</th>\n",
       "    </tr>\n",
       "  </thead>\n",
       "  <tbody>\n",
       "    <tr>\n",
       "      <th>1</th>\n",
       "      <td>Highest</td>\n",
       "      <td>34</td>\n",
       "      <td>6340.64</td>\n",
       "      <td>1.80e+09</td>\n",
       "      <td>7388.537</td>\n",
       "      <td>1286.179</td>\n",
       "      <td>8861.551</td>\n",
       "      <td>3819.729</td>\n",
       "    </tr>\n",
       "    <tr>\n",
       "      <th>2</th>\n",
       "      <td>Very high</td>\n",
       "      <td>37</td>\n",
       "      <td>6196.042</td>\n",
       "      <td>1.58e+09</td>\n",
       "      <td>6616.836</td>\n",
       "      <td>1102.806</td>\n",
       "      <td>8357.542</td>\n",
       "      <td>4034.542</td>\n",
       "    </tr>\n",
       "    <tr>\n",
       "      <th>3</th>\n",
       "      <td>High</td>\n",
       "      <td>72</td>\n",
       "      <td>3874.735</td>\n",
       "      <td>1.20e+09</td>\n",
       "      <td>4113.963</td>\n",
       "      <td>488.2376</td>\n",
       "      <td>4831.681</td>\n",
       "      <td>2917.789</td>\n",
       "    </tr>\n",
       "    <tr>\n",
       "      <th>4</th>\n",
       "      <td>Some/None</td>\n",
       "      <td>438</td>\n",
       "      <td>3109.573</td>\n",
       "      <td>3.13e+09</td>\n",
       "      <td>2675.931</td>\n",
       "      <td>128.0071</td>\n",
       "      <td>3360.468</td>\n",
       "      <td>2858.679</td>\n",
       "    </tr>\n",
       "  </tbody>\n",
       "</table>\n",
       "</div>"
      ]
     },
     "metadata": {},
     "output_type": "display_data"
    }
   ],
   "source": [
    "%head"
   ]
  },
  {
   "cell_type": "code",
   "execution_count": 22,
   "metadata": {
    "tags": []
   },
   "outputs": [
    {
     "name": "stdout",
     "output_type": "stream",
     "text": [
      "\u001b[31mvariable hisgrnt_low already defined\n",
      "r(110);\u001b[0m\n"
     ]
    }
   ],
   "source": [
    "generate hisgrnt_low = mn_sgrnt_low_inc + 1.96 * se_sgrnt_low\n",
    "generate losgrnt_low = mn_sgrnt_low_inc - 1.96 * se_sgrnt_low "
   ]
  },
  {
   "cell_type": "code",
   "execution_count": 23,
   "metadata": {
    "tags": []
   },
   "outputs": [
    {
     "data": {
      "text/html": [
       "<div>\n",
       "<style scoped>\n",
       "    .dataframe tbody tr th:only-of-type {\n",
       "        vertical-align: middle;\n",
       "    }\n",
       "\n",
       "    .dataframe tbody tr th {\n",
       "        vertical-align: top;\n",
       "    }\n",
       "\n",
       "    .dataframe thead th {\n",
       "        text-align: right;\n",
       "    }\n",
       "</style>\n",
       "<table border=\"1\" class=\"dataframe\">\n",
       "  <thead>\n",
       "    <tr style=\"text-align: right;\">\n",
       "      <th></th>\n",
       "      <th>hgroup</th>\n",
       "      <th>n</th>\n",
       "      <th>mn_sgrnt_low_inc</th>\n",
       "      <th>sumsqdv_sgrnt_low</th>\n",
       "      <th>sd_sgrnt_low</th>\n",
       "      <th>se_sgrnt_low</th>\n",
       "      <th>hisgrnt_low</th>\n",
       "      <th>losgrnt_low</th>\n",
       "    </tr>\n",
       "  </thead>\n",
       "  <tbody>\n",
       "    <tr>\n",
       "      <th>1</th>\n",
       "      <td>Highest</td>\n",
       "      <td>34</td>\n",
       "      <td>6340.64</td>\n",
       "      <td>1.80e+09</td>\n",
       "      <td>7388.537</td>\n",
       "      <td>1286.179</td>\n",
       "      <td>8861.551</td>\n",
       "      <td>3819.729</td>\n",
       "    </tr>\n",
       "    <tr>\n",
       "      <th>2</th>\n",
       "      <td>Very high</td>\n",
       "      <td>37</td>\n",
       "      <td>6196.042</td>\n",
       "      <td>1.58e+09</td>\n",
       "      <td>6616.836</td>\n",
       "      <td>1102.806</td>\n",
       "      <td>8357.542</td>\n",
       "      <td>4034.542</td>\n",
       "    </tr>\n",
       "    <tr>\n",
       "      <th>3</th>\n",
       "      <td>High</td>\n",
       "      <td>72</td>\n",
       "      <td>3874.735</td>\n",
       "      <td>1.20e+09</td>\n",
       "      <td>4113.963</td>\n",
       "      <td>488.2376</td>\n",
       "      <td>4831.681</td>\n",
       "      <td>2917.789</td>\n",
       "    </tr>\n",
       "    <tr>\n",
       "      <th>4</th>\n",
       "      <td>Some/None</td>\n",
       "      <td>438</td>\n",
       "      <td>3109.573</td>\n",
       "      <td>3.13e+09</td>\n",
       "      <td>2675.931</td>\n",
       "      <td>128.0071</td>\n",
       "      <td>3360.468</td>\n",
       "      <td>2858.679</td>\n",
       "    </tr>\n",
       "  </tbody>\n",
       "</table>\n",
       "</div>"
      ]
     },
     "metadata": {},
     "output_type": "display_data"
    }
   ],
   "source": [
    "%head"
   ]
  },
  {
   "cell_type": "markdown",
   "metadata": {},
   "source": [
    "### 3. Create a bar graph with confidence interval whiskers\n",
    "\n",
    "Create a bar graph that compares interval ratio data for a dependent variable across different nominal categories from an independent variable. If you are using Charlie's data, do this for the state grant aid per low income student variable name **sgrnt_low**"
   ]
  },
  {
   "cell_type": "code",
   "execution_count": 24,
   "metadata": {
    "tags": []
   },
   "outputs": [
    {
     "data": {
      "image/png": "[encoded data removed]",
      "text/plain": [
       "<IPython.core.display.Image object>"
      ]
     },
     "metadata": {},
     "output_type": "display_data"
    }
   ],
   "source": [
    "graph twoway (bar mn_sgrnt_low_inc hgroup, barw(.5)) ///\n",
    "(rcap hisgrnt_low losgrnt_low hgroup) , ///\n",
    "xlabel( 1 \"Highest\" 2 \"Very High\" 3 \"High\" 4 \"Some/None\", noticks) ///\n",
    "ytitle(\"State grant aid per low income student (2015 $)\") ///\n",
    "ylabel(0(5000)20000, format(%10.0fc)) ///\n",
    "xtitle(\"Research Category\") legend(off) name(sgrntbar, replace) ///\n",
    "title(\"Institutional Grant Aid\")  ///\n",
    "yline(1936.825, lp(_) lcolor(red) lstyle(foreground)) scheme(plotplainblind)"
   ]
  },
  {
   "cell_type": "code",
   "execution_count": null,
   "metadata": {},
   "outputs": [],
   "source": []
  },
  {
   "cell_type": "markdown",
   "metadata": {},
   "source": [
    "### 4. Summarize what you learned from the bar graph\n",
    "\n",
    "Do the confidence intervals overlap across categories or not? What does this mean?"
   ]
  },
  {
   "cell_type": "markdown",
   "metadata": {},
   "source": [
    "Yes - there is overlap over multiple categories, and 'Highest'/'very High' are almost completely overlapping. This means that the actual value for these variables may be the same across those categories, suggesting that research type has little explanatory power for the amount of state grant aid received per student. Their relationship is not statistically significant. "
   ]
  },
  {
   "cell_type": "markdown",
   "metadata": {},
   "source": [
    "### 4. Estimate OLS regression statistics for the relationship between two interval ratio variables and ouput the table below\n",
    "\n",
    "If you use Charlie's data, use the loan repayment variable and the **netprice4lowincome** variable."
   ]
  },
  {
   "cell_type": "code",
   "execution_count": 25,
   "metadata": {
    "tags": []
   },
   "outputs": [
    {
     "name": "stdout",
     "output_type": "stream",
     "text": [
      "(19 vars, 33 obs)\n",
      "opeid               stabbr              spend_ugd_4yr_low   instatetuition\n",
      "acceptrate          hgroup              x_aid_bysticker     xstring\n",
      "y_lo_inc_rpy        upgrntn             sgrnt_low_inc       ystring\n",
      "lo_inc_debt_mdn     all_under           igrnt_low_inc       markerlabel\n",
      "instnm              netprice4lowincome  sandigrnt_low_inc\n"
     ]
    }
   ],
   "source": [
    "insheet using \"C:\\Users\\User\\Documents\\GRAD STATS LAB SEM 2\\Soc211 Assignments\\Problem set 2\\loanrepay2013_highestresearch.csv\", clear\n",
    "ds, varwidth(25)"
   ]
  },
  {
   "cell_type": "code",
   "execution_count": 26,
   "metadata": {
    "tags": []
   },
   "outputs": [
    {
     "name": "stdout",
     "output_type": "stream",
     "text": [
      "\n",
      "      Source |       SS           df       MS      Number of obs   =        33\n",
      "-------------+----------------------------------   F(1, 31)        =      8.48\n",
      "       Model |  473.546336         1  473.546336   Prob > F        =    0.0066\n",
      "    Residual |  1730.93895        31  55.8367402   R-squared       =    0.2148\n",
      "-------------+----------------------------------   Adj R-squared   =    0.1895\n",
      "       Total |  2204.48528        32  68.8901651   Root MSE        =    7.4724\n",
      "\n",
      "------------------------------------------------------------------------------\n",
      "y_lo_inc_rpy | Coefficient  Std. err.      t    P>|t|     [95% conf. interval]\n",
      "-------------+----------------------------------------------------------------\n",
      "netprice4l~e |  -.0011662   .0004005    -2.91   0.007    -.0019829   -.0003495\n",
      "       _cons |   76.56364   3.782187    20.24   0.000     68.84982    84.27746\n",
      "------------------------------------------------------------------------------\n"
     ]
    }
   ],
   "source": [
    "regress y_lo_inc_rpy netprice4lowincome"
   ]
  },
  {
   "cell_type": "markdown",
   "metadata": {},
   "source": [
    "### 5. Interpret the output\n",
    "\n",
    "1. What is the coefficient for your independent variable? What does it say about the size and direction of the relationship you estimated?\n",
    "\n",
    "2. What is the p-value for the coefficient for your independent variable? What does it indicate about how much confidence we can have in the estimated relationship?\n",
    "\n",
    "3. What is the $r^2$ coefficient of determination? What does it say about how much variation in your dependent variable is explained by the independent variable?\n",
    "\n",
    "4. What is the F-ratio for your $r^2$. What does it indicate about how much confidence we can have in the $r^2$ estimate?\n",
    "\n"
   ]
  },
  {
   "cell_type": "markdown",
   "metadata": {},
   "source": [
    "1. The coefficient for 'net price of college for low income students' is -.001. There is a very small negative relationship between the independent and dependent variable \n",
    "2. The p value is .007, which is less than .05. This means that the relationship is statistically significant. \n",
    "3. The coefficient of determination is .21. This means that 21% of the variance in the dependent variable is explained by the independent variable. \n",
    "4. The f-ratio is 8.48 which is larger than 4.16, so we have high confidence in the r-squared value. "
   ]
  },
  {
   "cell_type": "markdown",
   "metadata": {},
   "source": [
    "### 6. Illustrate the OLS relationship with a scatter plot that includes a fitted line"
   ]
  },
  {
   "cell_type": "code",
   "execution_count": 28,
   "metadata": {
    "tags": []
   },
   "outputs": [
    {
     "data": {
      "image/png": "[encoded data removed]",
      "text/plain": [
       "<IPython.core.display.Image object>"
      ]
     },
     "metadata": {},
     "output_type": "display_data"
    }
   ],
   "source": [
    "tw (scatter y_lo_inc_rpy netprice4lowincome) ///\n",
    "(lfit y_lo_inc_rpy netprice4lowincome, color(red)), ///\n",
    "ytitle(\"% Loan repayment\") ///\n",
    "xtitle(\"Net price paid per low income student\") legend(off) scheme(plotplainblind)"
   ]
  },
  {
   "cell_type": "code",
   "execution_count": null,
   "metadata": {},
   "outputs": [],
   "source": [
    "log close"
   ]
  }
 ],
 "metadata": {
  "kernelspec": {
   "display_name": "Stata (nbstata)",
   "language": "stata",
   "name": "nbstata"
  },
  "language_info": {
   "file_extension": ".do",
   "mimetype": "text/x-stata",
   "name": "stata",
   "version": "17"
  }
 },
 "nbformat": 4,
 "nbformat_minor": 4
}
