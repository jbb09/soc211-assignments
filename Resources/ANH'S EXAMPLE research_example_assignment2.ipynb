{
 "cells": [
  {
   "cell_type": "markdown",
   "metadata": {},
   "source": [
    "## Research example assignment 2 \n",
    "\n",
    "Anh Nguyen Tran\n",
    "\n",
    "Religion, Education, and Views on Abortion: Basic Example Exercise\n",
    "\n",
    "02/08/2024"
   ]
  },
  {
   "cell_type": "markdown",
   "metadata": {},
   "source": [
    "### 1. Write a paragraph about your hypotheses\n",
    "[Your answer here should explain:\n",
    "\n",
    "1. What are your dependent variables? Why do they interest you?\n",
    "2. What are your independent variables? What direction to you hypothesize will be the relationship between your dependent variable and your dependent variables?\n",
    "3. Why do you think your dependent variables are associated with your independent variables?\n",
    "4. What are your control variables? Do you think they will show any spurious, intervening, or interactive relationships? Why?]"
   ]
  },
  {
   "cell_type": "code",
   "execution_count": 2,
   "metadata": {},
   "outputs": [],
   "source": [
    "// Skip this question for now (will come back to this later)"
   ]
  },
  {
   "cell_type": "markdown",
   "metadata": {},
   "source": [
    "### 1. Setting up your session\n",
    "\n",
    "In the code cell below, do the following:\n",
    "\n",
    "1. set current directory \n",
    "2. set more off \n",
    "3. create log file \n",
    "4. download the data from its source if it's available online\n",
    "5. read the data in [preferably only variables you are going to use]"
   ]
  },
  {
   "cell_type": "code",
   "execution_count": 3,
   "metadata": {
    "tags": []
   },
   "outputs": [
    {
     "name": "stdout",
     "output_type": "stream",
     "text": [
      "unable to change to /Users/anhnguyentran/Desktop/Grad_Stats_II/soc211_assignmen\n",
      "\u001b[31m> ts\n",
      "r(170);\u001b[0m\n"
     ]
    }
   ],
   "source": [
    "cd \"/Users/anhnguyentran/Desktop/Grad_Stats_II/soc211_assignments\""
   ]
  },
  {
   "cell_type": "code",
   "execution_count": 4,
   "metadata": {
    "tags": []
   },
   "outputs": [
    {
     "name": "stdout",
     "output_type": "stream",
     "text": [
      "(-set more- irrelevant in this version of Stata)\n"
     ]
    }
   ],
   "source": [
    "set more off"
   ]
  },
  {
   "cell_type": "code",
   "execution_count": null,
   "metadata": {
    "tags": []
   },
   "outputs": [],
   "source": [
    "log using \"Log for Research Assignment 2.log\", replace"
   ]
  },
  {
   "cell_type": "markdown",
   "metadata": {},
   "source": [
    "#### Example commands depending on the type of dataset you are loading in\n",
    "\n",
    "// For people with .dta aka Stata files\n",
    "\n",
    "* use \"/Users/anhnguyentran/Desktop/Grad_Stats_II/soc211_assignments/GSS_2020_panel_stata_1a/gss2020panel_r1a.dta\", clear\n",
    "\n",
    "// For people with csv files\n",
    "\n",
    "* insheet using \"/Users/anhnguyentran/Desktop/Grad_Stats_II/soc211_assignments/agilepredatorsdata20191116.csv\", clear\n",
    "\n",
    "// For people with excel files\n",
    "\n",
    "* import excel using \"/Users/anhnguyentran/Desktop/Grad_Stats_II/soc211_assignments/PIRUS_V4.xlsx\", clear\n",
    "\n",
    "// To load in only certain variables, put the variables you want before \"using\" for both csv and excel files and before the path directory for stata files\n",
    "\n",
    "* import excel Loc_Plot_State1 Year_Exposure Plot_Target1 Plot_Target2 Plot_Target3 Violent using /// \"/Users/anhnguyentran/Desktop/Grad_Stats_II/soc211_assignments/PIRUS_V4.xlsx\", clear"
   ]
  },
  {
   "cell_type": "code",
   "execution_count": 3,
   "metadata": {
    "tags": []
   },
   "outputs": [
    {
     "name": "stdout",
     "output_type": "stream",
     "text": [
      "file\n",
      "    /Users/anhnguyentran/Desktop/Grad_Stats_II/soc211_assignments/GSS_2020_pa\n",
      "\u001b[31m    > nel_stata_1a/gss2020panel_r1a.dta not found\n",
      "r(601);\u001b[0m\n"
     ]
    }
   ],
   "source": [
    "use \"/Users/anhnguyentran/Desktop/Grad_Stats_II/soc211_assignments/GSS_2020_panel_stata_1a/gss2020panel_r1a.dta\", clear"
   ]
  },
  {
   "cell_type": "markdown",
   "metadata": {
    "tags": []
   },
   "source": [
    "### 2. Browse the data\n",
    "\n",
    "Do the following in separate cells. Do do these in separate cells, you will need to use the right click \"split cell\" option:\n",
    "\n",
    "1. Use \"describe\" to print details about the dataset\n",
    "2. Print the heads and tables of the data using the appropriate magic\n",
    "3. label the unique identifier variable\n",
    "4. Generate a frequency table to show the N for each unit of time if there is data for multiple units in time\n",
    "5. Check for missing data overall and within key categories of analysis (time, independent or dependent variable categories, etc)\n",
    "6. use summarize to create a table with summary statistics for each variable you plan to analyze"
   ]
  },
  {
   "cell_type": "code",
   "execution_count": null,
   "metadata": {
    "tags": []
   },
   "outputs": [],
   "source": [
    "*describe\n",
    "describe anesid yearid year_1a year_1b year_2 gender1_1a income_1a relig_1a educ_1a race_1a abany_1a hrs1_1a"
   ]
  },
  {
   "cell_type": "code",
   "execution_count": null,
   "metadata": {
    "tags": []
   },
   "outputs": [],
   "source": [
    "codebook anesid yearid year_1a year_1b year_2 gender1_1a income_1a relig_1a educ_1a race_1a abany_1a hrs1_1a"
   ]
  },
  {
   "cell_type": "code",
   "execution_count": null,
   "metadata": {
    "tags": []
   },
   "outputs": [],
   "source": [
    "// Checking for duplicates to make sure you found the correct unique identifier variable\n",
    "*This is panel data, so I have to use both the unique case identifying number for the person and the years attach to them\n",
    "\n",
    "sort anesid yearid\n",
    "quietly by anesid yearid: gen dup = cond(_N==1, 0, _n)"
   ]
  },
  {
   "cell_type": "code",
   "execution_count": null,
   "metadata": {
    "tags": []
   },
   "outputs": [],
   "source": [
    "// You want this table to show that there are no duplicates (or in other words, all the observations equal 0 in the table)\n",
    "\n",
    "tab dup"
   ]
  },
  {
   "cell_type": "code",
   "execution_count": null,
   "metadata": {
    "tags": []
   },
   "outputs": [],
   "source": [
    "// Labeling the unique ID variables\n",
    "\n",
    "label variable anesid \"Respodent's ID Number\"\n",
    "label variable yearid \"Year ID attached to Respondents\""
   ]
  },
  {
   "cell_type": "code",
   "execution_count": null,
   "metadata": {
    "tags": []
   },
   "outputs": [],
   "source": [
    "// Check to make sure you labeled the variables correctly\n",
    "\n",
    "codebook anesid yearid"
   ]
  },
  {
   "cell_type": "code",
   "execution_count": null,
   "metadata": {
    "tags": []
   },
   "outputs": [],
   "source": [
    "// Do summary statistics for all numeric variables, excluding the ID variables\n",
    "// For nominal variables, use the tab command instead\n",
    "\n",
    "tab year_1a, missing\n",
    "tab year_1b, missing\n",
    "tab year_2, missing\n",
    "tab gender1_1a, missing\n",
    "sum income_1a, detail\n",
    "tab relig_1a, missing\n",
    "sum educ_1a, detail\n",
    "tab race_1a, missing\n",
    "sum hrs1_1a, detail"
   ]
  },
  {
   "cell_type": "markdown",
   "metadata": {},
   "source": [
    "### 3. Write a note summarizing what you learned from browsing the data\n",
    "\n",
    "[your note here]"
   ]
  },
  {
   "cell_type": "code",
   "execution_count": null,
   "metadata": {},
   "outputs": [],
   "source": [
    "// What should I write for this section? (Some suggestions listed below)\n",
    "\n",
    "// Is the data cross-sectional or panel data?\n",
    "// What years are represented by your data? How many missing data do you have for your key variables?\n",
    "// What type of variables (nominal, etc) are the social factors that you are interested in looking at?\n",
    "// If your dependent variable is numeric, what is the mean or median?\n",
    "// If your dependent variable is categorical, what is the mode?"
   ]
  },
  {
   "cell_type": "code",
   "execution_count": null,
   "metadata": {
    "tags": []
   },
   "outputs": [],
   "source": [
    "// After you do this, go back to the first Q1 and answer the questions. Come up with a hypothesis! :)"
   ]
  },
  {
   "cell_type": "markdown",
   "metadata": {},
   "source": [
    "### 4. Create univariate histograms of interval ratio variables you plan to analyze.\n",
    "\n",
    "Write at least 3 forloops to generate histograms for all the variables you plan to analyze. Create titles for each histogram that notes whether it is a dependent, independent, or control variable (you can also note in titles whether control vars control for spurious, intervening, or interactive relationships). Begin with your dependent variables. Then make a note below to describe the shapes of the distributions and their implications for your study.\n",
    "\n",
    "[your note here]"
   ]
  },
  {
   "cell_type": "code",
   "execution_count": null,
   "metadata": {
    "tags": []
   },
   "outputs": [],
   "source": [
    "// Summary of question 4: Charlie is basically asking you to create histograms with titles for all your numeric variables\n",
    "\n",
    "histogram income_1a, frequency title(\"Household Income (Control for Spuriousness)\")"
   ]
  },
  {
   "cell_type": "code",
   "execution_count": null,
   "metadata": {
    "tags": []
   },
   "outputs": [],
   "source": [
    "histogram educ_1a, frequency title(\"Education (Interactive Variable)\")"
   ]
  },
  {
   "cell_type": "code",
   "execution_count": null,
   "metadata": {
    "tags": []
   },
   "outputs": [],
   "source": [
    "histogram hrs1_1a, frequency title(\"Hours Worked (Intervening Variable)\")"
   ]
  },
  {
   "cell_type": "code",
   "execution_count": null,
   "metadata": {
    "tags": []
   },
   "outputs": [],
   "source": [
    "// I think he might want loop commands for this (maybe idk). Here's an example\n",
    "\n",
    "foreach x of varlist income_1a educ_1a hrs1_1a {\n",
    "    histogram `x'\n",
    "}\n",
    "\n",
    "// I have no idea why only one histogram shows up and not the other. Clearly both ran. But even in Stata, only one graph\n",
    "// is generated at a time. Also, you can't insert title options for histograms using a a loop command because it is unique\n",
    "// for both of them (lol)"
   ]
  },
  {
   "cell_type": "markdown",
   "metadata": {},
   "source": [
    "### 5. Create univariate count and % frequency tables for all categorical (nominal) variables you plan to analyze\n",
    "\n",
    "Again, use forloops. Then write a note below with a narrative summary of the distributions and their implications for your study.\n",
    "\n",
    "[your note here]"
   ]
  },
  {
   "cell_type": "code",
   "execution_count": null,
   "metadata": {},
   "outputs": [],
   "source": [
    "// Charlie didn't say anything about titles here, so let's go ahead and use a loop command\n",
    "\n",
    "foreach x of varlist year_1a year_1b year_2 gender1_1a income_1a relig_1a educ_1a race_1a abany_1a hrs1_1a {\n",
    "    replace `x'=. if `x'==.i | `x'==.n | `x'==.d\n",
    "    tab `x', missing\n",
    "}"
   ]
  },
  {
   "cell_type": "markdown",
   "metadata": {},
   "source": [
    "### 6. Make a relevant bivariate table and graph for your study\n",
    "\n",
    "Make the appropriate a) bivariate table and b) graph dependening on whether your dependent variable is nominal/categorical or interval ratio. If your dependent variable is nominal, make sure it is the row variable in the table. If your independent variable is interval ratio, convert it into an ordinal variable by creating a new variable with 3 to 5 categories each with an equal range of the interval ratio variable. Then use the new ordinal variable as your independent variable in the bivariate table and graph."
   ]
  },
  {
   "cell_type": "code",
   "execution_count": null,
   "metadata": {},
   "outputs": [],
   "source": [
    "// Choose one dependent variable and one independent you are most interested in\n",
    "\n",
    "codebook abany_1a"
   ]
  },
  {
   "cell_type": "code",
   "execution_count": null,
   "metadata": {},
   "outputs": [],
   "source": [
    "// Cleaning this variable up to make it more interpretable\n",
    "\n",
    "gen abortion_clean=abany_1a\n",
    "replace abortion_clean=0 if abortion_clean==2\n",
    "\n",
    "label variable abortion_clean \"does the respondent support women's right to abortion for any reason?\"\n",
    "label define abortion_clean 0 \"no\" 1 \"yes\"\n",
    "label values abortion_clean abortion_clean\n",
    "\n",
    "codebook abortion_clean"
   ]
  },
  {
   "cell_type": "code",
   "execution_count": null,
   "metadata": {
    "tags": []
   },
   "outputs": [],
   "source": [
    "graph hbar (mean) abortion_clean, over(relig_1a) title(\"Views on Abortion and Religious Affiliation\")"
   ]
  },
  {
   "cell_type": "markdown",
   "metadata": {},
   "source": [
    "### 7. Create partial bivariate tables and graphs\n",
    "\n",
    "For the bivariate table and graph you made for problem 6, split both into partial tables and graphs using one of your nominal/categorical control variables. If your control variable is interval ratio, convert it into an ordinal variable by creating a variable with 3 to 5 categories each with an equal range of the interval ratio variable.  Then use the new ordinal variable as your control variable to create the partial tables and graphs."
   ]
  },
  {
   "cell_type": "code",
   "execution_count": null,
   "metadata": {},
   "outputs": [],
   "source": [
    "// Choose one more independent variable you care about for this assignment\n",
    "codebook educ_1a\n",
    "sum educ_1a"
   ]
  },
  {
   "cell_type": "code",
   "execution_count": 1,
   "metadata": {},
   "outputs": [
    {
     "data": {
      "text/html": [
       "<style>div.jp-Notebook .datagrid-container {min-height: 448px; }</style>"
      ],
      "text/plain": [
       "<IPython.core.display.HTML object>"
      ]
     },
     "metadata": {},
     "output_type": "display_data"
    },
    {
     "name": "stdout",
     "output_type": "stream",
     "text": [
      "\u001b[31meduc_1a not found\n",
      "r(111);\u001b[0m\n"
     ]
    }
   ],
   "source": [
    "// Converting the numeric variable I care about into a categorical one\n",
    "\n",
    "gen education=educ_1a\n",
    "replace education=0 if education<12\n",
    "replace education=1 if education==12\n",
    "replace education=2 if education>12\n",
    "\n",
    "label variable education \"what level of education does the respondent have?\"\n",
    "label define education 0 \"less than high school\" 1 \"high school degree\" 2 \"went into higher education\"\n",
    "label values education education\n",
    "\n",
    "codebook education"
   ]
  },
  {
   "cell_type": "code",
   "execution_count": null,
   "metadata": {},
   "outputs": [],
   "source": [
    "// Run some partial graph\n",
    "\n",
    "graph hbar (mean) abortion_clean, over(relig_1a) by(education) title(\"Partial Bivariate Graph\")"
   ]
  },
  {
   "cell_type": "markdown",
   "metadata": {},
   "source": [
    "### Interpret of your bivariate and partial tables and graphs\n",
    "\n",
    "Is there a relationship between your dependent and independent variables? Is it weak, strong, or non-existent? Do adding controls reveal any spurious, intervening, or interactive relationships? Do they conform with your hypotheses? If not, do you have any ideas for why and how you might test the reason why?\n",
    "\n",
    "[your answer here (refer to first Q1) - Good luck guys]"
   ]
  },
  {
   "cell_type": "code",
   "execution_count": null,
   "metadata": {},
   "outputs": [],
   "source": [
    "log close"
   ]
  },
  {
   "cell_type": "code",
   "execution_count": null,
   "metadata": {},
   "outputs": [],
   "source": []
  }
 ],
 "metadata": {
  "kernelspec": {
   "display_name": "Stata (nbstata)",
   "language": "stata",
   "name": "nbstata"
  },
  "language_info": {
   "file_extension": ".do",
   "mimetype": "text/x-stata",
   "name": "stata",
   "version": "17"
  }
 },
 "nbformat": 4,
 "nbformat_minor": 4
}
