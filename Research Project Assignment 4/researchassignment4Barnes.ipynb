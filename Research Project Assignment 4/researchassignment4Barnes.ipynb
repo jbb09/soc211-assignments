{
 "cells": [
  {
   "cell_type": "markdown",
   "metadata": {},
   "source": [
    "# Research assignment 4\n",
    "\n",
    "\n",
    "Justin Barnes\n",
    "\n",
    "3/11/24"
   ]
  },
  {
   "cell_type": "markdown",
   "metadata": {},
   "source": [
    "## 1. Develop hypotheses about interactions between your independent variables [1 pt]\n",
    "\n",
    "You can use the GSS data, Student aid data, or your own data"
   ]
  },
  {
   "cell_type": "markdown",
   "metadata": {},
   "source": [
    "    A. Write at least one hypothesis involving one of the two following types of interactions\n",
    "        1) nominal * nominal\n",
    "        2) nominal * interval-ratio\n",
    "    \n",
    "## For this assignment, I am interested in the relationship between education, political leaning, age (IVs) and support for increased environmental spending (DV).\n",
    "\n",
    "## H1: Within the standard model, I expect that support for environmental spending will be:\n",
    "- positively associated with education\n",
    "- greater for left-leaning respondents in comparison to other political categories\n",
    "- lower for older respondents.\n",
    "\n",
    "    B. State the predicted direction of association between your dependent variable and:\n",
    "        1) each of the 2 independent variables by themselves\n",
    "        \n",
    "## H1a: Age will have a weak but negative association with support for environmental spending\n",
    "## H1b: Left-leaning respondents will generally be more supportive of environmental spending than right-leaning respondents\n",
    "        2) the interaction of the 2 indendent variables\n",
    "## H1i: Younger generations of right-leaning respondents will have different levels of support for environmental spending than other age groups, more similar to left-leaning respondents. \n",
    "\n",
    "        3) you can predict that there is no association\n",
    "        \n",
    "    C. Write a couple sentences about the theoretical reasons (prior knowledge / research) for each of your predictions\n",
    "    \n",
    "## According to Lim (2020), \"environmental issues pose an ideological risk to conservatives\" and \"conservatives are negatively associated with attitudes to environmental spending...\". With that in mind, I would expect right-leaning respondents to trend lower on my IV; however, research into my own interests have suggested that younger people may be more concerned in general, so I think this will impact their results. "
   ]
  },
  {
   "cell_type": "code",
   "execution_count": 1,
   "metadata": {
    "tags": []
   },
   "outputs": [
    {
     "data": {
      "text/html": [
       "<style>div.jp-Notebook .datagrid-container {min-height: 448px; }</style>"
      ],
      "text/plain": [
       "<IPython.core.display.HTML object>"
      ]
     },
     "metadata": {},
     "output_type": "display_data"
    }
   ],
   "source": [
    "use natenvir educ age race partyid using GSS2018.dta, replace"
   ]
  },
  {
   "cell_type": "code",
   "execution_count": 2,
   "metadata": {
    "tags": []
   },
   "outputs": [
    {
     "data": {
      "text/html": [
       "<div>\n",
       "<style scoped>\n",
       "    .dataframe tbody tr th:only-of-type {\n",
       "        vertical-align: middle;\n",
       "    }\n",
       "\n",
       "    .dataframe tbody tr th {\n",
       "        vertical-align: top;\n",
       "    }\n",
       "\n",
       "    .dataframe thead th {\n",
       "        text-align: right;\n",
       "    }\n",
       "</style>\n",
       "<table border=\"1\" class=\"dataframe\">\n",
       "  <thead>\n",
       "    <tr style=\"text-align: right;\">\n",
       "      <th></th>\n",
       "      <th>age</th>\n",
       "      <th>educ</th>\n",
       "      <th>race</th>\n",
       "      <th>partyid</th>\n",
       "      <th>natenvir</th>\n",
       "    </tr>\n",
       "  </thead>\n",
       "  <tbody>\n",
       "    <tr>\n",
       "      <th>1</th>\n",
       "      <td></td>\n",
       "      <td></td>\n",
       "      <td>white</td>\n",
       "      <td>not very strong republican</td>\n",
       "      <td>about right</td>\n",
       "    </tr>\n",
       "    <tr>\n",
       "      <th>2</th>\n",
       "      <td></td>\n",
       "      <td></td>\n",
       "      <td>white</td>\n",
       "      <td>independent, close to democrat</td>\n",
       "      <td>iap</td>\n",
       "    </tr>\n",
       "    <tr>\n",
       "      <th>3</th>\n",
       "      <td></td>\n",
       "      <td></td>\n",
       "      <td>white</td>\n",
       "      <td>independent, close to republican</td>\n",
       "      <td>too little</td>\n",
       "    </tr>\n",
       "    <tr>\n",
       "      <th>4</th>\n",
       "      <td></td>\n",
       "      <td></td>\n",
       "      <td>white</td>\n",
       "      <td>independent, close to democrat</td>\n",
       "      <td>iap</td>\n",
       "    </tr>\n",
       "    <tr>\n",
       "      <th>5</th>\n",
       "      <td></td>\n",
       "      <td></td>\n",
       "      <td>black</td>\n",
       "      <td>strong republican</td>\n",
       "      <td>iap</td>\n",
       "    </tr>\n",
       "  </tbody>\n",
       "</table>\n",
       "</div>"
      ]
     },
     "metadata": {},
     "output_type": "display_data"
    }
   ],
   "source": [
    "%head"
   ]
  },
  {
   "cell_type": "code",
   "execution_count": 3,
   "metadata": {
    "tags": []
   },
   "outputs": [
    {
     "name": "stdout",
     "output_type": "stream",
     "text": [
      "\n",
      "-------------------------------------------------------------------------------\n",
      "natenvir                                     improving & protecting environment\n",
      "-------------------------------------------------------------------------------\n",
      "\n",
      "                  Type: Numeric (byte)\n",
      "                 Label: NATSPEND\n",
      "\n",
      "                 Range: [1,3]                         Units: 1\n",
      "         Unique values: 3                         Missing .: 0/2,348\n",
      "       Unique mv codes: 3                        Missing .*: 1,191/2,348\n",
      "\n",
      "            Tabulation: Freq.   Numeric  Label\n",
      "                          790         1  too little\n",
      "                          284         2  about right\n",
      "                           83         3  too much\n",
      "                           30        .d  don't know\n",
      "                        1,160        .i  iap\n",
      "                            1        .n  no answer\n"
     ]
    }
   ],
   "source": [
    "codebook natenvir"
   ]
  },
  {
   "cell_type": "code",
   "execution_count": 4,
   "metadata": {
    "tags": []
   },
   "outputs": [
    {
     "name": "stdout",
     "output_type": "stream",
     "text": [
      "(2,348 missing values generated)\n",
      "(790 real changes made)\n",
      "(284 real changes made)\n",
      "(83 real changes made)\n"
     ]
    }
   ],
   "source": [
    "gen envspend=.\n",
    "\n",
    "replace envspend=1 if natenvir==1 \n",
    "replace envspend=0 if natenvir==2\n",
    "replace envspend=0 if natenvir==3"
   ]
  },
  {
   "cell_type": "code",
   "execution_count": 5,
   "metadata": {
    "tags": []
   },
   "outputs": [
    {
     "name": "stdout",
     "output_type": "stream",
     "text": [
      "\n",
      "   envspend |      Freq.     Percent        Cum.\n",
      "------------+-----------------------------------\n",
      "          0 |        367       15.63       15.63\n",
      "          1 |        790       33.65       49.28\n",
      "          . |      1,191       50.72      100.00\n",
      "------------+-----------------------------------\n",
      "      Total |      2,348      100.00\n"
     ]
    }
   ],
   "source": [
    "tab envspend, missing"
   ]
  },
  {
   "cell_type": "code",
   "execution_count": 6,
   "metadata": {
    "tags": []
   },
   "outputs": [
    {
     "name": "stdout",
     "output_type": "stream",
     "text": [
      "\n",
      "-------------------------------------------------------------------------------\n",
      "partyid                                             political party affiliation\n",
      "-------------------------------------------------------------------------------\n",
      "\n",
      "                  Type: Numeric (byte)\n",
      "                 Label: PARTYID\n",
      "\n",
      "                 Range: [0,7]                         Units: 1\n",
      "         Unique values: 8                         Missing .: 0/2,348\n",
      "       Unique mv codes: 1                        Missing .*: 33/2,348\n",
      "\n",
      "            Tabulation: Freq.   Numeric  Label\n",
      "                          379         0  strong democrat\n",
      "                          352         1  not very strong democrat\n",
      "                          307         2  independent, close to democrat\n",
      "                          414         3  independent (neither, no\n",
      "                                         response)\n",
      "                          259         4  independent, close to\n",
      "                                         republican\n",
      "                          272         5  not very strong republican\n",
      "                          255         6  strong republican\n",
      "                           77         7  other party\n",
      "                           33        .n  no answer\n"
     ]
    }
   ],
   "source": [
    "codebook partyid"
   ]
  },
  {
   "cell_type": "code",
   "execution_count": 7,
   "metadata": {
    "tags": []
   },
   "outputs": [
    {
     "name": "stdout",
     "output_type": "stream",
     "text": [
      "(2,348 missing values generated)\n",
      "(379 real changes made)\n",
      "(352 real changes made)\n",
      "(307 real changes made)\n",
      "(414 real changes made)\n",
      "(259 real changes made)\n",
      "(272 real changes made)\n",
      "(255 real changes made)\n",
      "(77 real changes made)\n"
     ]
    }
   ],
   "source": [
    "gen partygrps=.\n",
    "\n",
    "replace partygrps=1 if partyid==0 \n",
    "replace partygrps=1 if partyid==1\n",
    "replace partygrps=1 if partyid==2\n",
    "replace partygrps=2 if partyid==3\n",
    "replace partygrps=3 if partyid==4\n",
    "replace partygrps=3 if partyid==5\n",
    "replace partygrps=3 if partyid==6\n",
    "replace partygrps=4 if partyid==7"
   ]
  },
  {
   "cell_type": "code",
   "execution_count": 8,
   "metadata": {
    "tags": []
   },
   "outputs": [],
   "source": [
    "label define partygrps 1 \"Left-leaning\" 2 \"Independent\" 3 \"Right-leaning\" 4 \"Other\", replace"
   ]
  },
  {
   "cell_type": "code",
   "execution_count": 9,
   "metadata": {
    "tags": []
   },
   "outputs": [],
   "source": [
    "label values partygrps partygrps"
   ]
  },
  {
   "cell_type": "code",
   "execution_count": 10,
   "metadata": {
    "tags": []
   },
   "outputs": [
    {
     "name": "stdout",
     "output_type": "stream",
     "text": [
      "\n",
      "-------------------------------------------------------------------------------\n",
      "partygrps                                                           (unlabeled)\n",
      "-------------------------------------------------------------------------------\n",
      "\n",
      "                  Type: Numeric (float)\n",
      "                 Label: partygrps\n",
      "\n",
      "                 Range: [1,4]                         Units: 1\n",
      "         Unique values: 4                         Missing .: 33/2,348\n",
      "\n",
      "            Tabulation: Freq.   Numeric  Label\n",
      "                        1,038         1  Left-leaning\n",
      "                          414         2  Independent\n",
      "                          786         3  Right-leaning\n",
      "                           77         4  Other\n",
      "                           33         .  \n"
     ]
    }
   ],
   "source": [
    "codebook partygrps"
   ]
  },
  {
   "cell_type": "code",
   "execution_count": 11,
   "metadata": {
    "tags": []
   },
   "outputs": [
    {
     "name": "stdout",
     "output_type": "stream",
     "text": [
      "graph size was (5.5in, 4in), is now (11, 4in).\n"
     ]
    }
   ],
   "source": [
    "%set graph_width = 11"
   ]
  },
  {
   "cell_type": "code",
   "execution_count": 12,
   "metadata": {
    "tags": []
   },
   "outputs": [
    {
     "name": "stdout",
     "output_type": "stream",
     "text": [
      "graph size was (11, 4in), is now (11, 8).\n"
     ]
    }
   ],
   "source": [
    "%set graph_height = 8"
   ]
  },
  {
   "cell_type": "code",
   "execution_count": 13,
   "metadata": {
    "tags": []
   },
   "outputs": [
    {
     "name": "stdout",
     "output_type": "stream",
     "text": [
      "checking g538schemes consistency and verifying not already installed...\n",
      "all files already exist and are up to date.\n"
     ]
    }
   ],
   "source": [
    "ssc install g538schemes\n",
    "*capture log close\n",
    "*log using \"ResearchAssignmentProject4.log\", replace\n",
    "set more off"
   ]
  },
  {
   "cell_type": "code",
   "execution_count": 14,
   "metadata": {
    "tags": []
   },
   "outputs": [
    {
     "name": "stdout",
     "output_type": "stream",
     "text": [
      "(2,348 missing values generated)\n",
      "(632 real changes made)\n",
      "(1,170 real changes made)\n",
      "(546 real changes made)\n"
     ]
    }
   ],
   "source": [
    "gen agerange=.\n",
    "\n",
    "replace agerange=1 if age>=18 & age <=34\n",
    "replace agerange=2 if age>=35 & age <=64\n",
    "replace agerange=3 if age>=65\n"
   ]
  },
  {
   "cell_type": "code",
   "execution_count": 15,
   "metadata": {
    "tags": []
   },
   "outputs": [],
   "source": [
    "label define agerange 1 \"Adult\" 2 \"Middle Aged\" 3 \"Elder\", replace\n",
    "\n",
    "label values agerange agerange"
   ]
  },
  {
   "cell_type": "markdown",
   "metadata": {},
   "source": [
    "## 2. Test your hypotheses [3 pts]\n",
    "\n",
    "    A. For each hypothesized interactive relationship: use regression with the appropriate interaction syntax to estimate 1 model with uninteracted variables and 1 model with interacted variables. Use --esttab-- with %html magic to output a model with the 2 tables\n",
    "    \n",
    "    B. Use margins and marginsplot with the appropriate syntax to visually represent your regression adjusted estimates for given nominal categories or at given interval-ratio values"
   ]
  },
  {
   "cell_type": "code",
   "execution_count": 16,
   "metadata": {
    "tags": []
   },
   "outputs": [
    {
     "name": "stdout",
     "output_type": "stream",
     "text": [
      "\n",
      "      Source |       SS           df       MS      Number of obs   =     1,144\n",
      "-------------+----------------------------------   F(6, 1137)      =     22.11\n",
      "       Model |  25.9337254         6  4.32228756   Prob > F        =    0.0000\n",
      "    Residual |  222.248093     1,137  .195468859   R-squared       =    0.1045\n",
      "-------------+----------------------------------   Adj R-squared   =    0.0998\n",
      "       Total |  248.181818     1,143  .217131949   Root MSE        =    .44212\n",
      "\n",
      "------------------------------------------------------------------------------\n",
      "    envspend | Coefficient  Std. err.      t    P>|t|     [95% conf. interval]\n",
      "-------------+----------------------------------------------------------------\n",
      "    agerange |\n",
      "Middle Aged  |  -.1006882   .0303213    -3.32   0.001    -.1601801   -.0411963\n",
      "      Elder  |  -.1865297   .0375827    -4.96   0.000     -.260269   -.1127904\n",
      "             |\n",
      "        educ |   .0185904   .0045317     4.10   0.000     .0096989    .0274819\n",
      "             |\n",
      "   partygrps |\n",
      "Independent  |  -.1004931   .0370574    -2.71   0.007    -.1732016   -.0277846\n",
      "Right-lea~g  |  -.2700765   .0297573    -9.08   0.000     -.328462   -.2116911\n",
      "      Other  |  -.2897364   .0796809    -3.64   0.000    -.4460745   -.1333983\n",
      "             |\n",
      "       _cons |   .6345153   .0693916     9.14   0.000     .4983653    .7706654\n",
      "------------------------------------------------------------------------------\n",
      "(est1 stored)\n"
     ]
    }
   ],
   "source": [
    "*Standard regression model \n",
    "eststo clear\n",
    "eststo: reg envspend i.agerange educ i.partygrps"
   ]
  },
  {
   "cell_type": "code",
   "execution_count": 17,
   "metadata": {
    "tags": []
   },
   "outputs": [
    {
     "name": "stdout",
     "output_type": "stream",
     "text": [
      "\n",
      "      Source |       SS           df       MS      Number of obs   =     1,144\n",
      "-------------+----------------------------------   F(12, 1131)     =     12.99\n",
      "       Model |  30.0588925        12  2.50490771   Prob > F        =    0.0000\n",
      "    Residual |  218.122926     1,131  .192858467   R-squared       =    0.1211\n",
      "-------------+----------------------------------   Adj R-squared   =    0.1118\n",
      "       Total |  248.181818     1,143  .217131949   Root MSE        =    .43916\n",
      "\n",
      "------------------------------------------------------------------------------\n",
      "    envspend | Coefficient  Std. err.      t    P>|t|     [95% conf. interval]\n",
      "-------------+----------------------------------------------------------------\n",
      "        educ |   .0191163   .0045217     4.23   0.000     .0102445    .0279882\n",
      "             |\n",
      "    agerange |\n",
      "Middle Aged  |  -.0165139   .0463422    -0.36   0.722    -.1074403    .0744125\n",
      "      Elder  |  -.0604447   .0545963    -1.11   0.268    -.1675661    .0466767\n",
      "             |\n",
      "   partygrps |\n",
      "Independent  |   .0032433   .0591206     0.05   0.956    -.1127551    .1192418\n",
      "Right-lea~g  |  -.1047828   .0566881    -1.85   0.065    -.2160084    .0064429\n",
      "      Other  |  -.3948818   .1156936    -3.41   0.001    -.6218799   -.1678836\n",
      "             |\n",
      "    agerange#|\n",
      "   partygrps |\n",
      "Middle Aged #|\n",
      "Independent  |  -.1288414   .0789729    -1.63   0.103    -.2837913    .0261085\n",
      "Middle Aged #|\n",
      "Right-lea~g  |  -.2066462   .0703841    -2.94   0.003    -.3447443   -.0685481\n",
      "Middle Aged #|\n",
      "      Other  |   .3800345   .1781728     2.13   0.033     .0304481    .7296209\n",
      "      Elder #|\n",
      "Independent  |  -.2373066   .1133102    -2.09   0.036    -.4596284   -.0149849\n",
      "      Elder #|\n",
      "Right-lea~g  |  -.2705678   .0840905    -3.22   0.001    -.4355588   -.1055769\n",
      "Elder#Other  |   -.017437    .217249    -0.08   0.936    -.4436935    .4088194\n",
      "             |\n",
      "       _cons |   .5575848   .0735446     7.58   0.000     .4132856    .7018839\n",
      "------------------------------------------------------------------------------\n",
      "(est2 stored)\n"
     ]
    }
   ],
   "source": [
    "*Nominal-nominal example using race and party id\n",
    "eststo: reg envspend educ i.agerange##i.partygrps "
   ]
  },
  {
   "cell_type": "code",
   "execution_count": 18,
   "metadata": {
    "tags": []
   },
   "outputs": [
    {
     "name": "stdout",
     "output_type": "stream",
     "text": [
      "\n",
      "--------------------------------------------\n",
      "                      (1)             (2)   \n",
      "                 envspend        envspend   \n",
      "                     b/se            b/se   \n",
      "--------------------------------------------\n",
      "Middle Aged        -0.101***       -0.017   \n",
      "                  (0.030)         (0.046)   \n",
      "Elder              -0.187***       -0.060   \n",
      "                  (0.038)         (0.055)   \n",
      "educ                0.019***        0.019***\n",
      "                  (0.005)         (0.005)   \n",
      "Independent        -0.100**         0.003   \n",
      "                  (0.037)         (0.059)   \n",
      "Right-lean~g       -0.270***       -0.105   \n",
      "                  (0.030)         (0.057)   \n",
      "Other party        -0.290***       -0.395***\n",
      "                  (0.080)         (0.116)   \n",
      "Mid * Ind                          -0.129   \n",
      "                                  (0.079)   \n",
      "Mid * Right                        -0.207** \n",
      "                                  (0.070)   \n",
      "Mid * Other                         0.380*  \n",
      "                                  (0.178)   \n",
      "Elder * Ind                        -0.237*  \n",
      "                                  (0.113)   \n",
      "Elder * Ri~t                       -0.271** \n",
      "                                  (0.084)   \n",
      "Elder * Ot~r                       -0.017   \n",
      "                                  (0.217)   \n",
      "_cons               0.635***        0.558***\n",
      "                  (0.069)         (0.074)   \n",
      "--------------------------------------------\n",
      "R-Sqaured           0.104           0.121   \n",
      "N                1144.000        1144.000   \n",
      "--------------------------------------------\n"
     ]
    }
   ],
   "source": [
    "esttab, stats(r2 N, labels(\"R-Sqaured\" \"N\")) cells(b(star fmt(3)) ///\n",
    "se(fmt(3) par)) nobase coeflabel (2.agerange \"Middle Aged\" 3.agerange ///\n",
    "\"Elder\" 2.partygrps \"Independent\" 3.partygrps \"Right-leaning\" 4.partygrps ///\n",
    "\"Other party\" 2.agerange#2.partygrps \"Mid * Ind\" 2.agerange#3.partygrps \"Mid * Right\" ///\n",
    "2.agerange#4.partygrps \"Mid * Other\" 3.agerange#2.partygrps \"Elder * Ind\" ///\n",
    "3.agerange#3.partygrps \"Elder * Right\" 3.agerange#4.partygrps \"Elder * Other\")"
   ]
  },
  {
   "cell_type": "code",
   "execution_count": 19,
   "metadata": {
    "tags": []
   },
   "outputs": [
    {
     "data": {
      "image/png": "[encoded data removed]",
      "text/plain": [
       "<IPython.core.display.Image object>"
      ]
     },
     "metadata": {},
     "output_type": "display_data"
    }
   ],
   "source": [
    "graph bar envspend, over(agerange) over(partygrps) asyvars ytitle (Support for environmental spending) ///\n",
    "  blabel(bar, format(%7.0fc)) legend(rows(1) position(1) ring(0)) scheme(538w)"
   ]
  },
  {
   "cell_type": "code",
   "execution_count": 20,
   "metadata": {
    "tags": []
   },
   "outputs": [
    {
     "name": "stdout",
     "output_type": "stream",
     "text": [
      "\n",
      "Variables that uniquely identify margins: partygrps agerange\n"
     ]
    },
    {
     "data": {
      "image/png": "[encoded data removed]",
      "text/plain": [
       "<IPython.core.display.Image object>"
      ]
     },
     "metadata": {},
     "output_type": "display_data"
    }
   ],
   "source": [
    "quietly margins partygrps, over(agerange) atmeans\n",
    "marginsplot, recast(scatter) scheme(538w)"
   ]
  },
  {
   "cell_type": "markdown",
   "metadata": {
    "tags": []
   },
   "source": [
    "    A. Do the results support or contradict each of your hypotheses?\n",
    "\n",
    "***H1: Within the standard model, I expect that support for environmental spending will be:***\n",
    "- ***positively associated with education***\n",
    "- ***greater for left-leaning respondents in comparison to other political categories***\n",
    "- ***lower for older respondents.***\n",
    "\n",
    "## - As predicted, there is a positive association between education and support for environmental spending. Each additional year of schooling is associated with a small increase in the average (?) value for the environmental dummy variable. \n",
    "\n",
    "## - Left-leaning respondents are associated with a higher value in the IV in comparison to all other categories of the political leaning variable. \n",
    "\n",
    "## - Older respondents are less likely than young adult respondents to support increased environmental spending \n",
    "\n",
    "***H1a: Age will have a weak but positive association with support for environmental spending***\n",
    "\n",
    "## - Older respondents are less likely than young adult respondents to support increased environmental spending \n",
    "\n",
    "***H1b: Left-leaning respondents will generally be more supportive of environmental spending than right-leaning respondents***\n",
    "\n",
    "## -  Left-leaning respondents are associated with a higher value in the IV in comparison to all other categories of the political leaning variable. \n",
    "\n",
    "***H1i: Younger generations of right-leaning respondents will have different levels of support for environmental spending than other age groups, more similar to left-leaning respondents.***\n",
    "\n",
    "## - My hypothesis about younger adult right-leaning respondents appears to be partially supported. Right-leaning young adults seem to be meaningfully more supportive of environmental spending, but not quite at a comparable level to left-leaning respondents. \n",
    "\n",
    "    B. Why do the regression coefficients support or contradict your hypotheses?\n",
    "## H1: \n",
    "- Education has a coefficient of .019 and a p-value of 0.000 (according to the model), so it is positive and statistically significant\n",
    "- All political leanings other than left- show a lesser association with the IV, with right-leaning respondents showing an average of .270 less support (P < .001).\n",
    "- Similarly, elder respondents are associated with a .187 average level of lesser support in comparison to young adult respondents.\n",
    "\n",
    "## H1i: Looking specifically at right-leaning respondents, both middle aged and elder respondents are associated with considerably (-.207 and -.271) less support for environmental spending in comparison to young adult, right-leaning respondents. This suggests that These effects both have moderate statistical significance as well (P<.01). \n",
    "\n",
    "## This is mostly consistent with my initial look at theory in that right-leaning respondents are consistently less supportive of environmental spending. However, the margin estimates discussed below suggest that age does somewhat matter. \n",
    "\n",
    "    C. Why do your regression adjusted estimates from margins for nominal categories or given interval-ratio values support or contradict your hypotheses?\n",
    "    \n",
    "## H1i: The margins results show that younger age generally results in greater support in all political categories, except for 'other'. However, this effect is mininal for left-leaning respondents - who are nearly 'in agreement' in terms of average level of support - and it is more pronounced for right-leaning respondents than any other group. In other words, the gap between young adult, right-leaning respondents and middle aged/elder, right-leaning respondents seems to be greater than for other political categories. Thus, the interaction between age and political leaning does not radically contradict what we would expect from theory, but does seem to matter."
   ]
  },
  {
   "cell_type": "code",
   "execution_count": null,
   "metadata": {},
   "outputs": [],
   "source": []
  }
 ],
 "metadata": {
  "kernelspec": {
   "display_name": "Stata (nbstata)",
   "language": "stata",
   "name": "nbstata"
  },
  "language_info": {
   "file_extension": ".do",
   "mimetype": "text/x-stata",
   "name": "stata",
   "version": "17"
  }
 },
 "nbformat": 4,
 "nbformat_minor": 4
}
