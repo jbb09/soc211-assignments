{
 "cells": [
  {
   "cell_type": "markdown",
   "metadata": {
    "nbgrader": {
     "grade": false,
     "grade_id": "cell-b22b7a7ab2c2897a",
     "locked": true,
     "schema_version": 3,
     "solution": false,
     "task": false
    }
   },
   "source": [
    "# Grad stats 2 problem set 1"
   ]
  },
  {
   "cell_type": "markdown",
   "metadata": {
    "jp-MarkdownHeadingCollapsed": true,
    "nbgrader": {
     "grade": false,
     "grade_id": "cell-45d9dcb89e9e0cb0",
     "locked": true,
     "schema_version": 3,
     "solution": false,
     "task": false
    },
    "tags": []
   },
   "source": [
    "## 1. Set your current directory and download Charlie's dataset or your own data set using the \"copy\" command followed by \"import delimited\" or \"use\" depending on the format of your data [5 points]"
   ]
  },
  {
   "cell_type": "code",
   "execution_count": 26,
   "metadata": {
    "tags": []
   },
   "outputs": [
    {
     "name": "stdout",
     "output_type": "stream",
     "text": [
      "C:\\Users\\User\\Documents\\GRAD STATS LAB SEM 2\\Soc211 Assignments\\Problem_set_1\n"
     ]
    }
   ],
   "source": [
    "cd \"C:\\Users\\User\\Documents\\GRAD STATS LAB SEM 2\\Soc211 Assignments\\Problem_set_1\""
   ]
  },
  {
   "cell_type": "code",
   "execution_count": 27,
   "metadata": {
    "tags": []
   },
   "outputs": [
    {
     "name": "stdout",
     "output_type": "stream",
     "text": [
      "file C:\\Users\\User\\Documents\\GRAD STATS LAB SEM 2\\Soc211\n",
      "\u001b[31m    Assignments\\Problem_set_1 could not be opened\n",
      "r(603);\u001b[0m\n"
     ]
    }
   ],
   "source": [
    "copy \"C:\\Users\\User\\Downloads\\agilepredatorsdata20191116.csv\" \"C:\\Users\\User\\Documents\\GRAD STATS LAB SEM 2\\Soc211 Assignments\\Problem_set_1\""
   ]
  },
  {
   "cell_type": "code",
   "execution_count": 28,
   "metadata": {
    "tags": []
   },
   "outputs": [
    {
     "name": "stdout",
     "output_type": "stream",
     "text": [
      "(encoding automatically selected: ISO-8859-1)\n",
      "(52 vars, 205,262 obs)\n"
     ]
    }
   ],
   "source": [
    "import delimited \"C:\\Users\\User\\Downloads\\agilepredatorsdata20191116.csv\", clear"
   ]
  },
  {
   "cell_type": "markdown",
   "metadata": {
    "jp-MarkdownHeadingCollapsed": true,
    "tags": []
   },
   "source": [
    "## 2. list all of the variable names in the dataset using the \"ds\" command with the appropriate varwidth specification [1 point]"
   ]
  },
  {
   "cell_type": "code",
   "execution_count": 32,
   "metadata": {
    "collapsed": true,
    "jupyter": {
     "outputs_hidden": true
    },
    "tags": []
   },
   "outputs": [
    {
     "name": "stdout",
     "output_type": "stream",
     "text": [
      "\n",
      "[D] ds -- Compactly list variables with specified properties\n",
      "          (View complete PDF manual entry)\n",
      "\n",
      "\n",
      "Syntax\n",
      "------\n",
      "\n",
      "    Simple syntax\n",
      "\n",
      "        ds [, alpha]\n",
      "\n",
      "\n",
      "    Advanced syntax\n",
      "\n",
      "        ds [varlist] [, options]\n",
      "\n",
      "\n",
      "    options                   Description\n",
      "    -------------------------------------------------------------------------\n",
      "    Main\n",
      "      not                     list variables not specified in varlist\n",
      "      alpha                   list variables in alphabetical order\n",
      "      detail                  display additional details\n",
      "      varwidth(#)             display width for variable names; default is\n",
      "                                varwidth(12)\n",
      "      skip(#)                 gap between variables; default is skip(2)\n",
      "\n",
      "    Advanced\n",
      "      has(spec)               describe subset that matches spec\n",
      "      not(spec)               describe subset that does not match spec\n",
      "\n",
      "      insensitive             perform case-insensitive pattern matching\n",
      "      indent(#)               indent output; seldom used\n",
      "    -------------------------------------------------------------------------\n",
      "    collect is allowed; see prefix.\n",
      "    insensitive and indent(#) are not shown in the dialog box.\n",
      "\n",
      "    spec                      Description\n",
      "    -------------------------------------------------------------------------\n",
      "    type typelist             specified types\n",
      "    format patternlist        display format matching patternlist\n",
      "    varlabel [patternlist]    variable label or variable label matching\n",
      "                                patternlist\n",
      "    char [patternlist]        characteristic or characteristic matching\n",
      "                                patternlist\n",
      "    vallabel [patternlist]    value label or value label matching patternlist\n",
      "    linkname namelist         link name matching namelist\n",
      "    -------------------------------------------------------------------------\n",
      "\n",
      "    typelist used in has(type typelist) and not(type typelist) is a list of\n",
      "        one or more types, each of which may be alias, unknown, numeric,\n",
      "        string, str#, strL, byte, int, long, float, or double or may be a \n",
      "        numlist such as 1/8 to mean \"str1 str2 ...  str8\".  Examples include\n",
      "\n",
      "            has(type alias)               was created by fralias add; see [D]\n",
      "                                            fralias\n",
      "            has(type unknown)             is type alias, but the link is\n",
      "                                            broken\n",
      "            has(type int)                 is of type int\n",
      "            has(type byte int long)       is of integer type\n",
      "            not(type int)                 is not of type int\n",
      "            not(type byte int long)       is not of the integer types\n",
      "            has(type numeric)             is a numeric variable\n",
      "            not(type string)              is not a string (str# or strL)\n",
      "                                            variable (same as above)\n",
      "            has(type 1/40)                is str1, str2, ..., str40\n",
      "            has(type str#)                is str1, str2, ..., str2045 but not\n",
      "                                            strL\n",
      "            has(type strL)                is of type strL but not str#\n",
      "            has(type numeric 1/2)         is numeric or str1 or str2\n",
      "\n",
      "    patternlist used in, for instance, has(format patternlist), is a list of\n",
      "        one or more patterns.  A pattern is the expected text with the\n",
      "        addition of the characters * and ?.  * indicates 0 or more characters\n",
      "        go here, and ? indicates exactly 1 character goes here.  Examples\n",
      "        include\n",
      "\n",
      "            has(format *f)                format is %#.#f\n",
      "            has(format %t*)               has time or date format\n",
      "            has(format %-*s)              is a left-justified string\n",
      "            has(varl *weight*)            variable label includes word weight\n",
      "            has(varl *weight* *Weight*)   variable label has weight or Weight\n",
      "\n",
      "    To match a phrase, enclose the phrase in quotes.\n",
      "\n",
      "            has(varl \"*some phrase*\")    variable label has some phrase\n",
      "\n",
      "    If instead you used has(varl *some phrase*), then only variables having\n",
      "        labels ending in some or starting with phrase would be listed.\n",
      "\n",
      "    namelist used in, for instance, has(linkname namelist) is a list of one\n",
      "        or more names.  linkname refers to the linkage variables used to\n",
      "        create alias variables; see [D] fralias.  Abbreviations in namelist\n",
      "        are not supported.\n",
      "\n",
      "\n",
      "Menu\n",
      "----\n",
      "\n",
      "    Data > Describe data > Compactly list variable names\n",
      "\n",
      "\n",
      "Description\n",
      "-----------\n",
      "\n",
      "    ds lists variable names of the dataset currently in memory in a compact\n",
      "    or detailed format, and lets you specify subsets of variables to be\n",
      "    listed, either by name or by properties (for example, the variables are\n",
      "    numeric).  In addition, ds leaves behind in r(varlist) the names of\n",
      "    variables selected so that you can use them in a subsequent command.\n",
      "\n",
      "    ds, typed without arguments, lists all variable names of the dataset\n",
      "    currently in memory in a compact form.\n",
      "\n",
      "\n",
      "Links to PDF documentation\n",
      "--------------------------\n",
      "\n",
      "        Quick start\n",
      "\n",
      "        Remarks and examples\n",
      "\n",
      "    The above sections are not included in this help file.\n",
      "\n",
      "\n",
      "Options\n",
      "-------\n",
      "\n",
      "        +------+\n",
      "    ----+ Main +-------------------------------------------------------------\n",
      "\n",
      "    not specifies that the variables in varlist not be listed.  For instance,\n",
      "        ds pop*, not specifies that all variables not starting with the\n",
      "        letters pop be listed.  The default is to list all the variables in\n",
      "        the dataset or, if varlist is specified, the variables specified.\n",
      "\n",
      "    alpha specifies that the variables be listed in alphabetical order.  If\n",
      "        the variable contains Unicode characters other than plain ASCII, the\n",
      "        sort order is determined strictly by the underlying byte order.  See\n",
      "        [U] 12.4.2.5 Sorting strings containing Unicode characters.\n",
      "\n",
      "    detail specifies that detailed output identical to that of describe be\n",
      "        produced.  If detail is specified, varwidth(), skip(), and indent()\n",
      "        are ignored.\n",
      "\n",
      "    varwidth(#) specifies the display width of the variable names; the\n",
      "        default is varwidth(12).\n",
      "\n",
      "    skip(#) specifies the number of spaces between variable names, where all\n",
      "        variable names are assumed to be the length of the longest variable\n",
      "        name; the default is skip(2).\n",
      "\n",
      "        +----------+\n",
      "    ----+ Advanced +---------------------------------------------------------\n",
      "\n",
      "    has(spec) and not(spec) select from the dataset (or from varlist) the\n",
      "        subset of variables that meet or fail the specification spec.\n",
      "        Selection may be made on the basis of storage type, variable label,\n",
      "        value label, display format, or characteristics.  Only one not,\n",
      "        has(), or not() option may be specified.\n",
      "\n",
      "        has(type string) selects all string variables.  Typing ds, has(type\n",
      "        string) would list all string variables in the dataset, and typing\n",
      "        ds pop*, has(type string) would list all string variables whose names\n",
      "        begin with the letters pop.\n",
      "\n",
      "        has(format patternlist) specifies variables whose format matches any\n",
      "        of the patterns in patternlist.  has(format *f) would select all\n",
      "        variables with formats ending in f, which presumably would be all\n",
      "        %#.#f, %0#.#f, and %-#.#f formats.  has(format *f *fc) would select\n",
      "        all variables with formats ending in f or fc.  not(format %t* %-t*)\n",
      "        would select all variables except those with date or time-series\n",
      "        formats.\n",
      "\n",
      "        has(varlabel) selects variables with defined variable labels.\n",
      "        has(varlabel *weight*) selects variables with variable labels\n",
      "        including the word \"weight\".  not(varlabel) would select all\n",
      "        variables with no variable labels.\n",
      "\n",
      "        has(char) selects all variables with defined characteristics.\n",
      "        has(char problem) selects all variables with a characteristic named\n",
      "        problem.\n",
      "\n",
      "        has(vallabel) selects variables with defined value labels.\n",
      "        has(vallabel yesno) selects variables whose value label is yesno.\n",
      "        has(vallabel *no) selects variables whose value label ends in the\n",
      "        letters no.\n",
      "\n",
      "        has(linkname) selects variables to create alias variables; see [D]\n",
      "        fralias.\n",
      "\n",
      "    The following options are available with ds but are not shown in the\n",
      "        dialog box:\n",
      "\n",
      "    insensitive specifies that the matching of the pattern in has() and not()\n",
      "        be case insensitive.  Note that the case insensitivity applies only\n",
      "        to ASCII characters.\n",
      "\n",
      "    indent(#) specifies the amount the lines are indented.\n",
      "\n",
      "\n",
      "Examples\n",
      "--------\n",
      "\n",
      "    List all variables\n",
      "        . ds\n",
      "\n",
      "    List all string variables and bring up Data Editor containing them\n",
      "        . ds, has(type string)\n",
      "        . edit `r(varlist)'\n",
      "\n",
      "    List all str1, str2, str3, str4 variables\n",
      "        . ds, has(type 1/4)\n",
      "\n",
      "    List all numeric variables and relocate them to the beginning of the\n",
      "    dataset\n",
      "        . ds, has(type numeric)\n",
      "        . order `r(varlist)'\n",
      "\n",
      "    List all numeric variables and summarize them\n",
      "        . ds, has(type numeric)\n",
      "        . summarize `r(varlist)'\n",
      "\n",
      "    List all byte or int variables\n",
      "        . ds, has(type byte int)\n",
      "\n",
      "    List all float variables\n",
      "        . ds, has(type float)\n",
      "\n",
      "    List all variables that are not float\n",
      "        . ds, not(type float)\n",
      "\n",
      "    List all variables with value labels attached\n",
      "        . ds, has(vall)\n",
      "\n",
      "    List all variables with the value label origin attached\n",
      "        . ds, has(vall origin)\n",
      "\n",
      "    List all date variables, that is, those with formats %t* or %-t*\n",
      "        . ds, has(format %t* %-t*)\n",
      "\n",
      "    List variables with left-justified string formats\n",
      "        . ds, has(format %-*s)\n",
      "\n",
      "    List variables with comma formats\n",
      "        . ds, has(format *c)\n",
      "\n",
      "    List variables with characteristics defined\n",
      "        . ds, has(char)\n",
      "\n",
      "\n",
      "Stored results\n",
      "--------------\n",
      "\n",
      "    ds stores the following in r():\n",
      "\n",
      "    Macros         \n",
      "      r(varlist)          the varlist of found variables\n"
     ]
    }
   ],
   "source": [
    "help ds "
   ]
  },
  {
   "cell_type": "code",
   "execution_count": 40,
   "metadata": {
    "collapsed": true,
    "jupyter": {
     "outputs_hidden": true
    },
    "tags": []
   },
   "outputs": [
    {
     "name": "stdout",
     "output_type": "stream",
     "text": [
      "\u001b[31minteractions not allowed\n",
      "r(101);\u001b[0m\n"
     ]
    }
   ],
   "source": [
    "ds"
   ]
  },
  {
   "cell_type": "code",
   "execution_count": 44,
   "metadata": {
    "tags": []
   },
   "outputs": [],
   "source": [
    "*QUESTION: ds works but doesn't respond to any varwidth number? "
   ]
  },
  {
   "cell_type": "markdown",
   "metadata": {
    "jp-MarkdownHeadingCollapsed": true,
    "tags": []
   },
   "source": [
    "## 3. Use the help magic to print the help documenation for the **\"sum\"** command. If you need information on the help magic, see here: https://nbviewer.jupyter.org/github/kylebarron/stata_kernel/blob/master/examples/Example.ipynb [1 pt]"
   ]
  },
  {
   "cell_type": "code",
   "execution_count": 52,
   "metadata": {
    "collapsed": true,
    "jupyter": {
     "outputs_hidden": true
    },
    "tags": []
   },
   "outputs": [
    {
     "data": {
      "text/html": [
       "\n",
       "<html>\n",
       "<head>\n",
       "<meta content=\"noindex, nofollow\" name=\"robots\"/>\n",
       "<title>Stata 18 help for sum</title>\n",
       "<link href=\"/includes/css/stylehelp.css\" rel=\"stylesheet\" type=\"text/css\"/>\n",
       "<style type=\"text/css\">h2 {\n",
       "    font-family: Arial,Helvetica,Helv,sans-serif;\n",
       "    color: #000000;\n",
       "}\n",
       "\n",
       "pre {\n",
       "    margin: 10px;\n",
       "}\n",
       "\n",
       "table {\n",
       "    background-color: transparent;\n",
       "    border-color: transparent;\n",
       "    bgcolor: transparent;\n",
       "}\n",
       "\n",
       "tr {\n",
       "    background-color: transparent;\n",
       "    border-color: transparent;\n",
       "    bgcolor: transparent;\n",
       "}\n",
       "\n",
       "body {\n",
       "    background-color: transparent;\n",
       "    border-color: transparent;\n",
       "    margin: 0px;\n",
       "}\n",
       "\n",
       "div {\n",
       "    background-color: transparent;\n",
       "    border-color: transparent;\n",
       "}\n",
       "</style>\n",
       "</head>\n",
       "<body>\n",
       "\n",
       "<p><table align=\"center\" bgcolor=\"transparent\" border=\"1\" cellpadding=\"5\" cellspacing=\"0\">\n",
       "<tr bgcolor=\"transparent\"><td align=\"left\" bgcolor=\"transparent\" valign=\"top\">\n",
       "<!-- END HEAD -->\n",
       "\n",
       "<pre>\n",
       "<p>                  +----------------------------------------+\n",
       "                  | See             |  For the             |\n",
       "                  |-----------------+----------------------|\n",
       "                  |                 |                      |\n",
       "                  | help <a href=\"https://www.stata.com/help.cgi?summarize\" target=\"_blank\"><b>summarize</b></a>  |  <b><u>su</u></b><b>mmarize</b> command   |\n",
       "                  |                 |                      |\n",
       "                  | help <a href=\"https://www.stata.com/help.cgi?sum%28%29\" target=\"_blank\"><b>sum()</b></a>      |  <b>sum()</b> function      |\n",
       "                  |                 |                      |\n",
       "                  +----------------------------------------+\n",
       "</p></pre>\n",
       "<!-- BEGIN FOOT -->\n",
       "</td></tr></table>\n",
       "\n",
       "\n",
       "\n",
       "</p></body>\n",
       "</html>\n"
      ],
      "text/plain": [
       "This front-end cannot display HTML help."
      ]
     },
     "metadata": {},
     "output_type": "display_data"
    }
   ],
   "source": [
    "%help sum"
   ]
  },
  {
   "cell_type": "markdown",
   "metadata": {},
   "source": [
    "## 4. Use the **\"drop\"** command with an **if statement** to drop schools if they are **state**, **community**, or **non-proft** in the **owner_pe** variable. Use the \"keep\" command and an if statement to only keep observations if the year is 2014, then use the summarize command with the **\"detail\"** specification to summarize the variable **\"dist_pell_s\"**. This variable measures a school's Pell Grant revenue per student. If you are working with your own data, use the **drop, keep, and summarize** commands to narrow your dataset in some systematic way and summarize an **interval ratio** variable. [5 pts]\n",
    "[Explain narrowing choices for your own dataset here, or interpret the meaning of the for-profit college narrowing here]"
   ]
  },
  {
   "cell_type": "code",
   "execution_count": 62,
   "metadata": {
    "collapsed": true,
    "jupyter": {
     "outputs_hidden": true
    },
    "tags": []
   },
   "outputs": [
    {
     "name": "stdout",
     "output_type": "stream",
     "text": [
      "\n",
      "[D] drop -- Drop variables or observations\n",
      "            (View complete PDF manual entry)\n",
      "\n",
      "\n",
      "Syntax\n",
      "------\n",
      "\n",
      "    Drop variables\n",
      "\n",
      "        drop varlist\n",
      "\n",
      "\n",
      "    Drop observations\n",
      "\n",
      "        drop if exp\n",
      "\n",
      "\n",
      "    Drop a range of observations\n",
      "\n",
      "        drop in range [if exp]\n",
      "\n",
      "\n",
      "    Keep variables\n",
      "\n",
      "        keep varlist\n",
      "\n",
      "\n",
      "    Keep observations that satisfy specified condition\n",
      "\n",
      "        keep if exp\n",
      "\n",
      "\n",
      "    Keep a range of observations\n",
      "\n",
      "        keep in range [if exp]\n",
      "\n",
      "\n",
      "    by and collect are allowed with the second syntax of drop and the second\n",
      "        syntax of keep; see prefix.\n",
      "\n",
      "\n",
      "Menu\n",
      "----\n",
      "\n",
      "    Drop or keep variables\n",
      "    ----------------------\n",
      "\n",
      "        Data > Variables Manager\n",
      "\n",
      "    Drop or keep observations\n",
      "    -------------------------\n",
      "\n",
      "        Data > Create or change data > Drop or keep observations\n",
      "\n",
      "\n",
      "Description\n",
      "-----------\n",
      "\n",
      "    drop eliminates variables or observations from the data in memory.\n",
      "\n",
      "    keep works the same way as drop, except that you specify the variables or\n",
      "    observations to be kept rather than the variables or observations to be\n",
      "    deleted.\n",
      "\n",
      "    Warning: drop and keep are not reversible.  Once you have eliminated\n",
      "    observations, you cannot read them back in again.  You would need to go\n",
      "    back to the original dataset and read it in again.  Instead of applying\n",
      "    drop or keep for a subset analysis, consider using if or in to select\n",
      "    subsets temporarily.  This is usually the best strategy.  Alternatively,\n",
      "    applying preserve followed in due course by restore may be a good\n",
      "    approach.  You can also use frame put to place a subset of variables or\n",
      "    observations from the current dataset into another frame; see [D] frame\n",
      "    put.\n",
      "\n",
      "\n",
      "Links to PDF documentation\n",
      "--------------------------\n",
      "\n",
      "        Quick start\n",
      "\n",
      "        Remarks and examples\n",
      "\n",
      "    The above sections are not included in this help file.\n",
      "\n",
      "\n",
      "Examples\n",
      "--------\n",
      "\n",
      "    Setup\n",
      "        . sysuse census\n",
      "\n",
      "    Describe the data\n",
      "        . describe\n",
      "\n",
      "    Drop all variables with names that begin with pop\n",
      "        . drop pop*\n",
      "\n",
      "    Describe the resulting data\n",
      "        . describe\n",
      "\n",
      "    Drop marriage and divorce\n",
      "        . drop marriage divorce\n",
      "\n",
      "    Describe the resulting data\n",
      "        . describe\n",
      "\n",
      "    Drop any observation for which medage is greater than 32\n",
      "        . drop if medage > 32\n",
      "\n",
      "    Drop the first observation for each region\n",
      "        . by region, sort: drop if _n == 1\n",
      "\n",
      "    Drop all but the last observation in each region\n",
      "        . by region: drop if _n != _N\n",
      "\n",
      "    Keep the first 2 observations in the dataset\n",
      "        . keep in 1/2\n",
      "\n",
      "    Describe the resulting data\n",
      "        . describe\n",
      "\n",
      "    Drop all observations and variables\n",
      "        . drop _all\n",
      "\n",
      "    Describe the resulting data\n",
      "        . describe\n",
      "\n",
      "\n",
      "Stored results\n",
      "--------------\n",
      "\n",
      "    drop and keep store the following in r():\n",
      "\n",
      "    Scalars   \n",
      "      r(N_drop)      number of observations dropped\n",
      "      r(k_drop)      number of variables dropped\n"
     ]
    }
   ],
   "source": [
    "help drop"
   ]
  },
  {
   "cell_type": "code",
   "execution_count": 71,
   "metadata": {
    "collapsed": true,
    "jupyter": {
     "outputs_hidden": true
    },
    "tags": []
   },
   "outputs": [
    {
     "name": "stdout",
     "output_type": "stream",
     "text": [
      "\n",
      "       owner_pe |      Freq.     Percent        Cum.\n",
      "----------------+-----------------------------------\n",
      "      Community |     41,264       20.10       20.10\n",
      "     Non-profit |     66,188       32.25       52.35\n",
      " Private equity |      6,799        3.31       55.66\n",
      " Privately held |     59,220       28.85       84.51\n",
      "Publicly traded |     11,559        5.63       90.14\n",
      "          State |     20,232        9.86      100.00\n",
      "----------------+-----------------------------------\n",
      "          Total |    205,262      100.00\n"
     ]
    }
   ],
   "source": [
    "tab owner_pe"
   ]
  },
  {
   "cell_type": "code",
   "execution_count": 72,
   "metadata": {
    "tags": []
   },
   "outputs": [
    {
     "name": "stdout",
     "output_type": "stream",
     "text": [
      "\u001b[31mState not found\n",
      "r(111);\u001b[0m\n"
     ]
    }
   ],
   "source": [
    "drop if owner_pe==State"
   ]
  },
  {
   "cell_type": "code",
   "execution_count": 73,
   "metadata": {
    "tags": []
   },
   "outputs": [
    {
     "name": "stdout",
     "output_type": "stream",
     "text": [
      "\u001b[31mCommunity not found\n",
      "r(111);\u001b[0m\n"
     ]
    }
   ],
   "source": [
    "drop if owner_pe==Community"
   ]
  },
  {
   "cell_type": "code",
   "execution_count": 75,
   "metadata": {
    "tags": []
   },
   "outputs": [
    {
     "name": "stdout",
     "output_type": "stream",
     "text": [
      "\u001b[31m'Non invalid name\n",
      "r(198);\u001b[0m\n"
     ]
    }
   ],
   "source": [
    "drop if owner_pe=="
   ]
  },
  {
   "cell_type": "markdown",
   "metadata": {
    "jp-MarkdownHeadingCollapsed": true,
    "tags": []
   },
   "source": [
    "## 5. Create 1) a histogram and 2) a boxplot to visualize the distribution of Pell Grant revenue (or an interval ratio variable from your own dataset) in the following code cell. Then interpret the distributions in this markdown cell [3 pts]\n",
    "[YOUR INTERPRETATION HERE]"
   ]
  },
  {
   "cell_type": "code",
   "execution_count": null,
   "metadata": {},
   "outputs": [],
   "source": []
  },
  {
   "cell_type": "markdown",
   "metadata": {
    "jp-MarkdownHeadingCollapsed": true,
    "tags": []
   },
   "source": [
    "## 6. Students at for-profit colleges have especially poor graduation rates at 4-year degree schools. In Eaton(2020) and Eaton, Howell, & Yannelis (2019), I've argued argued that for-profit colleges are more predatory under publicly traded and private equity ownership. Based on this theory, write a hypothesis about the relationship between whether a school offers 4-year or lower degrees and for-profit college ownership. Explain what is the independent variable and dependent variable and why? If you are working with your own data, do the same for a relationship between two **nominal** variables in your data. [4 pts]\n",
    "1. [YOUR HYPOTHESIS HERE]\n",
    "2. [YOUR EXPLANATION OF INDEPENDENT AND DEPENDENT VARIABLES HERE]"
   ]
  },
  {
   "cell_type": "markdown",
   "metadata": {
    "jp-MarkdownHeadingCollapsed": true,
    "tags": []
   },
   "source": [
    "## 7. Create a frequency table for colleges by their **level of degree offerings (iclevel)** and **ownership form (owner_pe)**. Make sure the dependent variable is listed first, making its values the row values. Stata doesn't like string variables, so use the commande **encode** with the **gen** specification to create encoded **iclevel2** and **owner_pe2** variables to use. If you are working with your own data, do the same for the two variables you hypothesized about. [3 pts]"
   ]
  },
  {
   "cell_type": "code",
   "execution_count": null,
   "metadata": {},
   "outputs": [],
   "source": []
  },
  {
   "cell_type": "markdown",
   "metadata": {
    "jp-MarkdownHeadingCollapsed": true,
    "tags": []
   },
   "source": [
    "## 7. Create a horizontal bar graph using the **graph hbar** command with the **over** specification to plot the percentage of schools with degree levels within each ownership form. Use the **xi** command with the **noomit** option to create a dummy variable for iclevel. Do the same with your variables of interest if you are using your own data. [3 pts]"
   ]
  },
  {
   "cell_type": "code",
   "execution_count": null,
   "metadata": {},
   "outputs": [],
   "source": []
  },
  {
   "cell_type": "markdown",
   "metadata": {
    "jp-MarkdownHeadingCollapsed": true,
    "tags": []
   },
   "source": [
    "## 8. Provide your interpretation of the results from the bivariate frequency table and the bar graph. Is there a relationship between ownership form and offering higher degrees? Or in your own variables if using your own data? What is the relationship in your own words, and does it fit your hypothesis?\n",
    "[YOUR INTERPRETATION HERE]"
   ]
  },
  {
   "cell_type": "markdown",
   "metadata": {
    "jp-MarkdownHeadingCollapsed": true,
    "tags": []
   },
   "source": [
    "## 9. Private equity and publicly traded ownership may lead to more predation. But privately held colleges can be predatory too. Within each ownership form, those colleges that are operated by chains may also be more likely to be predatory. Use the **chain** variable to generate another set of bivariate tables and bargraphs for **degree level (iclevel)** and **chain ownership** and for **chain ownership (chain)** and **ownership form (owner_pe)**. Do the same if you think there is another intervening variable in your own data. Then report your interpretation [5 pts]\n",
    "[YOUR INTERPRETATION HERE]"
   ]
  },
  {
   "cell_type": "markdown",
   "metadata": {},
   "source": [
    "[record your interpretation here]"
   ]
  },
  {
   "cell_type": "code",
   "execution_count": null,
   "metadata": {},
   "outputs": [],
   "source": []
  },
  {
   "cell_type": "markdown",
   "metadata": {
    "jp-MarkdownHeadingCollapsed": true,
    "tags": []
   },
   "source": [
    "## 10. Lastly, use **chain ownership** or the relevant variable for your own data as a control variable by 1) adding the specification \"bysort iclevel:\" before the \"tab command\" and 2) adding a \"by(iclevel)\" specification to the end of the graph command. Interpret the results [5 pts]\n",
    "[YOUR INTERPRETATION HERE]"
   ]
  },
  {
   "cell_type": "code",
   "execution_count": null,
   "metadata": {},
   "outputs": [],
   "source": []
  }
 ],
 "metadata": {
  "kernelspec": {
   "display_name": "Stata (nbstata)",
   "language": "stata",
   "name": "nbstata"
  },
  "language_info": {
   "file_extension": ".do",
   "mimetype": "text/x-stata",
   "name": "stata",
   "version": "17"
  }
 },
 "nbformat": 4,
 "nbformat_minor": 4
}
