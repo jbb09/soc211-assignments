{
 "cells": [
  {
   "cell_type": "markdown",
   "metadata": {},
   "source": [
    "# Research Assignment 5 \n",
    "\n",
    "\n",
    "Justin Barnes \n",
    "\n",
    "4/4/2024"
   ]
  },
  {
   "cell_type": "markdown",
   "metadata": {},
   "source": [
    "### 1. Develop hypotheses that approach a nominal variable in your dataset as a dependent variable (DV). [1 pt]\n",
    "\n",
    "* If your nominal variable has more than two categorical variables, such as political party affiliation categories of -- Democrat, Democratic Socialist, Green, Independent, or Republican -- develop hypotheses that treat being or not being in at least one of the categories as a dichotomous binomial dependent variable (DV).\n",
    "\n",
    "* Even if you are not interested in any categorical outcomes for your research project, still develop an hypothesis for at least one nominal variable in your data as a dependent variable. Thinking about potential influences on that variable could help you see if there are intervening relationships or omitted variable biases in your primary outcome of interest.\n",
    "\n",
    "Do the following when you write your hypothesis:\n",
    "\n",
    "    A. Write a separate hypothesis for each dependent variable (DV) you want to analyze.\n",
    "\n",
    "## I will be treating the GSS variable for environmental spending support as a dichotomous variable, examining associations between political alignment and support for environmental spending. \n",
    "\n",
    "## H1: Left leaning respondents will show a stronger association with and likelihood of expressing support for environmental spending. \n",
    "\n",
    "\n",
    "    B. For each dependent variable (DV) state the predicted direction of association between your dependent variable DV and independent variables (IVs) in your model. You can predict no relationship if you do not expect a relationship.\n",
    "    \n",
    "## The relationship between being a left-leaning respondent and supporting env spending will be positive.\n",
    "    \n",
    "    C. Write a couple sentences about the theoretical reasons (prior knowledge / research) for each of your predictions\n",
    "## I expect that right-leaning respondents will tend to be more fiscally conservative and thus less likely to voice support for any increased spending that might be perceived as superfluous. Further, there has been a greater divide between left- and right- leaning camps on environmental issues in recent years."
   ]
  },
  {
   "cell_type": "code",
   "execution_count": 1,
   "metadata": {
    "tags": []
   },
   "outputs": [
    {
     "data": {
      "text/html": [
       "<style>div.jp-Notebook .datagrid-container {min-height: 448px; }</style>"
      ],
      "text/plain": [
       "<IPython.core.display.HTML object>"
      ]
     },
     "metadata": {},
     "output_type": "display_data"
    }
   ],
   "source": [
    "use natenvir educ age race partyid using GSS2018.dta, replace"
   ]
  },
  {
   "cell_type": "code",
   "execution_count": 2,
   "metadata": {
    "tags": []
   },
   "outputs": [
    {
     "name": "stdout",
     "output_type": "stream",
     "text": [
      "(file C:\\Users\\User\\Documents\\GRAD STATS LAB SEM 2\\Soc211\n",
      "    Assignments\\Research Project Assignment 5\\Researchassignment5.log not\n",
      "    found)\n",
      "-------------------------------------------------------------------------------\n",
      "      name:  <unnamed>\n",
      "       log:  C:\\Users\\User\\Documents\\GRAD STATS LAB SEM 2\\Soc211 Assignments\\Re\n",
      "> search Project Assignment 5\\Researchassignment5.log\n",
      "  log type:  text\n",
      " opened on:  16 Apr 2024, 12:08:24\n"
     ]
    }
   ],
   "source": [
    "capture log close\n",
    "log using \"Researchassignment5.log\", replace\n",
    "set more off\n",
    "keep natenvir partyid"
   ]
  },
  {
   "cell_type": "code",
   "execution_count": 3,
   "metadata": {
    "tags": []
   },
   "outputs": [
    {
     "data": {
      "text/html": [
       "<div>\n",
       "<style scoped>\n",
       "    .dataframe tbody tr th:only-of-type {\n",
       "        vertical-align: middle;\n",
       "    }\n",
       "\n",
       "    .dataframe tbody tr th {\n",
       "        vertical-align: top;\n",
       "    }\n",
       "\n",
       "    .dataframe thead th {\n",
       "        text-align: right;\n",
       "    }\n",
       "</style>\n",
       "<table border=\"1\" class=\"dataframe\">\n",
       "  <thead>\n",
       "    <tr style=\"text-align: right;\">\n",
       "      <th></th>\n",
       "      <th>partyid</th>\n",
       "      <th>natenvir</th>\n",
       "    </tr>\n",
       "  </thead>\n",
       "  <tbody>\n",
       "    <tr>\n",
       "      <th>1</th>\n",
       "      <td>not very strong republican</td>\n",
       "      <td>about right</td>\n",
       "    </tr>\n",
       "    <tr>\n",
       "      <th>2</th>\n",
       "      <td>independent, close to democrat</td>\n",
       "      <td>iap</td>\n",
       "    </tr>\n",
       "    <tr>\n",
       "      <th>3</th>\n",
       "      <td>independent, close to republican</td>\n",
       "      <td>too little</td>\n",
       "    </tr>\n",
       "    <tr>\n",
       "      <th>4</th>\n",
       "      <td>independent, close to democrat</td>\n",
       "      <td>iap</td>\n",
       "    </tr>\n",
       "    <tr>\n",
       "      <th>5</th>\n",
       "      <td>strong republican</td>\n",
       "      <td>iap</td>\n",
       "    </tr>\n",
       "  </tbody>\n",
       "</table>\n",
       "</div>"
      ]
     },
     "metadata": {},
     "output_type": "display_data"
    }
   ],
   "source": [
    "%head"
   ]
  },
  {
   "cell_type": "code",
   "execution_count": 4,
   "metadata": {
    "tags": []
   },
   "outputs": [
    {
     "name": "stdout",
     "output_type": "stream",
     "text": [
      "\n",
      "-------------------------------------------------------------------------------\n",
      "natenvir                                     improving & protecting environment\n",
      "-------------------------------------------------------------------------------\n",
      "\n",
      "                  Type: Numeric (byte)\n",
      "                 Label: NATSPEND\n",
      "\n",
      "                 Range: [1,3]                         Units: 1\n",
      "         Unique values: 3                         Missing .: 0/2,348\n",
      "       Unique mv codes: 3                        Missing .*: 1,191/2,348\n",
      "\n",
      "            Tabulation: Freq.   Numeric  Label\n",
      "                          790         1  too little\n",
      "                          284         2  about right\n",
      "                           83         3  too much\n",
      "                           30        .d  don't know\n",
      "                        1,160        .i  iap\n",
      "                            1        .n  no answer\n"
     ]
    }
   ],
   "source": [
    "codebook natenvir"
   ]
  },
  {
   "cell_type": "code",
   "execution_count": 5,
   "metadata": {
    "tags": []
   },
   "outputs": [
    {
     "name": "stdout",
     "output_type": "stream",
     "text": [
      "(2,348 missing values generated)\n",
      "(790 real changes made)\n",
      "(284 real changes made)\n",
      "(83 real changes made)\n"
     ]
    }
   ],
   "source": [
    "gen envspend=.\n",
    "\n",
    "replace envspend=1 if natenvir==1 \n",
    "replace envspend=0 if natenvir==2\n",
    "replace envspend=0 if natenvir==3"
   ]
  },
  {
   "cell_type": "code",
   "execution_count": 6,
   "metadata": {
    "tags": []
   },
   "outputs": [
    {
     "name": "stdout",
     "output_type": "stream",
     "text": [
      "\n",
      "   envspend |      Freq.     Percent        Cum.\n",
      "------------+-----------------------------------\n",
      "          0 |        367       31.72       31.72\n",
      "          1 |        790       68.28      100.00\n",
      "------------+-----------------------------------\n",
      "      Total |      1,157      100.00\n"
     ]
    }
   ],
   "source": [
    "tab envspend"
   ]
  },
  {
   "cell_type": "code",
   "execution_count": 7,
   "metadata": {
    "tags": []
   },
   "outputs": [
    {
     "name": "stdout",
     "output_type": "stream",
     "text": [
      "\n",
      "-------------------------------------------------------------------------------\n",
      "partyid                                             political party affiliation\n",
      "-------------------------------------------------------------------------------\n",
      "\n",
      "                  Type: Numeric (byte)\n",
      "                 Label: PARTYID\n",
      "\n",
      "                 Range: [0,7]                         Units: 1\n",
      "         Unique values: 8                         Missing .: 0/2,348\n",
      "       Unique mv codes: 1                        Missing .*: 33/2,348\n",
      "\n",
      "            Tabulation: Freq.   Numeric  Label\n",
      "                          379         0  strong democrat\n",
      "                          352         1  not very strong democrat\n",
      "                          307         2  independent, close to democrat\n",
      "                          414         3  independent (neither, no\n",
      "                                         response)\n",
      "                          259         4  independent, close to\n",
      "                                         republican\n",
      "                          272         5  not very strong republican\n",
      "                          255         6  strong republican\n",
      "                           77         7  other party\n",
      "                           33        .n  no answer\n"
     ]
    }
   ],
   "source": [
    "codebook partyid"
   ]
  },
  {
   "cell_type": "code",
   "execution_count": 8,
   "metadata": {
    "tags": []
   },
   "outputs": [
    {
     "name": "stdout",
     "output_type": "stream",
     "text": [
      "(2,348 missing values generated)\n",
      "(379 real changes made)\n",
      "(352 real changes made)\n",
      "(307 real changes made)\n",
      "(414 real changes made)\n",
      "(259 real changes made)\n",
      "(272 real changes made)\n",
      "(255 real changes made)\n",
      "(77 real changes made)\n"
     ]
    }
   ],
   "source": [
    "gen partygrps=.\n",
    "\n",
    "replace partygrps=1 if partyid==0 \n",
    "replace partygrps=1 if partyid==1\n",
    "replace partygrps=1 if partyid==2\n",
    "replace partygrps=2 if partyid==3\n",
    "replace partygrps=3 if partyid==4\n",
    "replace partygrps=3 if partyid==5\n",
    "replace partygrps=3 if partyid==6\n",
    "replace partygrps=4 if partyid==7"
   ]
  },
  {
   "cell_type": "code",
   "execution_count": 9,
   "metadata": {
    "tags": []
   },
   "outputs": [],
   "source": [
    "label define partygrps 1 \"Left-leaning\" 2 \"Independent\" 3 \"Right-leaning\" 4 \"Other\", replace"
   ]
  },
  {
   "cell_type": "code",
   "execution_count": 10,
   "metadata": {
    "tags": []
   },
   "outputs": [],
   "source": [
    "label values partygrps partygrps"
   ]
  },
  {
   "cell_type": "code",
   "execution_count": 11,
   "metadata": {
    "tags": []
   },
   "outputs": [
    {
     "name": "stdout",
     "output_type": "stream",
     "text": [
      "\n",
      "-------------------------------------------------------------------------------\n",
      "partygrps                                                           (unlabeled)\n",
      "-------------------------------------------------------------------------------\n",
      "\n",
      "                  Type: Numeric (float)\n",
      "                 Label: partygrps\n",
      "\n",
      "                 Range: [1,4]                         Units: 1\n",
      "         Unique values: 4                         Missing .: 33/2,348\n",
      "\n",
      "            Tabulation: Freq.   Numeric  Label\n",
      "                        1,038         1  Left-leaning\n",
      "                          414         2  Independent\n",
      "                          786         3  Right-leaning\n",
      "                           77         4  Other\n",
      "                           33         .  \n"
     ]
    }
   ],
   "source": [
    "codebook partygrps"
   ]
  },
  {
   "cell_type": "markdown",
   "metadata": {},
   "source": [
    "### 2. Test your hypotheses [3 pts]\n",
    "\n",
    "    A. Create a frequency table for your dependent variable (DV).\n",
    "\n",
    "    B. Estimate an OLS model regressing your dichotomous dependent variable (DV) on your hypothesized independent variables (IVs) and store the results.\n",
    "    \n",
    "    C. Estimate an MLE logistic model regressing your dichotomous dependent variable (DV) on your hypothesized independent variables (IVs) and store the results.\n",
    "    \n",
    "    D. Use esttab to output the coefficients for your OLS and MLE logistic models with html formatting within your Jupyter Notebook.\n",
    "    \n",
    "    E. Use esttab to reoutput your coefficients as odd ratios."
   ]
  },
  {
   "cell_type": "code",
   "execution_count": 12,
   "metadata": {
    "tags": []
   },
   "outputs": [
    {
     "name": "stdout",
     "output_type": "stream",
     "text": [
      "\n",
      "+-------------------+\n",
      "| Key               |\n",
      "|-------------------|\n",
      "|     frequency     |\n",
      "| column percentage |\n",
      "+-------------------+\n",
      "\n",
      "           |                  partygrps\n",
      "  envspend | Left-lean  Independe  Right-lea      Other |     Total\n",
      "-----------+--------------------------------------------+----------\n",
      "         0 |        97         65        188         15 |       365 \n",
      "           |     19.48      30.23      47.12      45.45 |     31.88 \n",
      "-----------+--------------------------------------------+----------\n",
      "         1 |       401        150        211         18 |       780 \n",
      "           |     80.52      69.77      52.88      54.55 |     68.12 \n",
      "-----------+--------------------------------------------+----------\n",
      "     Total |       498        215        399         33 |     1,145 \n",
      "           |    100.00     100.00     100.00     100.00 |    100.00 \n"
     ]
    }
   ],
   "source": [
    "tab envspend partygrps, column"
   ]
  },
  {
   "cell_type": "code",
   "execution_count": 13,
   "metadata": {
    "tags": []
   },
   "outputs": [
    {
     "name": "stdout",
     "output_type": "stream",
     "text": [
      "\n",
      "Linear regression                               Number of obs     =      1,145\n",
      "                                                F(3, 1141)        =      28.24\n",
      "                                                Prob > F          =     0.0000\n",
      "                                                R-squared         =     0.0707\n",
      "                                                Root MSE          =        .45\n",
      "\n",
      "------------------------------------------------------------------------------\n",
      "             |               Robust\n",
      "    envspend | Coefficient  std. err.      t    P>|t|     [95% conf. interval]\n",
      "-------------+----------------------------------------------------------------\n",
      "   partygrps |\n",
      "Independent  |  -.1075465   .0360629    -2.98   0.003    -.1783034   -.0367895\n",
      "Right-lea~g  |  -.2763988   .0307037    -9.00   0.000    -.3366409   -.2161568\n",
      "      Other  |  -.2597663   .0886314    -2.93   0.003    -.4336652   -.0858675\n",
      "             |\n",
      "       _cons |   .8052209   .0177776    45.29   0.000     .7703404    .8401014\n",
      "------------------------------------------------------------------------------\n",
      "(est1 stored)\n"
     ]
    }
   ],
   "source": [
    "eststo clear\n",
    "eststo: reg envspend i.partygrps, ro"
   ]
  },
  {
   "cell_type": "code",
   "execution_count": 14,
   "metadata": {
    "tags": []
   },
   "outputs": [
    {
     "name": "stdout",
     "output_type": "stream",
     "text": [
      "\n",
      "Iteration 0:  Log pseudolikelihood = -716.70631  \n",
      "Iteration 1:  Log pseudolikelihood = -676.43952  \n",
      "Iteration 2:  Log pseudolikelihood = -675.95001  \n",
      "Iteration 3:  Log pseudolikelihood = -675.94981  \n",
      "Iteration 4:  Log pseudolikelihood = -675.94981  \n",
      "\n",
      "Logistic regression                                     Number of obs =  1,145\n",
      "                                                        Wald chi2(3)  =  77.35\n",
      "                                                        Prob > chi2   = 0.0000\n",
      "Log pseudolikelihood = -675.94981                       Pseudo R2     = 0.0569\n",
      "\n",
      "------------------------------------------------------------------------------\n",
      "             |               Robust\n",
      "    envspend | Coefficient  std. err.      z    P>|z|     [95% conf. interval]\n",
      "-------------+----------------------------------------------------------------\n",
      "   partygrps |\n",
      "Independent  |  -.5830024   .1867747    -3.12   0.002    -.9490741   -.2169307\n",
      "Right-lea~g  |  -1.303834   .1512664    -8.62   0.000    -1.600311   -1.007358\n",
      "      Other  |  -1.236929   .3676184    -3.36   0.001    -1.957448     -.51641\n",
      "             |\n",
      "       _cons |    1.41925      .1132    12.54   0.000     1.197383    1.641118\n",
      "------------------------------------------------------------------------------\n",
      "(est2 stored)\n"
     ]
    }
   ],
   "source": [
    "eststo: logit envspend i.partygrps, ro"
   ]
  },
  {
   "cell_type": "code",
   "execution_count": 15,
   "metadata": {
    "tags": []
   },
   "outputs": [],
   "source": [
    "quietly eststo: margins, dydx(*) post atmeans"
   ]
  },
  {
   "cell_type": "code",
   "execution_count": 16,
   "metadata": {
    "tags": []
   },
   "outputs": [
    {
     "name": "stdout",
     "output_type": "stream",
     "text": [
      "\n",
      "Unexpontiated coefficients\n",
      "---------------------------------------------------------------\n",
      "                      (1)              (2)              (3)    \n",
      "                      OLS     MLE / logi~c     MLE margin~s    \n",
      "---------------------------------------------------------------\n",
      "main                                                           \n",
      "Independent         -0.11 **         -0.58 **         -0.11 ** \n",
      "                   (0.04)           (0.19)           (0.04)    \n",
      "Right-lean~g        -0.28 ***        -1.30 ***        -0.28 ***\n",
      "                   (0.03)           (0.15)           (0.03)    \n",
      "Other               -0.26 **         -1.24 ***        -0.26 ** \n",
      "                   (0.09)           (0.37)           (0.09)    \n",
      "_cons                0.81 ***         1.42 ***                 \n",
      "                   (0.02)           (0.11)                     \n",
      "---------------------------------------------------------------\n",
      "N                    1145             1145             1145    \n",
      "---------------------------------------------------------------\n",
      "^ p<.1, * p<.05, ** p<.01, *** p<.001\n"
     ]
    }
   ],
   "source": [
    "*Unexponated version\n",
    "esttab ///\n",
    ", cells(b(star fmt(2)) se(fmt(2) par)) stardetach  ///\n",
    "\tlegend starlevels(^ .1 * .05 ** .01 *** .001) ///\n",
    "mlabels(\"OLS\" \"MLE / logistic\" \"MLE marginal effects\") title(\"Unexpontiated coefficients\") ///\n",
    "collabels(none) coeflabel (2.partygrps \"Independent\" 3.partygrps \"Right-leaning\" 4.partygrps \"Other\") drop(1.partygrps)"
   ]
  },
  {
   "cell_type": "code",
   "execution_count": 17,
   "metadata": {
    "tags": []
   },
   "outputs": [
    {
     "name": "stdout",
     "output_type": "stream",
     "text": [
      "\n",
      "Odds ratio\n",
      "---------------------------------------------------------------\n",
      "                      (1)              (2)              (3)    \n",
      "                      OLS     MLE / logi~c     MLE margin~s    \n",
      "---------------------------------------------------------------\n",
      "main                                                           \n",
      "Independent          0.90 **          0.56 **          0.90 ** \n",
      "                   (0.03)           (0.10)           (0.03)    \n",
      "Right-lean~g         0.76 ***         0.27 ***         0.76 ***\n",
      "                   (0.02)           (0.04)           (0.02)    \n",
      "Other                0.77 **          0.29 ***         0.77 ** \n",
      "                   (0.07)           (0.11)           (0.07)    \n",
      "---------------------------------------------------------------\n",
      "N                    1145             1145             1145    \n",
      "---------------------------------------------------------------\n",
      "Exponentiated coefficients\n",
      "^ p<.1, * p<.05, ** p<.01, *** p<.001\n"
     ]
    }
   ],
   "source": [
    "*Exponated version \n",
    "\n",
    "esttab ///\n",
    ", cells(b(star fmt(2)) se(fmt(2) par)) stardetach  ///\n",
    "\tlegend starlevels(^ .1 * .05 ** .01 *** .001) ///\n",
    "mlabels(\"OLS\" \"MLE / logistic\" \"MLE marginal effects\") title(\"Odds ratio\") ///\n",
    "collabels(none) coeflabel (2.partygrps \"Independent\" 3.partygrps \"Right-leaning\" ///\n",
    "4.partygrps \"Other\") drop(1.partygrps _cons) eform"
   ]
  },
  {
   "cell_type": "markdown",
   "metadata": {},
   "source": [
    "### 3. Interpret your results [1 pt]\n",
    "\n",
    "Write a couple sentences answering each of the following questions:\n",
    "\n",
    "    A. How would you interpret the relationship between your dependent variable(s) (DVs) and independent variables (IVs) based on the odds ratios for you MLE logistic model?\n",
    "    \n",
    "## H1: Left-leaning respondends will show a stronger association with and likelihood of expressing support for environmental spending.\n",
    "\n",
    "## - The odds ratio estimate for an independent respondent is about .9, suggesting that an independent respondent is about 10% less likely to support increased environmental spending in comparison to a left-leaning respondent. \n",
    "## - The odds ratio for a right-leaning respondent is about .76, suggesting that an right-leaning respondent is 24% less likely to support increased environmental spending in comparison to a left-leaning respondent. \n",
    "## - The odds ratio for an 'other political alignment' respondent is about .77, suggesting that an 'other' respondent is about 23% less likely to support increased environmental spending in comparison to a left-leaning respondent.  \n",
    "\n",
    "    B. Do the overall estimates support or contradict your hypotheses? Why?\n",
    "\n",
    "## The estimates do support my hypotheses - support for environmental spending is more strongly associated wtih left-leaning respondents than with any other political inclination. \n",
    "    \n",
    "    C. Is there anything suprising in your model estimates? Why?\n",
    "    \n",
    "## These results are not particularly surprising given my initial expectations.\n",
    "\n",
    "    D. How do the OLS coefficients and their standard errors compare to the MLE estimates? Are the coefficients and standard errors larger or smaller?\n",
    "    \n",
    "## The coefficient and standard error estimates within this current model appear to be the same across both the OLS and MLE models. There is no apparent difference in any of the given values. "
   ]
  },
  {
   "cell_type": "code",
   "execution_count": null,
   "metadata": {},
   "outputs": [],
   "source": []
  }
 ],
 "metadata": {
  "kernelspec": {
   "display_name": "Stata (nbstata)",
   "language": "stata",
   "name": "nbstata"
  },
  "language_info": {
   "file_extension": ".do",
   "mimetype": "text/x-stata",
   "name": "stata",
   "version": "17"
  }
 },
 "nbformat": 4,
 "nbformat_minor": 4
}
