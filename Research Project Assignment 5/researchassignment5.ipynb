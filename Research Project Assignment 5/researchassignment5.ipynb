{
 "cells": [
  {
   "cell_type": "markdown",
   "metadata": {},
   "source": [
    "# Research Assignment 5 \n",
    "\n",
    "\n",
    "[your name]\n",
    "\n",
    "[working title of the project] \n",
    "\n",
    "[date]"
   ]
  },
  {
   "cell_type": "markdown",
   "metadata": {},
   "source": [
    "### 1. Develop hypotheses that approach a nominal variable in your dataset as a dependent variable (DV). [1 pt]\n",
    "\n",
    "* If your nominal variable has more than two categorical variables, such as political party affiliation categories of -- Democrat, Democratic Socialist, Green, Independent, or Republican -- develop hypotheses that treat being or not being in at least one of the categories as a dichotomous binomial dependent variable (DV).\n",
    "\n",
    "* Even if you are not interested in any categorical outcomes for your research project, still develop an hypothesis for at least one nominal variable in your data as a dependent variable. Thinking about potential influences on that variable could help you see if there are intervening relationships or omitted variable biases in your primary outcome of interest.\n",
    "\n",
    "Do the following when you write your hypothesis:\n",
    "\n",
    "    A. Write a separate hypothesis for each dependent variable (DV) you want to analyze.\n",
    "    \n",
    "    B. For each dependent variable (DV) state the predicted direction of association between your dependent variable DV and independent variables (IVs) in your model. You can predict no relationship if you do not expect a relationship.\n",
    "    \n",
    "    C. Write a couple sentences about the theoretical reasons (prior knowledge / research) for each of your predictions"
   ]
  },
  {
   "cell_type": "markdown",
   "metadata": {},
   "source": [
    "### 2. Test your hypotheses [3 pts]\n",
    "\n",
    "    A. Create a frequency table for your dependent variable (DV).\n",
    "\n",
    "    B. Estimate an OLS model regressing your dichotomous dependent variable (DV) on your hypothesized independent variables (IVs) and store the results.\n",
    "    \n",
    "    C. Estimate an MLE logistic model regressing your dichotomous dependent variable (DV) on your hypothesized independent variables (IVs) and store the results.\n",
    "    \n",
    "    D. Use esttab to output the coefficients for your OLS and MLE logistic models with html formatting within your Jupyter Notebook.\n",
    "    \n",
    "    E. Use esttab to reoutput your coefficients as odd ratios."
   ]
  },
  {
   "cell_type": "code",
   "execution_count": 20,
   "metadata": {
    "tags": []
   },
   "outputs": [],
   "source": [
    "use natenvir educ age race partyid using GSS2018.dta, replace"
   ]
  },
  {
   "cell_type": "code",
   "execution_count": 21,
   "metadata": {
    "tags": []
   },
   "outputs": [
    {
     "name": "stdout",
     "output_type": "stream",
     "text": [
      "checking g538schemes consistency and verifying not already installed...\n",
      "all files already exist and are up to date.\n"
     ]
    }
   ],
   "source": [
    "ssc install g538schemes\n",
    "*capture log close\n",
    "*log using \"ResearchAssignmentProject4.log\", replace\n",
    "set more off"
   ]
  },
  {
   "cell_type": "code",
   "execution_count": 22,
   "metadata": {
    "tags": []
   },
   "outputs": [
    {
     "data": {
      "text/html": [
       "<div>\n",
       "<style scoped>\n",
       "    .dataframe tbody tr th:only-of-type {\n",
       "        vertical-align: middle;\n",
       "    }\n",
       "\n",
       "    .dataframe tbody tr th {\n",
       "        vertical-align: top;\n",
       "    }\n",
       "\n",
       "    .dataframe thead th {\n",
       "        text-align: right;\n",
       "    }\n",
       "</style>\n",
       "<table border=\"1\" class=\"dataframe\">\n",
       "  <thead>\n",
       "    <tr style=\"text-align: right;\">\n",
       "      <th></th>\n",
       "      <th>age</th>\n",
       "      <th>educ</th>\n",
       "      <th>race</th>\n",
       "      <th>partyid</th>\n",
       "      <th>natenvir</th>\n",
       "    </tr>\n",
       "  </thead>\n",
       "  <tbody>\n",
       "    <tr>\n",
       "      <th>1</th>\n",
       "      <td></td>\n",
       "      <td></td>\n",
       "      <td>white</td>\n",
       "      <td>not very strong republican</td>\n",
       "      <td>about right</td>\n",
       "    </tr>\n",
       "    <tr>\n",
       "      <th>2</th>\n",
       "      <td></td>\n",
       "      <td></td>\n",
       "      <td>white</td>\n",
       "      <td>independent, close to democrat</td>\n",
       "      <td>iap</td>\n",
       "    </tr>\n",
       "    <tr>\n",
       "      <th>3</th>\n",
       "      <td></td>\n",
       "      <td></td>\n",
       "      <td>white</td>\n",
       "      <td>independent, close to republican</td>\n",
       "      <td>too little</td>\n",
       "    </tr>\n",
       "    <tr>\n",
       "      <th>4</th>\n",
       "      <td></td>\n",
       "      <td></td>\n",
       "      <td>white</td>\n",
       "      <td>independent, close to democrat</td>\n",
       "      <td>iap</td>\n",
       "    </tr>\n",
       "    <tr>\n",
       "      <th>5</th>\n",
       "      <td></td>\n",
       "      <td></td>\n",
       "      <td>black</td>\n",
       "      <td>strong republican</td>\n",
       "      <td>iap</td>\n",
       "    </tr>\n",
       "  </tbody>\n",
       "</table>\n",
       "</div>"
      ]
     },
     "metadata": {},
     "output_type": "display_data"
    }
   ],
   "source": [
    "%head"
   ]
  },
  {
   "cell_type": "code",
   "execution_count": 23,
   "metadata": {
    "tags": []
   },
   "outputs": [
    {
     "name": "stdout",
     "output_type": "stream",
     "text": [
      "\n",
      "-------------------------------------------------------------------------------\n",
      "natenvir                                     improving & protecting environment\n",
      "-------------------------------------------------------------------------------\n",
      "\n",
      "                  Type: Numeric (byte)\n",
      "                 Label: NATSPEND\n",
      "\n",
      "                 Range: [1,3]                         Units: 1\n",
      "         Unique values: 3                         Missing .: 0/2,348\n",
      "       Unique mv codes: 3                        Missing .*: 1,191/2,348\n",
      "\n",
      "            Tabulation: Freq.   Numeric  Label\n",
      "                          790         1  too little\n",
      "                          284         2  about right\n",
      "                           83         3  too much\n",
      "                           30        .d  don't know\n",
      "                        1,160        .i  iap\n",
      "                            1        .n  no answer\n"
     ]
    }
   ],
   "source": [
    "codebook natenvir"
   ]
  },
  {
   "cell_type": "code",
   "execution_count": 24,
   "metadata": {
    "tags": []
   },
   "outputs": [
    {
     "name": "stdout",
     "output_type": "stream",
     "text": [
      "(2,348 missing values generated)\n",
      "(790 real changes made)\n",
      "(284 real changes made)\n",
      "(83 real changes made)\n"
     ]
    }
   ],
   "source": [
    "gen envspend=.\n",
    "\n",
    "replace envspend=1 if natenvir==1 \n",
    "replace envspend=0 if natenvir==2\n",
    "replace envspend=0 if natenvir==3"
   ]
  },
  {
   "cell_type": "code",
   "execution_count": 25,
   "metadata": {
    "tags": []
   },
   "outputs": [
    {
     "name": "stdout",
     "output_type": "stream",
     "text": [
      "\n",
      "   envspend |      Freq.     Percent        Cum.\n",
      "------------+-----------------------------------\n",
      "          0 |        367       31.72       31.72\n",
      "          1 |        790       68.28      100.00\n",
      "------------+-----------------------------------\n",
      "      Total |      1,157      100.00\n"
     ]
    }
   ],
   "source": [
    "tab envspend"
   ]
  },
  {
   "cell_type": "code",
   "execution_count": 26,
   "metadata": {
    "tags": []
   },
   "outputs": [
    {
     "name": "stdout",
     "output_type": "stream",
     "text": [
      "\n",
      "-------------------------------------------------------------------------------\n",
      "partyid                                             political party affiliation\n",
      "-------------------------------------------------------------------------------\n",
      "\n",
      "                  Type: Numeric (byte)\n",
      "                 Label: PARTYID\n",
      "\n",
      "                 Range: [0,7]                         Units: 1\n",
      "         Unique values: 8                         Missing .: 0/2,348\n",
      "       Unique mv codes: 1                        Missing .*: 33/2,348\n",
      "\n",
      "            Tabulation: Freq.   Numeric  Label\n",
      "                          379         0  strong democrat\n",
      "                          352         1  not very strong democrat\n",
      "                          307         2  independent, close to democrat\n",
      "                          414         3  independent (neither, no\n",
      "                                         response)\n",
      "                          259         4  independent, close to\n",
      "                                         republican\n",
      "                          272         5  not very strong republican\n",
      "                          255         6  strong republican\n",
      "                           77         7  other party\n",
      "                           33        .n  no answer\n"
     ]
    }
   ],
   "source": [
    "codebook partyid"
   ]
  },
  {
   "cell_type": "code",
   "execution_count": 27,
   "metadata": {
    "tags": []
   },
   "outputs": [
    {
     "name": "stdout",
     "output_type": "stream",
     "text": [
      "(2,348 missing values generated)\n",
      "(379 real changes made)\n",
      "(352 real changes made)\n",
      "(307 real changes made)\n",
      "(414 real changes made)\n",
      "(259 real changes made)\n",
      "(272 real changes made)\n",
      "(255 real changes made)\n",
      "(77 real changes made)\n"
     ]
    }
   ],
   "source": [
    "gen partygrps=.\n",
    "\n",
    "replace partygrps=1 if partyid==0 \n",
    "replace partygrps=1 if partyid==1\n",
    "replace partygrps=1 if partyid==2\n",
    "replace partygrps=2 if partyid==3\n",
    "replace partygrps=3 if partyid==4\n",
    "replace partygrps=3 if partyid==5\n",
    "replace partygrps=3 if partyid==6\n",
    "replace partygrps=4 if partyid==7"
   ]
  },
  {
   "cell_type": "code",
   "execution_count": 28,
   "metadata": {
    "tags": []
   },
   "outputs": [],
   "source": [
    "label define partygrps 1 \"Left-leaning\" 2 \"Independent\" 3 \"Right-leaning\" 4 \"Other\", replace"
   ]
  },
  {
   "cell_type": "code",
   "execution_count": 29,
   "metadata": {
    "tags": []
   },
   "outputs": [],
   "source": [
    "label values partygrps partygrps"
   ]
  },
  {
   "cell_type": "code",
   "execution_count": 30,
   "metadata": {
    "tags": []
   },
   "outputs": [
    {
     "name": "stdout",
     "output_type": "stream",
     "text": [
      "\n",
      "-------------------------------------------------------------------------------\n",
      "partygrps                                                           (unlabeled)\n",
      "-------------------------------------------------------------------------------\n",
      "\n",
      "                  Type: Numeric (float)\n",
      "                 Label: partygrps\n",
      "\n",
      "                 Range: [1,4]                         Units: 1\n",
      "         Unique values: 4                         Missing .: 33/2,348\n",
      "\n",
      "            Tabulation: Freq.   Numeric  Label\n",
      "                        1,038         1  Left-leaning\n",
      "                          414         2  Independent\n",
      "                          786         3  Right-leaning\n",
      "                           77         4  Other\n",
      "                           33         .  \n"
     ]
    }
   ],
   "source": [
    "codebook partygrps"
   ]
  },
  {
   "cell_type": "code",
   "execution_count": 31,
   "metadata": {
    "tags": []
   },
   "outputs": [],
   "source": [
    "%set graph_width = 11"
   ]
  },
  {
   "cell_type": "code",
   "execution_count": 32,
   "metadata": {
    "tags": []
   },
   "outputs": [],
   "source": [
    "%set graph_height = 8"
   ]
  },
  {
   "cell_type": "code",
   "execution_count": 33,
   "metadata": {
    "tags": []
   },
   "outputs": [
    {
     "name": "stdout",
     "output_type": "stream",
     "text": [
      "(2,348 missing values generated)\n",
      "(632 real changes made)\n",
      "(1,170 real changes made)\n",
      "(546 real changes made)\n"
     ]
    }
   ],
   "source": [
    "gen agerange=.\n",
    "\n",
    "replace agerange=1 if age>=18 & age <=34\n",
    "replace agerange=2 if age>=35 & age <=64\n",
    "replace agerange=3 if age>=65\n"
   ]
  },
  {
   "cell_type": "code",
   "execution_count": 34,
   "metadata": {
    "tags": []
   },
   "outputs": [],
   "source": [
    "label define agerange 1 \"Adult\" 2 \"Middle Aged\" 3 \"Elder\", replace\n",
    "\n",
    "label values agerange agerange"
   ]
  },
  {
   "cell_type": "code",
   "execution_count": 38,
   "metadata": {
    "tags": []
   },
   "outputs": [
    {
     "name": "stdout",
     "output_type": "stream",
     "text": [
      "\n",
      "+-------------------+\n",
      "| Key               |\n",
      "|-------------------|\n",
      "|     frequency     |\n",
      "| column percentage |\n",
      "+-------------------+\n",
      "\n",
      "           |             agerange\n",
      "  envspend |     Adult  Middle Ag      Elder |     Total\n",
      "-----------+---------------------------------+----------\n",
      "         0 |        83        185         99 |       367 \n",
      "           |     23.18      32.92      41.77 |     31.72 \n",
      "-----------+---------------------------------+----------\n",
      "         1 |       275        377        138 |       790 \n",
      "           |     76.82      67.08      58.23 |     68.28 \n",
      "-----------+---------------------------------+----------\n",
      "     Total |       358        562        237 |     1,157 \n",
      "           |    100.00     100.00     100.00 |    100.00 \n"
     ]
    }
   ],
   "source": [
    "tab envspend agerange, column"
   ]
  },
  {
   "cell_type": "code",
   "execution_count": 37,
   "metadata": {
    "tags": []
   },
   "outputs": [
    {
     "name": "stdout",
     "output_type": "stream",
     "text": [
      "\n",
      "+-------------------+\n",
      "| Key               |\n",
      "|-------------------|\n",
      "|     frequency     |\n",
      "| column percentage |\n",
      "+-------------------+\n",
      "\n",
      "           |                  partygrps\n",
      "  envspend | Left-lean  Independe  Right-lea      Other |     Total\n",
      "-----------+--------------------------------------------+----------\n",
      "         0 |        97         65        188         15 |       365 \n",
      "           |     19.48      30.23      47.12      45.45 |     31.88 \n",
      "-----------+--------------------------------------------+----------\n",
      "         1 |       401        150        211         18 |       780 \n",
      "           |     80.52      69.77      52.88      54.55 |     68.12 \n",
      "-----------+--------------------------------------------+----------\n",
      "     Total |       498        215        399         33 |     1,145 \n",
      "           |    100.00     100.00     100.00     100.00 |    100.00 \n"
     ]
    }
   ],
   "source": [
    "tab envspend partygrps, column"
   ]
  },
  {
   "cell_type": "code",
   "execution_count": null,
   "metadata": {},
   "outputs": [],
   "source": [
    "eststo: reg envspend partygrps agerange"
   ]
  },
  {
   "cell_type": "markdown",
   "metadata": {},
   "source": [
    "### 3. Interpret your results [1 pt]\n",
    "\n",
    "Write a couple sentences answering each of the following questions:\n",
    "\n",
    "    A. How would you interpret the relationship between your dependent variable(s) (DVs) and independent variables (IVs) based on the odds ratios for you MLE logistic model?\n",
    "\n",
    "    B. Do the overall estimates support or contradict your hypotheses? Why?\n",
    "    \n",
    "    C. Is there anything suprising in your model estimates? Why?\n",
    "    \n",
    "    D. How do the OLS coefficients and their standard errors compare to the MLE estimates? Are the coefficients and standard errors larger or smaller?"
   ]
  },
  {
   "cell_type": "code",
   "execution_count": null,
   "metadata": {},
   "outputs": [],
   "source": []
  }
 ],
 "metadata": {
  "kernelspec": {
   "display_name": "Stata (nbstata)",
   "language": "stata",
   "name": "nbstata"
  },
  "language_info": {
   "file_extension": ".do",
   "mimetype": "text/x-stata",
   "name": "stata",
   "version": "17"
  }
 },
 "nbformat": 4,
 "nbformat_minor": 4
}
