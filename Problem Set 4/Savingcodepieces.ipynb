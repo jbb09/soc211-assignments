{
 "cells": [
  {
   "cell_type": "code",
   "execution_count": 35,
   "id": "a5db69d0-7b22-4e1b-a2c4-8b5eedf9eb04",
   "metadata": {
    "tags": []
   },
   "outputs": [],
   "source": [
    "*This part was just for demonstration, but saving the code. \n",
    "\n",
    "/*quietly use forprofits20200317, clear\n",
    "quietly keep if loan_amount_borrower_c_w!=.\n",
    "quietly gen debtmeans=.\n",
    "quietly gen n=_n\n",
    "forvalues i=1/10 {\n",
    "    quietly gen random=runiform()\n",
    "    quietly sort random\n",
    "  stripplot loan_amount_borrower_c_w if _n<=50, scheme(538w) refline  ///\n",
    "    ysize(1) xsize(10) scale(5) xtitle(\"\") xlabel(0(5000)15000, labsize(vlarge)) name(g`i', replace)\n",
    "\n",
    "    drop random\n",
    "    }\n",
    "\n",
    "*Above for ten iterations, sort them based on a \n",
    "// new variable that's basically a random number generator. \n",
    "// Then plot blue dots for their values of y. Then draw a little line for the mean \n"
   ]
  },
  {
   "cell_type": "code",
   "execution_count": null,
   "id": "8c5753cd-e5b2-4244-82f0-257746b59410",
   "metadata": {
    "tags": []
   },
   "outputs": [],
   "source": [
    "*Also seems to be for demonstration. Saving the code \n",
    "\n",
    "// Do we need to look at this for interpretation?\n",
    "\n",
    "/*quietly {\n",
    " forvalues i=11/1000 {\n",
    "    quietly gen random=runiform()\n",
    "    quietly sort random    \n",
    "    quietly sum loan_amount_borrower_c_w if _n<=200\n",
    "    quietly replace debtmeans=r(mean) if n==`i'\n",
    "    quietly drop random\n",
    "}\n",
    "}\n",
    "histogram debtmeans, scheme(538w) start(0) width(100) xlabel(0(5000)15000) ytitle(\" \") ylabel(none)"
   ]
  }
 ],
 "metadata": {
  "kernelspec": {
   "display_name": "Stata (nbstata)",
   "language": "stata",
   "name": "nbstata"
  },
  "language_info": {
   "file_extension": ".do",
   "mimetype": "text/x-stata",
   "name": "stata",
   "version": "17"
  }
 },
 "nbformat": 4,
 "nbformat_minor": 5
}
