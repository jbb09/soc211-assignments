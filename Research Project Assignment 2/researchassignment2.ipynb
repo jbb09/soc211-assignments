{
 "cells": [
  {
   "cell_type": "markdown",
   "metadata": {},
   "source": [
    "## Research Assignment 2\n",
    "\n",
    "Justin Barnes\n",
    "\n",
    "Effect of educational attainment on pro-environmental values"
   ]
  },
  {
   "cell_type": "markdown",
   "metadata": {
    "tags": []
   },
   "source": [
    "### 1. Write a paragraph about your hypotheses\n",
    "\n",
    "[Your answer here should explain:\n",
    "1. What are your dependent variables? Why do they interest you?\n",
    "2. What are your independent variables? What direction to you hypothesize will be the relationship between your dependent variable and your dependent variables?\n",
    "3. Why do you think your dependent variables are associated with your independent variables?\n",
    "4. What are your control variables? Do you think they will show any spurious, intervening, or interactive relationships? Why?]\n",
    "\n",
    "1. My primary dependent variable is respondents' support for national investment in environmental protection efforts. This is indicated by the NATENVIR variable; I am also potentially interested in a similar variable called NATEDUC, but will likely focus on NATENVIR for this specific assignment. I have not yet settled on my own data set, so I attempted to find a relevant variable in the GSS data repository. The NATENVIR variable interests me because it relates loosely to my primary interest in climate issues and public education/awareness. \n",
    "2. For this assignment, I will focus on educational attainment and time as my independent variables. I have included other variables of interest such as race, but will not use them in my bivariate tabling for the sake of time. My expectation is that as respondents increase in educational attainment, they will value protection of the environment more highly on average. \n",
    "3. I think that educational attainment is associated with value for environmental protection because I expect knowledge about environmental processes, pollution conservation and, hopefully, climate issues, to raise environmental concern. \n",
    "4. My control variable will be time-specifically, different decades during which respondents were polled. I think that there may be an intervening relationship where, because environmental issues have gained traction in recent decades, people at the same educational level may have a bit more concern over the environment over time. "
   ]
  },
  {
   "cell_type": "markdown",
   "metadata": {
    "tags": []
   },
   "source": [
    "### 1. Setting up your session\n",
    "\n",
    "In the code cell below, do the following:\n",
    "\n",
    "1. set current directory \n",
    "2. set more off \n",
    "3. create log file \n",
    "4. download the data from its source if it's available online\n",
    "5. read the data in [preferably only variables you are going to use]"
   ]
  },
  {
   "cell_type": "code",
   "execution_count": 6,
   "metadata": {
    "tags": []
   },
   "outputs": [
    {
     "name": "stdout",
     "output_type": "stream",
     "text": [
      "C:\\Users\\User\\Documents\\GRAD STATS LAB SEM 2\\Soc211 Assignments\\Research Projec\n",
      "> t Assignment 2\n"
     ]
    }
   ],
   "source": [
    "cd \"C:\\Users\\User\\Documents\\GRAD STATS LAB SEM 2\\Soc211 Assignments\\Research Project Assignment 2\""
   ]
  },
  {
   "cell_type": "code",
   "execution_count": 7,
   "metadata": {
    "tags": []
   },
   "outputs": [
    {
     "name": "stdout",
     "output_type": "stream",
     "text": [
      "(-set more- irrelevant in this version of Stata)\n"
     ]
    }
   ],
   "source": [
    "set more off"
   ]
  },
  {
   "cell_type": "code",
   "execution_count": 8,
   "metadata": {
    "tags": []
   },
   "outputs": [
    {
     "name": "stdout",
     "output_type": "stream",
     "text": [
      "\u001b[31mlog file already open\n",
      "r(604);\u001b[0m\n"
     ]
    }
   ],
   "source": [
    "log using \"Research_Project_2.log\", replace"
   ]
  },
  {
   "cell_type": "code",
   "execution_count": null,
   "metadata": {
    "tags": []
   },
   "outputs": [],
   "source": [
    "use \"C:\\Users\\User\\Documents\\GRAD STATS LAB SEM 2\\Soc211 Assignments\\Research Project Assignment 2\\Research Project 2 GSS Stata.dta\", clear"
   ]
  },
  {
   "cell_type": "code",
   "execution_count": null,
   "metadata": {
    "tags": []
   },
   "outputs": [],
   "source": [
    "ds"
   ]
  },
  {
   "cell_type": "markdown",
   "metadata": {},
   "source": [
    "### 2. Browse the data\n",
    "\n",
    "Do the following in separate cells. Do do these in separate cells, you will need to use the right click \"split cell\" option:\n",
    "\n",
    "1. Use \"describe\" to print details about the dataset\n",
    "2. Print the heads and tables of the data using the appropriate magic\n",
    "3. label the unique identifier variable\n",
    "4. Generate a frequency table to show the N for each unit of time if there is data for multiple units in time\n",
    "5. Check for missing data overall and within key categories of analysis (time, independent or dependent variable categories, etc)\n",
    "6. use summarize to create a table with summary statistics for each variable you plan to analyze"
   ]
  },
  {
   "cell_type": "code",
   "execution_count": null,
   "metadata": {
    "tags": []
   },
   "outputs": [],
   "source": [
    "*Use \"describe\" to print details about the dataset\n",
    "\n",
    "describe"
   ]
  },
  {
   "cell_type": "code",
   "execution_count": null,
   "metadata": {
    "tags": []
   },
   "outputs": [],
   "source": [
    "tab INTEDUC"
   ]
  },
  {
   "cell_type": "code",
   "execution_count": null,
   "metadata": {
    "tags": []
   },
   "outputs": [],
   "source": [
    "*Print the heads and tables (tails?) of the data using the appropriate magic(below)"
   ]
  },
  {
   "cell_type": "code",
   "execution_count": null,
   "metadata": {
    "tags": []
   },
   "outputs": [],
   "source": [
    "%head"
   ]
  },
  {
   "cell_type": "code",
   "execution_count": null,
   "metadata": {
    "tags": []
   },
   "outputs": [],
   "source": [
    "*Print the heads and tables (tails?) of the data using the appropriate magic"
   ]
  },
  {
   "cell_type": "code",
   "execution_count": null,
   "metadata": {
    "tags": []
   },
   "outputs": [],
   "source": [
    "%tail"
   ]
  },
  {
   "cell_type": "code",
   "execution_count": null,
   "metadata": {
    "tags": []
   },
   "outputs": [],
   "source": [
    "codebook ID_"
   ]
  },
  {
   "cell_type": "code",
   "execution_count": null,
   "metadata": {
    "tags": []
   },
   "outputs": [],
   "source": [
    "*label the unique identifier variable\n",
    "\n",
    "label var ID_ \"Respondent id number (Unique identifier)\""
   ]
  },
  {
   "cell_type": "code",
   "execution_count": null,
   "metadata": {
    "tags": []
   },
   "outputs": [],
   "source": [
    "*4. Generate a frequency table to show the N for each unit of time if there is data for multiple units in time\n",
    "\n",
    "tab YEAR"
   ]
  },
  {
   "cell_type": "code",
   "execution_count": null,
   "metadata": {
    "tags": []
   },
   "outputs": [],
   "source": [
    "*Check for missing data overall and within key categories of analysis (time, independent or dependent variable categories, etc)\n",
    "\n",
    "codebook YEAR EDUC NATENVIR RACE"
   ]
  },
  {
   "cell_type": "code",
   "execution_count": null,
   "metadata": {
    "tags": []
   },
   "outputs": [],
   "source": [
    "*6. use summarize to create a table with summary statistics for each variable you plan to analyze\n",
    "sum YEAR EDUC NATENVIR RACE"
   ]
  },
  {
   "cell_type": "markdown",
   "metadata": {},
   "source": [
    "### 3. Write a note summarizing what you learned from browsing the data\n",
    "\n",
    "This is a custom data set from multiple years of GSS data on the selected variables (I tried to gather different variables which might be relevant/interesting for my work), so it is across multiple years. However, there seem to be about 45% of my dependent variable, NATENVIR, missing, so I would need to do something like listwise deletion to clean this data for more a more in-depth examination. There are also a couple hundred missing values for EDUC (highest year of schooling). Most of the variables I am currently examining are nominal with the exception of the YEAR variable, which I will convert to ordinal below. My dependent variable (NATENVIR) is nominal and the mode is \"TOO LITTLE\", which has the most responses at 24,244."
   ]
  },
  {
   "cell_type": "code",
   "execution_count": null,
   "metadata": {
    "tags": []
   },
   "outputs": [],
   "source": [
    "codebook NATENVIR"
   ]
  },
  {
   "cell_type": "markdown",
   "metadata": {
    "tags": []
   },
   "source": [
    "### 4. Create univariate histograms of interval ratio variables you plan to analyze.\n",
    "\n",
    "Write at least 3 forloops to generate histograms for all the variables you plan to analyze. Create titles for each histogram that notes whether it is a dependent, independent, or control variable (you can also note in titles whether control vars control for spurious, intervening, or interactive relationships). Begin with your dependent variables. Then make a note below to describe the shapes of the distributions and their implications for your study.\n",
    "\n",
    "For my dependent variable NATENVIR, the majority of respondents chose the \"TOO LITTLE\" option when asked whether we are spending enough on protecting the environment. Very few opted for \"TOO MUCH\". According to the distribution of EDUC, most respondents seem to be grouped around the high school and college completion levels. Finally, the RACE variable shows that the vast majority of respondents were white. "
   ]
  },
  {
   "cell_type": "code",
   "execution_count": null,
   "metadata": {
    "tags": []
   },
   "outputs": [],
   "source": [
    "codebook NATENVIR     "
   ]
  },
  {
   "cell_type": "code",
   "execution_count": null,
   "metadata": {
    "tags": []
   },
   "outputs": [],
   "source": [
    "*How do we get the value labels to show as the nominal category names? \n",
    "\n",
    "histogram NATENVIR, discrete frequency title (\"Improving and Protecting Environment(Dependent variable)\") "
   ]
  },
  {
   "cell_type": "code",
   "execution_count": null,
   "metadata": {
    "tags": []
   },
   "outputs": [],
   "source": [
    "*How do we get the value labels to show as the nominal category names? \n",
    "\n",
    "histogram EDUC, frequency title(\"Educational level\" (Independent Variable)) discrete"
   ]
  },
  {
   "cell_type": "code",
   "execution_count": null,
   "metadata": {
    "tags": []
   },
   "outputs": [],
   "source": [
    "*How do we get the value labels to show as the nominal category names? \n",
    "\n",
    "histogram RACE, frequency title (\"Respondent race (Independent variable)\") discrete"
   ]
  },
  {
   "cell_type": "code",
   "execution_count": null,
   "metadata": {},
   "outputs": [],
   "source": [
    "*As mentioned in lab, the loop seems to only show one of the requested variables. Including the forloop here, but I also created individual histograms for each above. \n",
    "foreach x of varlist NATENVIR EDUC RACE {\n",
    " histogram `x', discrete\n",
    " }"
   ]
  },
  {
   "cell_type": "markdown",
   "metadata": {},
   "source": [
    "### 5. Create univariate count and % frequency tables for all categorical (nominal) variables you plan to analyze\n",
    "\n",
    "Again, use forloops. Then write a note below with a narrative summary of the distributions and their implications for your study.\n",
    "\n",
    "The sample is vastly more white respondents in comparison to other races polled, and \"TOO LITTLE\" was the most selected response for NATENVIR. "
   ]
  },
  {
   "cell_type": "code",
   "execution_count": null,
   "metadata": {
    "tags": []
   },
   "outputs": [],
   "source": [
    "*5. Create univariate count and % frequency tables for all categorical (nominal) variables you plan to analyze\n",
    "\n",
    "* I will create new nominal variables later, but these are the ones which exist at this point. \n",
    "*NOTE: I am interested in race as a potential independent variable,\n",
    "// but unsure if I will end up using it for this particular assignment.\n",
    "\n",
    "foreach x of varlist RACE NATENVIR {\n",
    "    replace `x'=. if `x'==.i | `x'==.n | `x'==.d | `x'==.s\n",
    "    tab `x', missing\n",
    "}"
   ]
  },
  {
   "cell_type": "markdown",
   "metadata": {
    "tags": []
   },
   "source": [
    "### 6. Make a relevant bivariate table and graph for your study\n",
    "\n",
    "Make the appropriate a) bivariate table and b) graph dependening on whether your dependent variable is nominal/categorical or interval ratio. If your dependent variable is nominal, make sure it is the row variable in the table. If your independent variable is interval ratio, convert it into an ordinal variable by creating a new variable with 3 to 5 categories each with an equal range of the interval ratio variable. Then use the new ordinal variable as your independent variable in the bivariate table and graph."
   ]
  },
  {
   "cell_type": "code",
   "execution_count": null,
   "metadata": {
    "tags": []
   },
   "outputs": [],
   "source": [
    "gen educationlvl=EDUC\n",
    "replace education=0 if education<12\n",
    "replace education=1 if education==12\n",
    "replace education=2 if education>12\n",
    "\n",
    "label variable educationlvl \"Highest year of school completed\"\n",
    "label define educationlvl 0 \"Less than high school\" 1 \"high school degree\" 2 \"Higher education degree\""
   ]
  },
  {
   "cell_type": "code",
   "execution_count": null,
   "metadata": {
    "tags": []
   },
   "outputs": [],
   "source": [
    "label values educationlvl educationlvl"
   ]
  },
  {
   "cell_type": "code",
   "execution_count": null,
   "metadata": {
    "tags": []
   },
   "outputs": [],
   "source": [
    "tab educationlvl, missing"
   ]
  },
  {
   "cell_type": "code",
   "execution_count": null,
   "metadata": {
    "tags": []
   },
   "outputs": [],
   "source": [
    "tab NATENVIR"
   ]
  },
  {
   "cell_type": "code",
   "execution_count": null,
   "metadata": {
    "tags": []
   },
   "outputs": [],
   "source": [
    "*Make the appropriate a) bivariate table and b) graph dependening on whether your dependent \n",
    "// variable is nominal/categorical or interval ratio\n",
    "\n",
    "tab NATENVIR educationlvl"
   ]
  },
  {
   "cell_type": "code",
   "execution_count": null,
   "metadata": {
    "tags": []
   },
   "outputs": [],
   "source": [
    "*Make the appropriate a) bivariate table and b) graph dependening on whether your dependent \n",
    "// variable is nominal/categorical or interval ratio\n",
    "\n",
    "graph hbar NATENVIR, over(educationlvl) title(\"Perspective on environmental protection\")"
   ]
  },
  {
   "cell_type": "markdown",
   "metadata": {
    "tags": []
   },
   "source": [
    "### 7. Create partial bivariate tables and graphs\n",
    "\n",
    "For the bivariate table and graph you made for problem 6, split both into partial tables and graphs using one of your nominal/categorical control variables. If your control variable is interval ratio, convert it into an ordinal variable by creating a variable with 3 to 5 categories each with an equal range of the interval ratio variable.  Then use the new ordinal variable as your control variable to create the partial tables and graphs."
   ]
  },
  {
   "cell_type": "code",
   "execution_count": null,
   "metadata": {
    "tags": []
   },
   "outputs": [],
   "source": [
    "tab YEAR"
   ]
  },
  {
   "cell_type": "code",
   "execution_count": null,
   "metadata": {
    "tags": []
   },
   "outputs": [],
   "source": [
    "gen yearbrackets=YEAR"
   ]
  },
  {
   "cell_type": "code",
   "execution_count": null,
   "metadata": {
    "tags": []
   },
   "outputs": [],
   "source": [
    "replace yearbrackets=0 if YEAR<1982"
   ]
  },
  {
   "cell_type": "code",
   "execution_count": null,
   "metadata": {
    "tags": []
   },
   "outputs": [],
   "source": [
    "replace yearbrackets=1 if YEAR>=1982 & YEAR<1992"
   ]
  },
  {
   "cell_type": "code",
   "execution_count": null,
   "metadata": {
    "tags": []
   },
   "outputs": [],
   "source": [
    "replace yearbrackets=2 if YEAR>=1992 & YEAR<2002"
   ]
  },
  {
   "cell_type": "code",
   "execution_count": null,
   "metadata": {
    "tags": []
   },
   "outputs": [],
   "source": [
    "replace yearbrackets=3 if YEAR>=2002 & YEAR<2012"
   ]
  },
  {
   "cell_type": "code",
   "execution_count": null,
   "metadata": {
    "tags": []
   },
   "outputs": [],
   "source": [
    "replace yearbrackets=4 if YEAR>=2012"
   ]
  },
  {
   "cell_type": "code",
   "execution_count": null,
   "metadata": {
    "tags": []
   },
   "outputs": [],
   "source": [
    "label variable yearbrackets \"Grouped Years\""
   ]
  },
  {
   "cell_type": "code",
   "execution_count": null,
   "metadata": {
    "tags": []
   },
   "outputs": [],
   "source": [
    "label define yearbrackets 0 \"Between 1972 and 1982\" 1 \"Between 1982 and 1992\" ///\n",
    "2 \"Between 1992 and 2002\" 3 \"Between 2002 and 2012\" 4 \"After 2012\", replace"
   ]
  },
  {
   "cell_type": "code",
   "execution_count": null,
   "metadata": {
    "tags": []
   },
   "outputs": [],
   "source": [
    "label values yearbrackets yearbrackets"
   ]
  },
  {
   "cell_type": "code",
   "execution_count": null,
   "metadata": {
    "tags": []
   },
   "outputs": [],
   "source": [
    "codebook yearbrackets"
   ]
  },
  {
   "cell_type": "code",
   "execution_count": null,
   "metadata": {
    "tags": []
   },
   "outputs": [],
   "source": [
    "tab yearbrackets YEAR"
   ]
  },
  {
   "cell_type": "code",
   "execution_count": null,
   "metadata": {
    "tags": []
   },
   "outputs": [],
   "source": [
    "*For the bivariate table and graph you made for problem 6, split both into partial tables and graphs \n",
    "// using one of your nominal/categorical control variables\n",
    "\n",
    "graph hbar (mean) NATENVIR, over(educationlvl) by(yearbrackets) title(\"Controlled for decade\")"
   ]
  },
  {
   "cell_type": "markdown",
   "metadata": {
    "tags": []
   },
   "source": [
    "### Interpret of your bivariate and partial tables and graphs\n",
    "\n",
    "Is there a relationship between your dependent and independent variables? Is it weak, strong, or non-existent? Do adding controls reveal any spurious, intervening, or interactive relationships? Do they conform with your hypotheses? If not, do you have any ideas for why and how you might test the reason why?\n",
    "\n",
    "There does appear to be a moderate relationship between educational completion and support for environmental protection efforts. The bivariate measures show a trend in mean response away from \"TOO MUCH\" (3) and \"ABOUT RIGHT\" (2) and toward \"TOO LITTLE\" (1). Overall, support for environmental protection is a little higher than expected for all educational completion categories - but the change across increasing levels of educational completion is not as dramatic as I expected. These results seem to support my hypothesis, but not compellingly. Controlling for decade does not seem to have a significant effect, but it might be arguable that there is a mild interaction effect which is causing less than high school respondents to trend downward over time. The other categories either fluctuate very slightly or stabilize, so I am unsure whether there is enough information to determine a relationship with the control variable there. However, as mentioned, my hypothesis seems to be moderately supported before adding the control. "
   ]
  },
  {
   "cell_type": "code",
   "execution_count": null,
   "metadata": {
    "tags": []
   },
   "outputs": [],
   "source": [
    "log close"
   ]
  }
 ],
 "metadata": {
  "kernelspec": {
   "display_name": "Stata (nbstata)",
   "language": "stata",
   "name": "nbstata"
  },
  "language_info": {
   "file_extension": ".do",
   "mimetype": "text/x-stata",
   "name": "stata",
   "version": "17"
  }
 },
 "nbformat": 4,
 "nbformat_minor": 4
}
