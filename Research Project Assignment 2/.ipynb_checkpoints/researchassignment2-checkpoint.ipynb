{
 "cells": [
  {
   "cell_type": "markdown",
   "metadata": {},
   "source": [
    "## Research Assignment 2\n",
    "\n",
    "Justin Barnes\n",
    "\n",
    "Effect of educational attainment on pro-environmental values"
   ]
  },
  {
   "cell_type": "markdown",
   "metadata": {
    "tags": []
   },
   "source": [
    "### 1. Write a paragraph about your hypotheses\n",
    "\n",
    "[Your answer here should explain:\n",
    "1. What are your dependent variables? Why do they interest you?\n",
    "2. What are your independent variables? What direction to you hypothesize will be the relationship between your dependent variable and your dependent variables?\n",
    "3. Why do you think your dependent variables are associated with your independent variables?\n",
    "4. What are your control variables? Do you think they will show any spurious, intervening, or interactive relationships? Why?]\n",
    "\n",
    "1. My primary dependent variable is respondents' support for national investment in environmental protection efforts. This is indicated by the NATENVIR variable; I am also potentially interested in a similar variable called NATEDUC, but will likely focus on NATENVIR for this specific assignment. I have not yet settled on my own data set, so I attempted to find a relevant variable in the GSS data repository. The NATENVIR variable interests me because it relates loosely to my primary interest in climate issues and public education/awareness. \n",
    "2. For this assignment, I will focus on educational attainment and time as my independent variables. I have included other variables of interest such as race, but will not use them in my bivariate tabling for the sake of time. My expectation is that as respondents increase in educational attainment, they will value protection of the environment more highly on average. \n",
    "3. I think that educational attainment is associated with value for environmental protection because I expect knowledge about environmental processes, pollution conservation and, hopefully, climate issues, to raise environmental concern. \n",
    "4. My control variable will be time-specifically, different decades during which respondents were polled. I think that there may be an intervening relationship where, because environmental issues have gained traction in recent decades, people at the same educational level may have a bit more concern over the environment over time. "
   ]
  },
  {
   "cell_type": "markdown",
   "metadata": {
    "tags": []
   },
   "source": [
    "### 1. Setting up your session\n",
    "\n",
    "In the code cell below, do the following:\n",
    "\n",
    "1. set current directory \n",
    "2. set more off \n",
    "3. create log file \n",
    "4. download the data from its source if it's available online\n",
    "5. read the data in [preferably only variables you are going to use]"
   ]
  },
  {
   "cell_type": "code",
   "execution_count": 2,
   "metadata": {
    "tags": []
   },
   "outputs": [
    {
     "name": "stdout",
     "output_type": "stream",
     "text": [
      "C:\\Users\\User\\Documents\\GRAD STATS LAB SEM 2\\Soc211 Assignments\\Research Projec\n",
      "> t Assignment 2\n"
     ]
    }
   ],
   "source": [
    "cd \"C:\\Users\\User\\Documents\\GRAD STATS LAB SEM 2\\Soc211 Assignments\\Research Project Assignment 2\""
   ]
  },
  {
   "cell_type": "code",
   "execution_count": 3,
   "metadata": {
    "tags": []
   },
   "outputs": [
    {
     "name": "stdout",
     "output_type": "stream",
     "text": [
      "(-set more- irrelevant in this version of Stata)\n"
     ]
    }
   ],
   "source": [
    "set more off"
   ]
  },
  {
   "cell_type": "code",
   "execution_count": 4,
   "metadata": {
    "tags": []
   },
   "outputs": [
    {
     "name": "stdout",
     "output_type": "stream",
     "text": [
      "-------------------------------------------------------------------------------\n",
      "      name:  <unnamed>\n",
      "       log:  C:\\Users\\User\\Documents\\GRAD STATS LAB SEM 2\\Soc211 Assignments\\Re\n",
      "> search Project Assignment 2\\Research_Project_2.log\n",
      "  log type:  text\n",
      " opened on:  12 Feb 2024, 15:25:07\n"
     ]
    }
   ],
   "source": [
    "log using \"Research_Project_2.log\", replace"
   ]
  },
  {
   "cell_type": "code",
   "execution_count": 5,
   "metadata": {
    "tags": []
   },
   "outputs": [],
   "source": [
    "use \"C:\\Users\\User\\Documents\\GRAD STATS LAB SEM 2\\Soc211 Assignments\\Research Project Assignment 2\\Research Project 2 GSS Stata.dta\", clear"
   ]
  },
  {
   "cell_type": "code",
   "execution_count": 6,
   "metadata": {
    "tags": []
   },
   "outputs": [
    {
     "name": "stdout",
     "output_type": "stream",
     "text": [
      "EDUC      MAJOR2    NATENVIR  CONEDUC   MAJORCOL  YEAR\n",
      "DEGREE    RACE      NATEDUC   RACDIF3   COLSCI    ID_\n",
      "MAJOR1    INCOME    NATRACE   COLDEG1   INTEDUC\n"
     ]
    }
   ],
   "source": [
    "ds"
   ]
  },
  {
   "cell_type": "markdown",
   "metadata": {},
   "source": [
    "### 2. Browse the data\n",
    "\n",
    "Do the following in separate cells. Do do these in separate cells, you will need to use the right click \"split cell\" option:\n",
    "\n",
    "1. Use \"describe\" to print details about the dataset\n",
    "2. Print the heads and tables of the data using the appropriate magic\n",
    "3. label the unique identifier variable\n",
    "4. Generate a frequency table to show the N for each unit of time if there is data for multiple units in time\n",
    "5. Check for missing data overall and within key categories of analysis (time, independent or dependent variable categories, etc)\n",
    "6. use summarize to create a table with summary statistics for each variable you plan to analyze"
   ]
  },
  {
   "cell_type": "code",
   "execution_count": 7,
   "metadata": {
    "tags": []
   },
   "outputs": [
    {
     "name": "stdout",
     "output_type": "stream",
     "text": [
      "\n",
      "Contains data from C:\\Users\\User\\Documents\\GRAD STATS LAB SEM 2\\Soc211 Assignme\n",
      "> nts\\Research Project Assignment 2\\Research Project 2 GSS Stata.dta\n",
      " Observations:        72,390                  \n",
      "    Variables:            17                  8 Feb 2024 18:30\n",
      "-------------------------------------------------------------------------------\n",
      "Variable      Storage   Display    Value\n",
      "    name         type    format    label      Variable label\n",
      "-------------------------------------------------------------------------------\n",
      "EDUC            float   %66.0g     GSP001X    highest year of school completed\n",
      "DEGREE          float   %66.0g     GSP002X    r's highest degree\n",
      "MAJOR1          float   %66.0g     GSP003X    college major 1\n",
      "MAJOR2          float   %66.0g     GSP004X    college major 2\n",
      "RACE            float   %66.0g     GSP005X    race of respondent\n",
      "INCOME          float   %66.0g     GSP006X    total family income\n",
      "NATENVIR        float   %66.0g     GSP007X    improving & protecting\n",
      "                                                environment\n",
      "NATEDUC         float   %66.0g     GSP008X    improving nations education\n",
      "                                                system\n",
      "NATRACE         float   %66.0g     GSP009X    improving the conditions of\n",
      "                                                blacks\n",
      "CONEDUC         float   %66.0g     GSP010X    confidence in education\n",
      "RACDIF3         float   %66.0g     GSP011X    differences due to lack of\n",
      "                                                education\n",
      "COLDEG1         float   %66.0g     GSP012X    the highest degree r have earned\n",
      "MAJORCOL        float   %66.0g     GSP013X    the field of degree r earned\n",
      "COLSCI          float   %66.0g     GSP014X    r has taken any college-level sci\n",
      "                                                course\n",
      "INTEDUC         float   %66.0g     GSP015X    interested in local school issues\n",
      "YEAR            float   %9.0g                 GSS year for this respondent\n",
      "ID_             float   %9.0g                 Respondent id number\n",
      "-------------------------------------------------------------------------------\n",
      "Sorted by: \n"
     ]
    }
   ],
   "source": [
    "*Use \"describe\" to print details about the dataset\n",
    "\n",
    "describe"
   ]
  },
  {
   "cell_type": "code",
   "execution_count": 8,
   "metadata": {
    "tags": []
   },
   "outputs": [
    {
     "name": "stdout",
     "output_type": "stream",
     "text": [
      "\n",
      "      interested in local school issues |      Freq.     Percent        Cum.\n",
      "----------------------------------------+-----------------------------------\n",
      "                        Very interested |      3,949       44.52       44.52\n",
      "                  Moderately interested |      3,639       41.02       85.54\n",
      "                  Not at all interested |      1,283       14.46      100.00\n",
      "----------------------------------------+-----------------------------------\n",
      "                                  Total |      8,871      100.00\n"
     ]
    }
   ],
   "source": [
    "tab INTEDUC"
   ]
  },
  {
   "cell_type": "code",
   "execution_count": 9,
   "metadata": {
    "tags": []
   },
   "outputs": [],
   "source": [
    "*Print the heads and tables (tails?) of the data using the appropriate magic(below)"
   ]
  },
  {
   "cell_type": "code",
   "execution_count": 10,
   "metadata": {
    "tags": []
   },
   "outputs": [
    {
     "data": {
      "text/html": [
       "<div>\n",
       "<style scoped>\n",
       "    .dataframe tbody tr th:only-of-type {\n",
       "        vertical-align: middle;\n",
       "    }\n",
       "\n",
       "    .dataframe tbody tr th {\n",
       "        vertical-align: top;\n",
       "    }\n",
       "\n",
       "    .dataframe thead th {\n",
       "        text-align: right;\n",
       "    }\n",
       "</style>\n",
       "<table border=\"1\" class=\"dataframe\">\n",
       "  <thead>\n",
       "    <tr style=\"text-align: right;\">\n",
       "      <th></th>\n",
       "      <th>EDUC</th>\n",
       "      <th>DEGREE</th>\n",
       "      <th>MAJOR1</th>\n",
       "      <th>MAJOR2</th>\n",
       "      <th>RACE</th>\n",
       "      <th>INCOME</th>\n",
       "      <th>NATENVIR</th>\n",
       "      <th>NATEDUC</th>\n",
       "      <th>NATRACE</th>\n",
       "      <th>CONEDUC</th>\n",
       "      <th>RACDIF3</th>\n",
       "      <th>COLDEG1</th>\n",
       "      <th>MAJORCOL</th>\n",
       "      <th>COLSCI</th>\n",
       "      <th>INTEDUC</th>\n",
       "      <th>YEAR</th>\n",
       "      <th>ID_</th>\n",
       "    </tr>\n",
       "  </thead>\n",
       "  <tbody>\n",
       "    <tr>\n",
       "      <th>1</th>\n",
       "      <td>16</td>\n",
       "      <td>3</td>\n",
       "      <td>.</td>\n",
       "      <td>.</td>\n",
       "      <td>1</td>\n",
       "      <td>.</td>\n",
       "      <td>.</td>\n",
       "      <td>.</td>\n",
       "      <td>.</td>\n",
       "      <td>.</td>\n",
       "      <td>.</td>\n",
       "      <td>.</td>\n",
       "      <td>.</td>\n",
       "      <td>.</td>\n",
       "      <td>.</td>\n",
       "      <td>1972</td>\n",
       "      <td>1</td>\n",
       "    </tr>\n",
       "    <tr>\n",
       "      <th>2</th>\n",
       "      <td>10</td>\n",
       "      <td>0</td>\n",
       "      <td>.</td>\n",
       "      <td>.</td>\n",
       "      <td>1</td>\n",
       "      <td>.</td>\n",
       "      <td>.</td>\n",
       "      <td>.</td>\n",
       "      <td>.</td>\n",
       "      <td>.</td>\n",
       "      <td>.</td>\n",
       "      <td>.</td>\n",
       "      <td>.</td>\n",
       "      <td>.</td>\n",
       "      <td>.</td>\n",
       "      <td>1972</td>\n",
       "      <td>2</td>\n",
       "    </tr>\n",
       "    <tr>\n",
       "      <th>3</th>\n",
       "      <td>12</td>\n",
       "      <td>1</td>\n",
       "      <td>.</td>\n",
       "      <td>.</td>\n",
       "      <td>1</td>\n",
       "      <td>.</td>\n",
       "      <td>.</td>\n",
       "      <td>.</td>\n",
       "      <td>.</td>\n",
       "      <td>.</td>\n",
       "      <td>.</td>\n",
       "      <td>.</td>\n",
       "      <td>.</td>\n",
       "      <td>.</td>\n",
       "      <td>.</td>\n",
       "      <td>1972</td>\n",
       "      <td>3</td>\n",
       "    </tr>\n",
       "    <tr>\n",
       "      <th>4</th>\n",
       "      <td>17</td>\n",
       "      <td>3</td>\n",
       "      <td>.</td>\n",
       "      <td>.</td>\n",
       "      <td>1</td>\n",
       "      <td>.</td>\n",
       "      <td>.</td>\n",
       "      <td>.</td>\n",
       "      <td>.</td>\n",
       "      <td>.</td>\n",
       "      <td>.</td>\n",
       "      <td>.</td>\n",
       "      <td>.</td>\n",
       "      <td>.</td>\n",
       "      <td>.</td>\n",
       "      <td>1972</td>\n",
       "      <td>4</td>\n",
       "    </tr>\n",
       "    <tr>\n",
       "      <th>5</th>\n",
       "      <td>12</td>\n",
       "      <td>1</td>\n",
       "      <td>.</td>\n",
       "      <td>.</td>\n",
       "      <td>1</td>\n",
       "      <td>.</td>\n",
       "      <td>.</td>\n",
       "      <td>.</td>\n",
       "      <td>.</td>\n",
       "      <td>.</td>\n",
       "      <td>.</td>\n",
       "      <td>.</td>\n",
       "      <td>.</td>\n",
       "      <td>.</td>\n",
       "      <td>.</td>\n",
       "      <td>1972</td>\n",
       "      <td>5</td>\n",
       "    </tr>\n",
       "  </tbody>\n",
       "</table>\n",
       "</div>"
      ]
     },
     "metadata": {},
     "output_type": "display_data"
    }
   ],
   "source": [
    "%head"
   ]
  },
  {
   "cell_type": "code",
   "execution_count": 11,
   "metadata": {
    "tags": []
   },
   "outputs": [],
   "source": [
    "*Print the heads and tables (tails?) of the data using the appropriate magic"
   ]
  },
  {
   "cell_type": "code",
   "execution_count": 12,
   "metadata": {
    "tags": []
   },
   "outputs": [
    {
     "data": {
      "text/html": [
       "<div>\n",
       "<style scoped>\n",
       "    .dataframe tbody tr th:only-of-type {\n",
       "        vertical-align: middle;\n",
       "    }\n",
       "\n",
       "    .dataframe tbody tr th {\n",
       "        vertical-align: top;\n",
       "    }\n",
       "\n",
       "    .dataframe thead th {\n",
       "        text-align: right;\n",
       "    }\n",
       "</style>\n",
       "<table border=\"1\" class=\"dataframe\">\n",
       "  <thead>\n",
       "    <tr style=\"text-align: right;\">\n",
       "      <th></th>\n",
       "      <th>EDUC</th>\n",
       "      <th>DEGREE</th>\n",
       "      <th>MAJOR1</th>\n",
       "      <th>MAJOR2</th>\n",
       "      <th>RACE</th>\n",
       "      <th>INCOME</th>\n",
       "      <th>NATENVIR</th>\n",
       "      <th>NATEDUC</th>\n",
       "      <th>NATRACE</th>\n",
       "      <th>CONEDUC</th>\n",
       "      <th>RACDIF3</th>\n",
       "      <th>COLDEG1</th>\n",
       "      <th>MAJORCOL</th>\n",
       "      <th>COLSCI</th>\n",
       "      <th>INTEDUC</th>\n",
       "      <th>YEAR</th>\n",
       "      <th>ID_</th>\n",
       "    </tr>\n",
       "  </thead>\n",
       "  <tbody>\n",
       "    <tr>\n",
       "      <th>72386</th>\n",
       "      <td>12</td>\n",
       "      <td>1</td>\n",
       "      <td>.</td>\n",
       "      <td>.</td>\n",
       "      <td>1</td>\n",
       "      <td>12</td>\n",
       "      <td>1</td>\n",
       "      <td>1</td>\n",
       "      <td>1</td>\n",
       "      <td>.</td>\n",
       "      <td>.</td>\n",
       "      <td>.</td>\n",
       "      <td>.</td>\n",
       "      <td>.</td>\n",
       "      <td>.</td>\n",
       "      <td>2022</td>\n",
       "      <td>3541</td>\n",
       "    </tr>\n",
       "    <tr>\n",
       "      <th>72387</th>\n",
       "      <td>19</td>\n",
       "      <td>4</td>\n",
       "      <td>45</td>\n",
       "      <td>16</td>\n",
       "      <td>1</td>\n",
       "      <td>12</td>\n",
       "      <td>.</td>\n",
       "      <td>.</td>\n",
       "      <td>.</td>\n",
       "      <td>.</td>\n",
       "      <td>2</td>\n",
       "      <td>.</td>\n",
       "      <td>.</td>\n",
       "      <td>.</td>\n",
       "      <td>.</td>\n",
       "      <td>2022</td>\n",
       "      <td>3542</td>\n",
       "    </tr>\n",
       "    <tr>\n",
       "      <th>72388</th>\n",
       "      <td>15</td>\n",
       "      <td>2</td>\n",
       "      <td>55</td>\n",
       "      <td>.</td>\n",
       "      <td>1</td>\n",
       "      <td>12</td>\n",
       "      <td>.</td>\n",
       "      <td>.</td>\n",
       "      <td>.</td>\n",
       "      <td>1</td>\n",
       "      <td>1</td>\n",
       "      <td>.</td>\n",
       "      <td>.</td>\n",
       "      <td>.</td>\n",
       "      <td>.</td>\n",
       "      <td>2022</td>\n",
       "      <td>3543</td>\n",
       "    </tr>\n",
       "    <tr>\n",
       "      <th>72389</th>\n",
       "      <td>17</td>\n",
       "      <td>4</td>\n",
       "      <td>26</td>\n",
       "      <td>.</td>\n",
       "      <td>1</td>\n",
       "      <td>12</td>\n",
       "      <td>1</td>\n",
       "      <td>1</td>\n",
       "      <td>1</td>\n",
       "      <td>1</td>\n",
       "      <td>.</td>\n",
       "      <td>.</td>\n",
       "      <td>.</td>\n",
       "      <td>.</td>\n",
       "      <td>.</td>\n",
       "      <td>2022</td>\n",
       "      <td>3544</td>\n",
       "    </tr>\n",
       "    <tr>\n",
       "      <th>72390</th>\n",
       "      <td>20</td>\n",
       "      <td>4</td>\n",
       "      <td>8</td>\n",
       "      <td>11</td>\n",
       "      <td>1</td>\n",
       "      <td>12</td>\n",
       "      <td>.</td>\n",
       "      <td>.</td>\n",
       "      <td>.</td>\n",
       "      <td>2</td>\n",
       "      <td>1</td>\n",
       "      <td>.</td>\n",
       "      <td>.</td>\n",
       "      <td>.</td>\n",
       "      <td>.</td>\n",
       "      <td>2022</td>\n",
       "      <td>3545</td>\n",
       "    </tr>\n",
       "  </tbody>\n",
       "</table>\n",
       "</div>"
      ]
     },
     "metadata": {},
     "output_type": "display_data"
    }
   ],
   "source": [
    "%tail"
   ]
  },
  {
   "cell_type": "code",
   "execution_count": 13,
   "metadata": {
    "tags": []
   },
   "outputs": [
    {
     "name": "stdout",
     "output_type": "stream",
     "text": [
      "\n",
      "-------------------------------------------------------------------------------\n",
      "ID_                                                        Respondent id number\n",
      "-------------------------------------------------------------------------------\n",
      "\n",
      "                  Type: Numeric (float)\n",
      "\n",
      "                 Range: [1,4510]                      Units: 1\n",
      "         Unique values: 4,510                     Missing .: 0/72,390\n",
      "\n",
      "                  Mean:  1241.8\n",
      "             Std. dev.: 912.273\n",
      "\n",
      "           Percentiles:     10%       25%       50%       75%       90%\n",
      "                            214       534      1083      1722      2533\n"
     ]
    }
   ],
   "source": [
    "codebook ID_"
   ]
  },
  {
   "cell_type": "code",
   "execution_count": 14,
   "metadata": {
    "tags": []
   },
   "outputs": [],
   "source": [
    "*label the unique identifier variable\n",
    "\n",
    "label var ID_ \"Respondent id number (Unique identifier)\""
   ]
  },
  {
   "cell_type": "code",
   "execution_count": 15,
   "metadata": {
    "tags": []
   },
   "outputs": [
    {
     "name": "stdout",
     "output_type": "stream",
     "text": [
      "\n",
      "   GSS year |\n",
      "   for this |\n",
      " respondent |      Freq.     Percent        Cum.\n",
      "------------+-----------------------------------\n",
      "       1972 |      1,613        2.23        2.23\n",
      "       1973 |      1,504        2.08        4.31\n",
      "       1974 |      1,484        2.05        6.36\n",
      "       1975 |      1,490        2.06        8.41\n",
      "       1976 |      1,499        2.07       10.48\n",
      "       1977 |      1,530        2.11       12.60\n",
      "       1978 |      1,532        2.12       14.71\n",
      "       1980 |      1,468        2.03       16.74\n",
      "       1982 |      1,860        2.57       19.31\n",
      "       1983 |      1,599        2.21       21.52\n",
      "       1984 |      1,473        2.03       23.56\n",
      "       1985 |      1,534        2.12       25.67\n",
      "       1986 |      1,470        2.03       27.71\n",
      "       1987 |      1,819        2.51       30.22\n",
      "       1988 |      1,481        2.05       32.26\n",
      "       1989 |      1,537        2.12       34.39\n",
      "       1990 |      1,372        1.90       36.28\n",
      "       1991 |      1,517        2.10       38.38\n",
      "       1993 |      1,606        2.22       40.60\n",
      "       1994 |      2,992        4.13       44.73\n",
      "       1996 |      2,904        4.01       48.74\n",
      "       1998 |      2,832        3.91       52.65\n",
      "       2000 |      2,817        3.89       56.55\n",
      "       2002 |      2,765        3.82       60.36\n",
      "       2004 |      2,812        3.88       64.25\n",
      "       2006 |      4,510        6.23       70.48\n",
      "       2008 |      2,023        2.79       73.27\n",
      "       2010 |      2,044        2.82       76.10\n",
      "       2012 |      1,974        2.73       78.82\n",
      "       2014 |      2,538        3.51       82.33\n",
      "       2016 |      2,867        3.96       86.29\n",
      "       2018 |      2,348        3.24       89.53\n",
      "       2021 |      4,032        5.57       95.10\n",
      "       2022 |      3,544        4.90      100.00\n",
      "------------+-----------------------------------\n",
      "      Total |     72,390      100.00\n"
     ]
    }
   ],
   "source": [
    "*4. Generate a frequency table to show the N for each unit of time if there is data for multiple units in time\n",
    "\n",
    "tab YEAR"
   ]
  },
  {
   "cell_type": "code",
   "execution_count": 16,
   "metadata": {
    "tags": []
   },
   "outputs": [
    {
     "name": "stdout",
     "output_type": "stream",
     "text": [
      "\n",
      "-------------------------------------------------------------------------------\n",
      "YEAR                                               GSS year for this respondent\n",
      "-------------------------------------------------------------------------------\n",
      "\n",
      "                  Type: Numeric (float)\n",
      "\n",
      "                 Range: [1972,2022]                   Units: 1\n",
      "         Unique values: 34                        Missing .: 0/72,390\n",
      "\n",
      "                  Mean: 1997.72\n",
      "             Std. dev.:   15.11\n",
      "\n",
      "           Percentiles:     10%       25%       50%       75%       90%\n",
      "                           1976      1985      1998      2010      2021\n",
      "\n",
      "-------------------------------------------------------------------------------\n",
      "EDUC                                           highest year of school completed\n",
      "-------------------------------------------------------------------------------\n",
      "\n",
      "                  Type: Numeric (float)\n",
      "                 Label: GSP001X, but 20 nonmissing values are not labeled\n",
      "\n",
      "                 Range: [0,20]                        Units: 1\n",
      "         Unique values: 21                        Missing .: 0/72,390\n",
      "       Unique mv codes: 2                        Missing .*: 263/72,390\n",
      "\n",
      "              Examples: 11    \n",
      "                        12    \n",
      "                        14    \n",
      "                        16    \n",
      "\n",
      "-------------------------------------------------------------------------------\n",
      "NATENVIR                                     improving & protecting environment\n",
      "-------------------------------------------------------------------------------\n",
      "\n",
      "                  Type: Numeric (float)\n",
      "                 Label: GSP007X\n",
      "\n",
      "                 Range: [1,3]                         Units: 1\n",
      "         Unique values: 3                         Missing .: 0/72,390\n",
      "       Unique mv codes: 4                        Missing .*: 33,243/72,390\n",
      "\n",
      "            Tabulation: Freq.   Numeric  Label\n",
      "                       24,244         1  TOO LITTLE\n",
      "                       11,388         2  ABOUT RIGHT\n",
      "                        3,515         3  TOO MUCH\n",
      "                        1,664        .d  \n",
      "                       31,471        .i  \n",
      "                          105        .n  \n",
      "                            3        .s  \n",
      "\n",
      "-------------------------------------------------------------------------------\n",
      "RACE                                                         race of respondent\n",
      "-------------------------------------------------------------------------------\n",
      "\n",
      "                  Type: Numeric (float)\n",
      "                 Label: GSP005X\n",
      "\n",
      "                 Range: [1,3]                         Units: 1\n",
      "         Unique values: 3                         Missing .: 0/72,390\n",
      "       Unique mv codes: 1                        Missing .*: 107/72,390\n",
      "\n",
      "            Tabulation: Freq.   Numeric  Label\n",
      "                       57,657         1  White\n",
      "                       10,215         2  Black\n",
      "                        4,411         3  Other\n",
      "                          107        .i  \n"
     ]
    }
   ],
   "source": [
    "*Check for missing data overall and within key categories of analysis (time, independent or dependent variable categories, etc)\n",
    "\n",
    "codebook YEAR EDUC NATENVIR RACE"
   ]
  },
  {
   "cell_type": "code",
   "execution_count": 17,
   "metadata": {
    "tags": []
   },
   "outputs": [
    {
     "name": "stdout",
     "output_type": "stream",
     "text": [
      "\n",
      "    Variable |        Obs        Mean    Std. dev.       Min        Max\n",
      "-------------+---------------------------------------------------------\n",
      "        YEAR |     72,390    1997.716       15.11       1972       2022\n",
      "        EDUC |     72,127    13.03463    3.182372          0         20\n",
      "    NATENVIR |     39,147    1.470483    .6547665          1          3\n",
      "        RACE |     72,283    1.263368    .5621899          1          3\n"
     ]
    }
   ],
   "source": [
    "*6. use summarize to create a table with summary statistics for each variable you plan to analyze\n",
    "sum YEAR EDUC NATENVIR RACE"
   ]
  },
  {
   "cell_type": "markdown",
   "metadata": {},
   "source": [
    "### 3. Write a note summarizing what you learned from browsing the data\n",
    "\n",
    "This is a custom data set from multiple years of GSS data on the selected variables (I tried to gather different variables which might be relevant/interesting for my work), so it is across multiple years. However, there seem to be about 45% of my dependent variable, NATENVIR, missing, so I would need to do something like listwise deletion to clean this data for more a more in-depth examination. There are also a couple hundred missing values for EDUC (highest year of schooling). Most of the variables I am currently examining are nominal with the exception of the YEAR variable, which I will convert to ordinal below. My dependent variable (NATENVIR) is nominal and the mode is \"TOO LITTLE\", which has the most responses at 24,244."
   ]
  },
  {
   "cell_type": "code",
   "execution_count": 45,
   "metadata": {
    "tags": []
   },
   "outputs": [
    {
     "name": "stdout",
     "output_type": "stream",
     "text": [
      "\n",
      "-------------------------------------------------------------------------------\n",
      "NATENVIR                                     improving & protecting environment\n",
      "-------------------------------------------------------------------------------\n",
      "\n",
      "                  Type: Numeric (float)\n",
      "                 Label: GSP007X\n",
      "\n",
      "                 Range: [1,3]                         Units: 1\n",
      "         Unique values: 3                         Missing .: 33,243/72,390\n",
      "\n",
      "            Tabulation: Freq.   Numeric  Label\n",
      "                       24,244         1  TOO LITTLE\n",
      "                       11,388         2  ABOUT RIGHT\n",
      "                        3,515         3  TOO MUCH\n",
      "                       33,243         .  \n"
     ]
    }
   ],
   "source": [
    "codebook NATENVIR"
   ]
  },
  {
   "cell_type": "markdown",
   "metadata": {
    "tags": []
   },
   "source": [
    "### 4. Create univariate histograms of interval ratio variables you plan to analyze.\n",
    "\n",
    "Write at least 3 forloops to generate histograms for all the variables you plan to analyze. Create titles for each histogram that notes whether it is a dependent, independent, or control variable (you can also note in titles whether control vars control for spurious, intervening, or interactive relationships). Begin with your dependent variables. Then make a note below to describe the shapes of the distributions and their implications for your study.\n",
    "\n",
    "For my dependent variable NATENVIR, the majority of respondents chose the \"TOO LITTLE\" option when asked whether we are spending enough on protecting the environment. Very few opted for \"TOO MUCH\". According to the distribution of EDUC, most respondents seem to be grouped around the high school and college completion levels. Finally, the RACE variable shows that the vast majority of respondents were white. "
   ]
  },
  {
   "cell_type": "code",
   "execution_count": 19,
   "metadata": {
    "collapsed": true,
    "jupyter": {
     "outputs_hidden": true
    },
    "tags": []
   },
   "outputs": [
    {
     "name": "stdout",
     "output_type": "stream",
     "text": [
      "\n",
      "-------------------------------------------------------------------------------\n",
      "NATENVIR                                     improving & protecting environment\n",
      "-------------------------------------------------------------------------------\n",
      "\n",
      "                  Type: Numeric (float)\n",
      "                 Label: GSP007X\n",
      "\n",
      "                 Range: [1,3]                         Units: 1\n",
      "         Unique values: 3                         Missing .: 0/72,390\n",
      "       Unique mv codes: 4                        Missing .*: 33,243/72,390\n",
      "\n",
      "            Tabulation: Freq.   Numeric  Label\n",
      "                       24,244         1  TOO LITTLE\n",
      "                       11,388         2  ABOUT RIGHT\n",
      "                        3,515         3  TOO MUCH\n",
      "                        1,664        .d  \n",
      "                       31,471        .i  \n",
      "                          105        .n  \n",
      "                            3        .s  \n"
     ]
    }
   ],
   "source": [
    "codebook NATENVIR     "
   ]
  },
  {
   "cell_type": "code",
   "execution_count": 61,
   "metadata": {
    "tags": []
   },
   "outputs": [
    {
     "name": "stdout",
     "output_type": "stream",
     "text": [
      "(start=1, width=1)\n"
     ]
    },
    {
     "data": {
      "image/png": "[encoded data removed]",
      "text/plain": [
       "<IPython.core.display.Image object>"
      ]
     },
     "metadata": {},
     "output_type": "display_data"
    }
   ],
   "source": [
    "*How do we get the value labels to show as the nominal category names? \n",
    "\n",
    "histogram NATENVIR, discrete frequency title (\"Improving and Protecting Environment(Dependent variable)\") "
   ]
  },
  {
   "cell_type": "code",
   "execution_count": 21,
   "metadata": {
    "tags": []
   },
   "outputs": [
    {
     "name": "stdout",
     "output_type": "stream",
     "text": [
      "(start=0, width=1)\n"
     ]
    },
    {
     "data": {
      "image/png": "[encoded data removed]",
      "text/plain": [
       "<IPython.core.display.Image object>"
      ]
     },
     "metadata": {},
     "output_type": "display_data"
    }
   ],
   "source": [
    "*How do we get the value labels to show as the nominal category names? \n",
    "\n",
    "histogram EDUC, frequency title(\"Educational level\" (Independent Variable)) discrete"
   ]
  },
  {
   "cell_type": "code",
   "execution_count": 22,
   "metadata": {
    "tags": []
   },
   "outputs": [
    {
     "name": "stdout",
     "output_type": "stream",
     "text": [
      "(start=1, width=1)\n"
     ]
    },
    {
     "data": {
      "image/png": "[encoded data removed]",
      "text/plain": [
       "<IPython.core.display.Image object>"
      ]
     },
     "metadata": {},
     "output_type": "display_data"
    }
   ],
   "source": [
    "*How do we get the value labels to show as the nominal category names? \n",
    "\n",
    "histogram RACE, frequency title (\"Respondent race (Independent variable)\") discrete"
   ]
  },
  {
   "cell_type": "code",
   "execution_count": 52,
   "metadata": {},
   "outputs": [
    {
     "name": "stdout",
     "output_type": "stream",
     "text": [
      "(start=1, width=1)\n",
      "(start=0, width=1)\n",
      "(start=1, width=1)\n"
     ]
    },
    {
     "data": {
      "image/png": "[encoded data removed]",
      "text/plain": [
       "<IPython.core.display.Image object>"
      ]
     },
     "metadata": {},
     "output_type": "display_data"
    }
   ],
   "source": [
    "*As mentioned in lab, the loop seems to only show one of the requested variables. Including the forloop here, but I also created individual histograms for each above. \n",
    "foreach x of varlist NATENVIR EDUC RACE {\n",
    " histogram `x', discrete\n",
    " }"
   ]
  },
  {
   "cell_type": "markdown",
   "metadata": {},
   "source": [
    "### 5. Create univariate count and % frequency tables for all categorical (nominal) variables you plan to analyze\n",
    "\n",
    "Again, use forloops. Then write a note below with a narrative summary of the distributions and their implications for your study.\n",
    "\n",
    "[your note here]"
   ]
  },
  {
   "cell_type": "code",
   "execution_count": 24,
   "metadata": {
    "tags": []
   },
   "outputs": [
    {
     "name": "stdout",
     "output_type": "stream",
     "text": [
      "(107 real changes made, 107 to missing)\n",
      "\n",
      "                     race of respondent |      Freq.     Percent        Cum.\n",
      "----------------------------------------+-----------------------------------\n",
      "                                  White |     57,657       79.65       79.65\n",
      "                                  Black |     10,215       14.11       93.76\n",
      "                                  Other |      4,411        6.09       99.85\n",
      "                                      . |        107        0.15      100.00\n",
      "----------------------------------------+-----------------------------------\n",
      "                                  Total |     72,390      100.00\n",
      "(33,243 real changes made, 33,243 to missing)\n",
      "\n",
      "     improving & protecting environment |      Freq.     Percent        Cum.\n",
      "----------------------------------------+-----------------------------------\n",
      "                             TOO LITTLE |     24,244       33.49       33.49\n",
      "                            ABOUT RIGHT |     11,388       15.73       49.22\n",
      "                               TOO MUCH |      3,515        4.86       54.08\n",
      "                                      . |     33,243       45.92      100.00\n",
      "----------------------------------------+-----------------------------------\n",
      "                                  Total |     72,390      100.00\n"
     ]
    }
   ],
   "source": [
    "*5. Create univariate count and % frequency tables for all categorical (nominal) variables you plan to analyze\n",
    "\n",
    "* I will create new nominal variables later, but these are the ones which exist at this point. \n",
    "*NOTE: I am interested in race as a potential independent variable,\n",
    "// but unsure if I will end up using it for this particular assignment.\n",
    "\n",
    "foreach x of varlist RACE NATENVIR {\n",
    "    replace `x'=. if `x'==.i | `x'==.n | `x'==.d | `x'==.s\n",
    "    tab `x', missing\n",
    "}"
   ]
  },
  {
   "cell_type": "markdown",
   "metadata": {
    "tags": []
   },
   "source": [
    "### 6. Make a relevant bivariate table and graph for your study\n",
    "\n",
    "Make the appropriate a) bivariate table and b) graph dependening on whether your dependent variable is nominal/categorical or interval ratio. If your dependent variable is nominal, make sure it is the row variable in the table. If your independent variable is interval ratio, convert it into an ordinal variable by creating a new variable with 3 to 5 categories each with an equal range of the interval ratio variable. Then use the new ordinal variable as your independent variable in the bivariate table and graph."
   ]
  },
  {
   "cell_type": "code",
   "execution_count": 25,
   "metadata": {
    "tags": []
   },
   "outputs": [
    {
     "name": "stdout",
     "output_type": "stream",
     "text": [
      "(263 missing values generated)\n",
      "(14,883 real changes made)\n",
      "(21,401 real changes made)\n",
      "(35,929 real changes made)\n"
     ]
    }
   ],
   "source": [
    "gen educationlvl=EDUC\n",
    "replace education=0 if education<12\n",
    "replace education=1 if education==12\n",
    "replace education=2 if education>12\n",
    "\n",
    "label variable educationlvl \"Highest year of school completed\"\n",
    "label define educationlvl 0 \"Less than high school\" 1 \"high school degree\" 2 \"Higher education degree\""
   ]
  },
  {
   "cell_type": "code",
   "execution_count": 26,
   "metadata": {
    "tags": []
   },
   "outputs": [],
   "source": [
    "label values educationlvl educationlvl"
   ]
  },
  {
   "cell_type": "code",
   "execution_count": 27,
   "metadata": {
    "tags": []
   },
   "outputs": [
    {
     "name": "stdout",
     "output_type": "stream",
     "text": [
      "\n",
      " Highest year of school |\n",
      "              completed |      Freq.     Percent        Cum.\n",
      "------------------------+-----------------------------------\n",
      "  Less than high school |     15,060       20.80       20.80\n",
      "     high school degree |     21,401       29.56       50.37\n",
      "Higher education degree |     35,929       49.63      100.00\n",
      "------------------------+-----------------------------------\n",
      "                  Total |     72,390      100.00\n"
     ]
    }
   ],
   "source": [
    "tab educationlvl, missing"
   ]
  },
  {
   "cell_type": "code",
   "execution_count": 28,
   "metadata": {
    "tags": []
   },
   "outputs": [
    {
     "name": "stdout",
     "output_type": "stream",
     "text": [
      "\n",
      "     improving & protecting environment |      Freq.     Percent        Cum.\n",
      "----------------------------------------+-----------------------------------\n",
      "                             TOO LITTLE |     24,244       61.93       61.93\n",
      "                            ABOUT RIGHT |     11,388       29.09       91.02\n",
      "                               TOO MUCH |      3,515        8.98      100.00\n",
      "----------------------------------------+-----------------------------------\n",
      "                                  Total |     39,147      100.00\n"
     ]
    }
   ],
   "source": [
    "tab NATENVIR"
   ]
  },
  {
   "cell_type": "code",
   "execution_count": 29,
   "metadata": {
    "tags": []
   },
   "outputs": [
    {
     "name": "stdout",
     "output_type": "stream",
     "text": [
      "\n",
      "          improving & |\n",
      "           protecting | Highest year of school completed\n",
      "          environment | Less than  high scho  Higher ed |     Total\n",
      "----------------------+---------------------------------+----------\n",
      "           TOO LITTLE |     4,530      7,176     12,538 |    24,244 \n",
      "          ABOUT RIGHT |     2,961      3,597      4,830 |    11,388 \n",
      "             TOO MUCH |       907      1,077      1,531 |     3,515 \n",
      "----------------------+---------------------------------+----------\n",
      "                Total |     8,398     11,850     18,899 |    39,147 \n"
     ]
    }
   ],
   "source": [
    "*Make the appropriate a) bivariate table and b) graph dependening on whether your dependent \n",
    "// variable is nominal/categorical or interval ratio\n",
    "\n",
    "tab NATENVIR educationlvl"
   ]
  },
  {
   "cell_type": "code",
   "execution_count": 30,
   "metadata": {
    "tags": []
   },
   "outputs": [
    {
     "data": {
      "image/png": "[encoded data removed]",
      "text/plain": [
       "<IPython.core.display.Image object>"
      ]
     },
     "metadata": {},
     "output_type": "display_data"
    }
   ],
   "source": [
    "*Make the appropriate a) bivariate table and b) graph dependening on whether your dependent \n",
    "// variable is nominal/categorical or interval ratio\n",
    "\n",
    "graph hbar NATENVIR, over(educationlvl) title(\"Perspective on environmental protection\")"
   ]
  },
  {
   "cell_type": "markdown",
   "metadata": {
    "tags": []
   },
   "source": [
    "### 7. Create partial bivariate tables and graphs\n",
    "\n",
    "For the bivariate table and graph you made for problem 6, split both into partial tables and graphs using one of your nominal/categorical control variables. If your control variable is interval ratio, convert it into an ordinal variable by creating a variable with 3 to 5 categories each with an equal range of the interval ratio variable.  Then use the new ordinal variable as your control variable to create the partial tables and graphs."
   ]
  },
  {
   "cell_type": "code",
   "execution_count": 31,
   "metadata": {
    "collapsed": true,
    "jupyter": {
     "outputs_hidden": true
    },
    "tags": []
   },
   "outputs": [
    {
     "name": "stdout",
     "output_type": "stream",
     "text": [
      "\n",
      "   GSS year |\n",
      "   for this |\n",
      " respondent |      Freq.     Percent        Cum.\n",
      "------------+-----------------------------------\n",
      "       1972 |      1,613        2.23        2.23\n",
      "       1973 |      1,504        2.08        4.31\n",
      "       1974 |      1,484        2.05        6.36\n",
      "       1975 |      1,490        2.06        8.41\n",
      "       1976 |      1,499        2.07       10.48\n",
      "       1977 |      1,530        2.11       12.60\n",
      "       1978 |      1,532        2.12       14.71\n",
      "       1980 |      1,468        2.03       16.74\n",
      "       1982 |      1,860        2.57       19.31\n",
      "       1983 |      1,599        2.21       21.52\n",
      "       1984 |      1,473        2.03       23.56\n",
      "       1985 |      1,534        2.12       25.67\n",
      "       1986 |      1,470        2.03       27.71\n",
      "       1987 |      1,819        2.51       30.22\n",
      "       1988 |      1,481        2.05       32.26\n",
      "       1989 |      1,537        2.12       34.39\n",
      "       1990 |      1,372        1.90       36.28\n",
      "       1991 |      1,517        2.10       38.38\n",
      "       1993 |      1,606        2.22       40.60\n",
      "       1994 |      2,992        4.13       44.73\n",
      "       1996 |      2,904        4.01       48.74\n",
      "       1998 |      2,832        3.91       52.65\n",
      "       2000 |      2,817        3.89       56.55\n",
      "       2002 |      2,765        3.82       60.36\n",
      "       2004 |      2,812        3.88       64.25\n",
      "       2006 |      4,510        6.23       70.48\n",
      "       2008 |      2,023        2.79       73.27\n",
      "       2010 |      2,044        2.82       76.10\n",
      "       2012 |      1,974        2.73       78.82\n",
      "       2014 |      2,538        3.51       82.33\n",
      "       2016 |      2,867        3.96       86.29\n",
      "       2018 |      2,348        3.24       89.53\n",
      "       2021 |      4,032        5.57       95.10\n",
      "       2022 |      3,544        4.90      100.00\n",
      "------------+-----------------------------------\n",
      "      Total |     72,390      100.00\n"
     ]
    }
   ],
   "source": [
    "tab YEAR"
   ]
  },
  {
   "cell_type": "code",
   "execution_count": 32,
   "metadata": {
    "tags": []
   },
   "outputs": [],
   "source": [
    "gen yearbrackets=YEAR"
   ]
  },
  {
   "cell_type": "code",
   "execution_count": 33,
   "metadata": {
    "tags": []
   },
   "outputs": [
    {
     "name": "stdout",
     "output_type": "stream",
     "text": [
      "(12,120 real changes made)\n"
     ]
    }
   ],
   "source": [
    "replace yearbrackets=0 if YEAR<1982"
   ]
  },
  {
   "cell_type": "code",
   "execution_count": 34,
   "metadata": {
    "tags": []
   },
   "outputs": [
    {
     "name": "stdout",
     "output_type": "stream",
     "text": [
      "(15,662 real changes made)\n"
     ]
    }
   ],
   "source": [
    "replace yearbrackets=1 if YEAR>=1982 & YEAR<1992"
   ]
  },
  {
   "cell_type": "code",
   "execution_count": 35,
   "metadata": {
    "tags": []
   },
   "outputs": [
    {
     "name": "stdout",
     "output_type": "stream",
     "text": [
      "(13,151 real changes made)\n"
     ]
    }
   ],
   "source": [
    "replace yearbrackets=2 if YEAR>=1992 & YEAR<2002"
   ]
  },
  {
   "cell_type": "code",
   "execution_count": 36,
   "metadata": {
    "tags": []
   },
   "outputs": [
    {
     "name": "stdout",
     "output_type": "stream",
     "text": [
      "(14,154 real changes made)\n"
     ]
    }
   ],
   "source": [
    "replace yearbrackets=3 if YEAR>=2002 & YEAR<2012"
   ]
  },
  {
   "cell_type": "code",
   "execution_count": 37,
   "metadata": {
    "tags": []
   },
   "outputs": [
    {
     "name": "stdout",
     "output_type": "stream",
     "text": [
      "(17,303 real changes made)\n"
     ]
    }
   ],
   "source": [
    "replace yearbrackets=4 if YEAR>=2012"
   ]
  },
  {
   "cell_type": "code",
   "execution_count": 38,
   "metadata": {
    "tags": []
   },
   "outputs": [],
   "source": [
    "label variable yearbrackets \"Grouped Years\""
   ]
  },
  {
   "cell_type": "code",
   "execution_count": 39,
   "metadata": {
    "tags": []
   },
   "outputs": [],
   "source": [
    "label define yearbrackets 0 \"Between 1972 and 1982\" 1 \"Between 1982 and 1992\" ///\n",
    "2 \"Between 1992 and 2002\" 3 \"Between 2002 and 2012\" 4 \"After 2012\", replace"
   ]
  },
  {
   "cell_type": "code",
   "execution_count": 40,
   "metadata": {
    "tags": []
   },
   "outputs": [],
   "source": [
    "label values yearbrackets yearbrackets"
   ]
  },
  {
   "cell_type": "code",
   "execution_count": 41,
   "metadata": {
    "tags": []
   },
   "outputs": [
    {
     "name": "stdout",
     "output_type": "stream",
     "text": [
      "\n",
      "-------------------------------------------------------------------------------\n",
      "yearbrackets                                                      Grouped Years\n",
      "-------------------------------------------------------------------------------\n",
      "\n",
      "                  Type: Numeric (float)\n",
      "                 Label: yearbrackets\n",
      "\n",
      "                 Range: [0,4]                         Units: 1\n",
      "         Unique values: 5                         Missing .: 0/72,390\n",
      "\n",
      "            Tabulation: Freq.   Numeric  Label\n",
      "                       12,120         0  Between 1972 and 1982\n",
      "                       15,662         1  Between 1982 and 1992\n",
      "                       13,151         2  Between 1992 and 2002\n",
      "                       14,154         3  Between 2002 and 2012\n",
      "                       17,303         4  After 2012\n"
     ]
    }
   ],
   "source": [
    "codebook yearbrackets"
   ]
  },
  {
   "cell_type": "code",
   "execution_count": 42,
   "metadata": {
    "collapsed": true,
    "jupyter": {
     "outputs_hidden": true
    },
    "tags": []
   },
   "outputs": [
    {
     "name": "stdout",
     "output_type": "stream",
     "text": [
      "\n",
      "                      |        GSS year for this respondent\n",
      "        Grouped Years |      1972       1973       1974       1975 |     Total\n",
      "----------------------+--------------------------------------------+----------\n",
      "Between 1972 and 1982 |     1,613      1,504      1,484      1,490 |    12,120 \n",
      "Between 1982 and 1992 |         0          0          0          0 |    15,662 \n",
      "Between 1992 and 2002 |         0          0          0          0 |    13,151 \n",
      "Between 2002 and 2012 |         0          0          0          0 |    14,154 \n",
      "           After 2012 |         0          0          0          0 |    17,303 \n",
      "----------------------+--------------------------------------------+----------\n",
      "                Total |     1,613      1,504      1,484      1,490 |    72,390 \n",
      "\n",
      "\n",
      "                      |        GSS year for this respondent\n",
      "        Grouped Years |      1976       1977       1978       1980 |     Total\n",
      "----------------------+--------------------------------------------+----------\n",
      "Between 1972 and 1982 |     1,499      1,530      1,532      1,468 |    12,120 \n",
      "Between 1982 and 1992 |         0          0          0          0 |    15,662 \n",
      "Between 1992 and 2002 |         0          0          0          0 |    13,151 \n",
      "Between 2002 and 2012 |         0          0          0          0 |    14,154 \n",
      "           After 2012 |         0          0          0          0 |    17,303 \n",
      "----------------------+--------------------------------------------+----------\n",
      "                Total |     1,499      1,530      1,532      1,468 |    72,390 \n",
      "\n",
      "\n",
      "                      |        GSS year for this respondent\n",
      "        Grouped Years |      1982       1983       1984       1985 |     Total\n",
      "----------------------+--------------------------------------------+----------\n",
      "Between 1972 and 1982 |         0          0          0          0 |    12,120 \n",
      "Between 1982 and 1992 |     1,860      1,599      1,473      1,534 |    15,662 \n",
      "Between 1992 and 2002 |         0          0          0          0 |    13,151 \n",
      "Between 2002 and 2012 |         0          0          0          0 |    14,154 \n",
      "           After 2012 |         0          0          0          0 |    17,303 \n",
      "----------------------+--------------------------------------------+----------\n",
      "                Total |     1,860      1,599      1,473      1,534 |    72,390 \n",
      "\n",
      "\n",
      "                      |        GSS year for this respondent\n",
      "        Grouped Years |      1986       1987       1988       1989 |     Total\n",
      "----------------------+--------------------------------------------+----------\n",
      "Between 1972 and 1982 |         0          0          0          0 |    12,120 \n",
      "Between 1982 and 1992 |     1,470      1,819      1,481      1,537 |    15,662 \n",
      "Between 1992 and 2002 |         0          0          0          0 |    13,151 \n",
      "Between 2002 and 2012 |         0          0          0          0 |    14,154 \n",
      "           After 2012 |         0          0          0          0 |    17,303 \n",
      "----------------------+--------------------------------------------+----------\n",
      "                Total |     1,470      1,819      1,481      1,537 |    72,390 \n",
      "\n",
      "\n",
      "                      |        GSS year for this respondent\n",
      "        Grouped Years |      1990       1991       1993       1994 |     Total\n",
      "----------------------+--------------------------------------------+----------\n",
      "Between 1972 and 1982 |         0          0          0          0 |    12,120 \n",
      "Between 1982 and 1992 |     1,372      1,517          0          0 |    15,662 \n",
      "Between 1992 and 2002 |         0          0      1,606      2,992 |    13,151 \n",
      "Between 2002 and 2012 |         0          0          0          0 |    14,154 \n",
      "           After 2012 |         0          0          0          0 |    17,303 \n",
      "----------------------+--------------------------------------------+----------\n",
      "                Total |     1,372      1,517      1,606      2,992 |    72,390 \n",
      "\n",
      "\n",
      "                      |        GSS year for this respondent\n",
      "        Grouped Years |      1996       1998       2000       2002 |     Total\n",
      "----------------------+--------------------------------------------+----------\n",
      "Between 1972 and 1982 |         0          0          0          0 |    12,120 \n",
      "Between 1982 and 1992 |         0          0          0          0 |    15,662 \n",
      "Between 1992 and 2002 |     2,904      2,832      2,817          0 |    13,151 \n",
      "Between 2002 and 2012 |         0          0          0      2,765 |    14,154 \n",
      "           After 2012 |         0          0          0          0 |    17,303 \n",
      "----------------------+--------------------------------------------+----------\n",
      "                Total |     2,904      2,832      2,817      2,765 |    72,390 \n",
      "\n",
      "\n",
      "                      |        GSS year for this respondent\n",
      "        Grouped Years |      2004       2006       2008       2010 |     Total\n",
      "----------------------+--------------------------------------------+----------\n",
      "Between 1972 and 1982 |         0          0          0          0 |    12,120 \n",
      "Between 1982 and 1992 |         0          0          0          0 |    15,662 \n",
      "Between 1992 and 2002 |         0          0          0          0 |    13,151 \n",
      "Between 2002 and 2012 |     2,812      4,510      2,023      2,044 |    14,154 \n",
      "           After 2012 |         0          0          0          0 |    17,303 \n",
      "----------------------+--------------------------------------------+----------\n",
      "                Total |     2,812      4,510      2,023      2,044 |    72,390 \n",
      "\n",
      "\n",
      "                      |        GSS year for this respondent\n",
      "        Grouped Years |      2012       2014       2016       2018 |     Total\n",
      "----------------------+--------------------------------------------+----------\n",
      "Between 1972 and 1982 |         0          0          0          0 |    12,120 \n",
      "Between 1982 and 1992 |         0          0          0          0 |    15,662 \n",
      "Between 1992 and 2002 |         0          0          0          0 |    13,151 \n",
      "Between 2002 and 2012 |         0          0          0          0 |    14,154 \n",
      "           After 2012 |     1,974      2,538      2,867      2,348 |    17,303 \n",
      "----------------------+--------------------------------------------+----------\n",
      "                Total |     1,974      2,538      2,867      2,348 |    72,390 \n",
      "\n",
      "\n",
      "                      |   GSS year for this\n",
      "                      |      respondent\n",
      "        Grouped Years |      2021       2022 |     Total\n",
      "----------------------+----------------------+----------\n",
      "Between 1972 and 1982 |         0          0 |    12,120 \n",
      "Between 1982 and 1992 |         0          0 |    15,662 \n",
      "Between 1992 and 2002 |         0          0 |    13,151 \n",
      "Between 2002 and 2012 |         0          0 |    14,154 \n",
      "           After 2012 |     4,032      3,544 |    17,303 \n",
      "----------------------+----------------------+----------\n",
      "                Total |     4,032      3,544 |    72,390 \n"
     ]
    }
   ],
   "source": [
    "tab yearbrackets YEAR"
   ]
  },
  {
   "cell_type": "code",
   "execution_count": 65,
   "metadata": {
    "tags": []
   },
   "outputs": [
    {
     "data": {
      "image/png": "[encoded data removed]",
      "text/plain": [
       "<IPython.core.display.Image object>"
      ]
     },
     "metadata": {},
     "output_type": "display_data"
    }
   ],
   "source": [
    "*For the bivariate table and graph you made for problem 6, split both into partial tables and graphs \n",
    "// using one of your nominal/categorical control variables\n",
    "\n",
    "graph hbar (mean) NATENVIR, over(educationlvl) by(yearbrackets) title(\"Controlled for decade\")"
   ]
  },
  {
   "cell_type": "markdown",
   "metadata": {
    "jp-MarkdownHeadingCollapsed": true,
    "tags": []
   },
   "source": [
    "### Interpret of your bivariate and partial tables and graphs\n",
    "\n",
    "Is there a relationship between your dependent and independent variables? Is it weak, strong, or non-existent? Do adding controls reveal any spurious, intervening, or interactive relationships? Do they conform with your hypotheses? If not, do you have any ideas for why and how you might test the reason why?\n",
    "\n",
    "There does appear to be a moderate relationship between educational completion and support for environmental protection efforts. The bivariate measures show a trend in mean response away from \"TOO MUCH\" (3) and \"ABOUT RIGHT\" (2) and toward \"TOO LITTLE\" (1). Overall, support for environmental protection is a little higher than expected for all educational completion categories - but the change across increasing levels of educational completion is not as dramatic as I expected. These results seem to support my hypothesis, but not compellingly. Controlling for decade does not seem to have a significant effect, but it might be arguable that there is a mild interaction effect which is causing less than high school respondents to trend downward over time. The other categories either fluctuate very slightly or stabilize, so I am unsure whether there is enough information to determine a relationship with the control variable there. However, as mentioned, my hypothesis seems to be moderately supported before adding the control. "
   ]
  },
  {
   "cell_type": "code",
   "execution_count": 44,
   "metadata": {
    "tags": []
   },
   "outputs": [
    {
     "name": "stdout",
     "output_type": "stream",
     "text": [
      "      name:  <unnamed>\n",
      "       log:  C:\\Users\\User\\Documents\\GRAD STATS LAB SEM 2\\Soc211 Assignments\\Re\n",
      "> search Project Assignment 2\\Research_Project_2.log\n",
      "  log type:  text\n",
      " closed on:  12 Feb 2024, 15:25:30\n",
      "-------------------------------------------------------------------------------\n"
     ]
    }
   ],
   "source": [
    "log close"
   ]
  }
 ],
 "metadata": {
  "kernelspec": {
   "display_name": "Stata (nbstata)",
   "language": "stata",
   "name": "nbstata"
  },
  "language_info": {
   "file_extension": ".do",
   "mimetype": "text/x-stata",
   "name": "stata",
   "version": "17"
  }
 },
 "nbformat": 4,
 "nbformat_minor": 4
}
