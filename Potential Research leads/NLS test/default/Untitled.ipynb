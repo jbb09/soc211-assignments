{
 "cells": [
  {
   "cell_type": "code",
   "execution_count": 9,
   "id": "7b1179c7-9262-4772-8d07-6fd3f27fa586",
   "metadata": {
    "tags": []
   },
   "outputs": [
    {
     "name": "stdout",
     "output_type": "stream",
     "text": [
      "(7 vars, 8,984 obs)\n"
     ]
    }
   ],
   "source": [
    "insheet using \"C:\\Users\\User\\Documents\\GRAD STATS LAB SEM 2\\Soc211 Assignments\\Potential Research leads\\NLS test\\default\\default.csv\", clear"
   ]
  },
  {
   "cell_type": "code",
   "execution_count": 10,
   "id": "0df42b37-5aec-43e9-a20d-cc94475c4ed4",
   "metadata": {
    "tags": []
   },
   "outputs": [
    {
     "name": "stdout",
     "output_type": "stream",
     "text": [
      "r0000100  r0536300  r0536401  r0536402  r1235800  r1482600  s8647800\n"
     ]
    }
   ],
   "source": [
    "ds"
   ]
  },
  {
   "cell_type": "code",
   "execution_count": 17,
   "id": "898e03a9-1a25-45d0-a3d6-cf1f44c2ad9c",
   "metadata": {
    "tags": []
   },
   "outputs": [],
   "source": [
    "rename Environment environment"
   ]
  },
  {
   "cell_type": "code",
   "execution_count": 15,
   "id": "b1bd4dbf-f550-462b-80e3-6d94ba50c026",
   "metadata": {
    "tags": []
   },
   "outputs": [
    {
     "name": "stdout",
     "output_type": "stream",
     "text": [
      "r0000100     r0536401     r1235800     Environment\n",
      "r0536300     r0536402     r1482600\n"
     ]
    }
   ],
   "source": [
    "ds"
   ]
  },
  {
   "cell_type": "code",
   "execution_count": 19,
   "id": "e785e6b8-a387-421c-b9d1-846f45d91dba",
   "metadata": {
    "tags": []
   },
   "outputs": [
    {
     "name": "stdout",
     "output_type": "stream",
     "text": [
      "\n",
      "   S8647800 |      Freq.     Percent        Cum.\n",
      "------------+-----------------------------------\n",
      "         -5 |      1,425       15.86       15.86\n",
      "         -4 |      5,665       63.06       78.92\n",
      "         -2 |         28        0.31       79.23\n",
      "         -1 |          6        0.07       79.30\n",
      "          1 |      1,244       13.85       93.14\n",
      "          2 |        533        5.93       99.08\n",
      "          3 |         55        0.61       99.69\n",
      "          4 |         28        0.31      100.00\n",
      "------------+-----------------------------------\n",
      "      Total |      8,984      100.00\n"
     ]
    }
   ],
   "source": [
    "tab environment"
   ]
  },
  {
   "cell_type": "code",
   "execution_count": 26,
   "id": "76fa8f72-3033-48dd-8a43-80138cf94c43",
   "metadata": {
    "tags": []
   },
   "outputs": [],
   "source": [
    "drop envrecode"
   ]
  },
  {
   "cell_type": "code",
   "execution_count": 31,
   "id": "7dfa3a64-a74b-44ef-90ee-edd39d033239",
   "metadata": {
    "tags": []
   },
   "outputs": [
    {
     "name": "stdout",
     "output_type": "stream",
     "text": [
      "variable envrecode was str1 now str6\n",
      "(1,425 real changes made)\n"
     ]
    }
   ],
   "source": [
    "replace envrecode=\"Nonint\" if environment==-5"
   ]
  },
  {
   "cell_type": "code",
   "execution_count": 33,
   "id": "88222901-3c35-4717-a128-969681cf3979",
   "metadata": {
    "tags": []
   },
   "outputs": [
    {
     "name": "stdout",
     "output_type": "stream",
     "text": [
      "\n",
      "  envrecode |      Freq.     Percent        Cum.\n",
      "------------+-----------------------------------\n",
      "            |      7,559       84.14       84.14\n",
      "     Nonint |      1,425       15.86      100.00\n",
      "------------+-----------------------------------\n",
      "      Total |      8,984      100.00\n"
     ]
    }
   ],
   "source": [
    "tab envrecode, missing"
   ]
  },
  {
   "cell_type": "code",
   "execution_count": null,
   "id": "2dd5607e-ed97-4a30-9ae2-af04f38c4c74",
   "metadata": {},
   "outputs": [],
   "source": []
  }
 ],
 "metadata": {
  "kernelspec": {
   "display_name": "Stata (nbstata)",
   "language": "stata",
   "name": "nbstata"
  },
  "language_info": {
   "file_extension": ".do",
   "mimetype": "text/x-stata",
   "name": "stata",
   "version": "17"
  }
 },
 "nbformat": 4,
 "nbformat_minor": 5
}
