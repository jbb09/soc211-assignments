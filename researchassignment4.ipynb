{
 "cells": [
  {
   "cell_type": "markdown",
   "metadata": {},
   "source": [
    "# Research assignment 4\n",
    "\n",
    "\n",
    "Anh Nguyen Tran\n",
    "\n",
    "Political Party, Political Ideology, and Educational Attainment: Homework Example\n",
    "\n",
    "03/07/2024"
   ]
  },
  {
   "cell_type": "code",
   "execution_count": 1,
   "metadata": {},
   "outputs": [
    {
     "data": {
      "text/html": [
       "<style>div.jp-Notebook .datagrid-container {min-height: 448px; }</style>"
      ],
      "text/plain": [
       "<IPython.core.display.HTML object>"
      ]
     },
     "metadata": {},
     "output_type": "display_data"
    },
    {
     "name": "stdout",
     "output_type": "stream",
     "text": [
      "\n"
     ]
    }
   ],
   "source": [
    "*Loading in the GSS data\n",
    "\n",
    "set maxvar 32000\n",
    "use GSS_1972_2021.dta, clear\n",
    "eststo clear\n",
    "\n",
    "*Do \"eststo clear\" up here so that you are coming into Jupyter Notebook clean and ready for a new table."
   ]
  },
  {
   "cell_type": "code",
   "execution_count": 2,
   "metadata": {
    "tags": []
   },
   "outputs": [
    {
     "name": "stdout",
     "output_type": "stream",
     "text": [
      "\n",
      "-------------------------------------------------------------------------------\n",
      "rincome                                                      respondents income\n",
      "-------------------------------------------------------------------------------\n",
      "\n",
      "                  Type: Numeric (byte)\n",
      "                 Label: INCOME\n",
      "\n",
      "                 Range: [1,12]                        Units: 1\n",
      "         Unique values: 12                        Missing .: 0/68,846\n",
      "       Unique mv codes: 5                        Missing .*: 28,503/68,846\n",
      "\n",
      "              Examples: 9     $10,000 to $14,999\n",
      "                        12    $25,000 or more\n",
      "                        .i    iap\n",
      "                        .i    iap\n",
      "\n",
      "-------------------------------------------------------------------------------\n",
      "age                                                           age of respondent\n",
      "-------------------------------------------------------------------------------\n",
      "\n",
      "                  Type: Numeric (byte)\n",
      "                 Label: AGE, but 71 nonmissing values are not labeled\n",
      "\n",
      "                 Range: [18,89]                       Units: 1\n",
      "         Unique values: 72                        Missing .: 0/68,846\n",
      "       Unique mv codes: 3                        Missing .*: 561/68,846\n",
      "\n",
      "              Examples: 29    \n",
      "                        39    \n",
      "                        50    \n",
      "                        64    \n",
      "\n",
      "-------------------------------------------------------------------------------\n",
      "educ                                           highest year of school completed\n",
      "-------------------------------------------------------------------------------\n",
      "\n",
      "                  Type: Numeric (byte)\n",
      "                 Label: EDUC, but 20 nonmissing values are not labeled\n",
      "\n",
      "                 Range: [0,20]                        Units: 1\n",
      "         Unique values: 21                        Missing .: 0/68,846\n",
      "       Unique mv codes: 2                        Missing .*: 243/68,846\n",
      "\n",
      "              Examples: 11    \n",
      "                        12    \n",
      "                        14    \n",
      "                        16    \n",
      "\n",
      "-------------------------------------------------------------------------------\n",
      "race                                                         race of respondent\n",
      "-------------------------------------------------------------------------------\n",
      "\n",
      "                  Type: Numeric (byte)\n",
      "                 Label: RACE\n",
      "\n",
      "                 Range: [1,3]                         Units: 1\n",
      "         Unique values: 3                         Missing .: 0/68,846\n",
      "       Unique mv codes: 1                        Missing .*: 54/68,846\n",
      "\n",
      "            Tabulation: Freq.   Numeric  Label\n",
      "                       55,143         1  white\n",
      "                        9,650         2  black\n",
      "                        3,999         3  other\n",
      "                           54        .i  iap\n",
      "\n",
      "-------------------------------------------------------------------------------\n",
      "sex                                                             respondents sex\n",
      "-------------------------------------------------------------------------------\n",
      "\n",
      "                  Type: Numeric (byte)\n",
      "                 Label: GENDER\n",
      "\n",
      "                 Range: [1,2]                         Units: 1\n",
      "         Unique values: 2                         Missing .: 0/68,846\n",
      "       Unique mv codes: 3                        Missing .*: 92/68,846\n",
      "\n",
      "            Tabulation: Freq.   Numeric  Label\n",
      "                       30,350         1  male\n",
      "                       38,404         2  female\n",
      "                           19        .i  iap\n",
      "                           71        .n  no answer\n",
      "                            2        .s  skipped on web\n",
      "\n",
      "-------------------------------------------------------------------------------\n",
      "partyid                                             political party affiliation\n",
      "-------------------------------------------------------------------------------\n",
      "\n",
      "                  Type: Numeric (byte)\n",
      "                 Label: PARTYID\n",
      "\n",
      "                 Range: [0,7]                         Units: 1\n",
      "         Unique values: 8                         Missing .: 0/68,846\n",
      "       Unique mv codes: 2                        Missing .*: 450/68,846\n",
      "\n",
      "            Tabulation: Freq.   Numeric  Label\n",
      "                       11,200         0  strong democrat\n",
      "                       13,835         1  not very strong democrat\n",
      "                        8,263         2  independent, close to democrat\n",
      "                       10,705         3  independent (neither, no\n",
      "                                         response)\n",
      "                        6,048         4  independent, close to\n",
      "                                         republican\n",
      "                       10,317         5  not very strong republican\n",
      "                        6,842         6  strong republican\n",
      "                        1,186         7  other party\n",
      "                           11        .d  don't know\n",
      "                          439        .n  no answer\n",
      "\n",
      "-------------------------------------------------------------------------------\n",
      "polviews                               think of self as liberal or conservative\n",
      "-------------------------------------------------------------------------------\n",
      "\n",
      "                  Type: Numeric (byte)\n",
      "                 Label: POLVIEWS\n",
      "\n",
      "                 Range: [1,7]                         Units: 1\n",
      "         Unique values: 7                         Missing .: 0/68,846\n",
      "       Unique mv codes: 4                        Missing .*: 9,554/68,846\n",
      "\n",
      "            Tabulation: Freq.   Numeric  Label\n",
      "                        1,889         1  extremely liberal\n",
      "                        7,137         2  liberal\n",
      "                        7,500         3  slightly liberal\n",
      "                       22,747         4  moderate, middle of the road\n",
      "                        9,166         5  slightly conservative\n",
      "                        8,847         6  conservative\n",
      "                        2,006         7  extremely conservative\n",
      "                        2,336        .d  don't know\n",
      "                        6,792        .i  iap\n",
      "                          386        .n  no answer\n",
      "                           40        .s  skipped on web\n"
     ]
    }
   ],
   "source": [
    "codebook rincome age educ race sex partyid polviews"
   ]
  },
  {
   "cell_type": "code",
   "execution_count": 3,
   "metadata": {
    "tags": []
   },
   "outputs": [
    {
     "name": "stdout",
     "output_type": "stream",
     "text": [
      "(28,503 missing values generated)\n"
     ]
    }
   ],
   "source": [
    "keep rincome age educ race sex partyid polviews\n",
    "\n",
    "*There are theoretical/technical reasons for changing the form of income (stated in the PowerPoint)\n",
    "gen rincomeln = log(rincome)"
   ]
  },
  {
   "cell_type": "markdown",
   "metadata": {},
   "source": [
    "I follow Charlie's example and log income (logging income is common practice in economics and political science). Charlie has age squared. I will not square age in my project because whether or not people are near retirement age does not affect their education level like it would affect income. However, I will control for age because older people tend to have higher levels of education."
   ]
  },
  {
   "cell_type": "code",
   "execution_count": 4,
   "metadata": {
    "tags": []
   },
   "outputs": [
    {
     "name": "stdout",
     "output_type": "stream",
     "text": [
      "(68,846 missing values generated)\n",
      "(25,035 real changes made)\n",
      "(26,202 real changes made)\n",
      "(17,159 real changes made)\n",
      "(68,846 missing values generated)\n",
      "(9,026 real changes made)\n",
      "(39,413 real changes made)\n",
      "(10,853 real changes made)\n"
     ]
    }
   ],
   "source": [
    "*Making new variables for partyid and polviews to turn them from ordinal to nominal variables\n",
    "\n",
    "gen party = .\n",
    "replace party = 0 if partyid == 0 | partyid == 1\n",
    "replace party = 1 if partyid == 2 | partyid == 3 | partyid == 4 | partyid == 7\n",
    "replace party = 2 if partyid == 5 | partyid == 6\n",
    "\n",
    "label variable party \"Party Identification\"\n",
    "label define party 0 \"Democrat\" 1 \"Independent/Other Party\" 2 \"Republican\"\n",
    "label values party party\n",
    "\n",
    "gen polideo = .\n",
    "\n",
    "replace polideo = 0 if polviews == 1 | polviews == 2 \n",
    "replace polideo = 1 if polviews == 3 | polviews == 4 | polviews == 5\n",
    "replace polideo = 2 if polviews == 6 | polviews == 7\n",
    "\n",
    "label variable polideo \"Political Ideology\"\n",
    "label define polideo 0 \"Liberal\" 1 \"Centrist/Moderates\" 2 \"Conservative\"\n",
    "label values polideo polideo"
   ]
  },
  {
   "cell_type": "code",
   "execution_count": 5,
   "metadata": {
    "tags": []
   },
   "outputs": [
    {
     "name": "stdout",
     "output_type": "stream",
     "text": [
      "\n",
      "      political party |       Party Identification\n",
      "          affiliation |  Democrat  Independe  Republica |     Total\n",
      "----------------------+---------------------------------+----------\n",
      "      strong democrat |    11,200          0          0 |    11,200 \n",
      "not very strong democ |    13,835          0          0 |    13,835 \n",
      "independent, close to |         0      8,263          0 |     8,263 \n",
      "independent (neither, |         0     10,705          0 |    10,705 \n",
      "independent, close to |         0      6,048          0 |     6,048 \n",
      "not very strong repub |         0          0     10,317 |    10,317 \n",
      "    strong republican |         0          0      6,842 |     6,842 \n",
      "          other party |         0      1,186          0 |     1,186 \n",
      "----------------------+---------------------------------+----------\n",
      "                Total |    25,035     26,202     17,159 |    68,396 \n",
      "\n",
      "     think of self as |\n",
      "           liberal or |        Political Ideology\n",
      "         conservative |   Liberal  Centrist/  Conservat |     Total\n",
      "----------------------+---------------------------------+----------\n",
      "    extremely liberal |     1,889          0          0 |     1,889 \n",
      "              liberal |     7,137          0          0 |     7,137 \n",
      "     slightly liberal |         0      7,500          0 |     7,500 \n",
      "moderate, middle of t |         0     22,747          0 |    22,747 \n",
      "slightly conservative |         0      9,166          0 |     9,166 \n",
      "         conservative |         0          0      8,847 |     8,847 \n",
      "extremely conservativ |         0          0      2,006 |     2,006 \n",
      "----------------------+---------------------------------+----------\n",
      "                Total |     9,026     39,413     10,853 |    59,292 \n"
     ]
    }
   ],
   "source": [
    "tab partyid party\n",
    "tab polviews polideo"
   ]
  },
  {
   "cell_type": "code",
   "execution_count": 6,
   "metadata": {
    "tags": []
   },
   "outputs": [
    {
     "name": "stdout",
     "output_type": "stream",
     "text": [
      "\n",
      "             |      sex rincom~n  polideo    party\n",
      "-------------+------------------------------------\n",
      "         sex |   1.0000 \n",
      "   rincomeln |  -0.1816   1.0000 \n",
      "     polideo |  -0.0247   0.0313   1.0000 \n",
      "       party |  -0.0574   0.0366   0.3094   1.0000 \n"
     ]
    }
   ],
   "source": [
    "pwcorr sex rincomeln polideo party\n",
    "\n",
    "*In addition to theory, moderate correlation between political ideology and party identification suggests an interaction.\n",
    "*There may be some interactions between sex and income based on the correlation and on theory as well."
   ]
  },
  {
   "cell_type": "code",
   "execution_count": 7,
   "metadata": {
    "tags": []
   },
   "outputs": [],
   "source": [
    "gen female = sex==2"
   ]
  },
  {
   "cell_type": "code",
   "execution_count": 8,
   "metadata": {
    "tags": []
   },
   "outputs": [
    {
     "name": "stdout",
     "output_type": "stream",
     "text": [
      "\n",
      "           |    respondents sex\n",
      "    female |      male     female |     Total\n",
      "-----------+----------------------+----------\n",
      "         0 |    30,350          0 |    30,350 \n",
      "         1 |         0     38,404 |    38,404 \n",
      "-----------+----------------------+----------\n",
      "     Total |    30,350     38,404 |    68,754 \n"
     ]
    }
   ],
   "source": [
    "tab female sex"
   ]
  },
  {
   "cell_type": "markdown",
   "metadata": {},
   "source": [
    "### What am I working with?\n",
    "\n",
    "Dependent variable (interval-ratio): Education\n",
    "\n",
    "Independent variables of interest: Party identification, Political ideology, Log income, Sex\n",
    "\n",
    "Control variables: Age, Race"
   ]
  },
  {
   "cell_type": "markdown",
   "metadata": {},
   "source": [
    "## 1. Develop hypotheses about interactions between your independent variables [1 pt]\n",
    "\n",
    "You can use the GSS data, Student aid data, or your own data"
   ]
  },
  {
   "cell_type": "markdown",
   "metadata": {},
   "source": [
    "    A. Write at least one hypothesis involving one of the two following types of interactions\n",
    "        1) nominal * nominal\n",
    "        2) nominal * interval-ratio\n",
    "        \n",
    "    B. State the predicted direction of association between your dependent variable and:\n",
    "        1) each of the 2 independent variables by themselves\n",
    "        2) the interaction of the 2 indendent variables\n",
    "        3) you can predict that there is no association\n",
    "        \n",
    "    C. Write a couple sentences about the theoretical reasons (prior knowledge / research) for each of your predictions"
   ]
  },
  {
   "cell_type": "markdown",
   "metadata": {},
   "source": [
    "### See Anh's PowerPoint for an example of her reasons behind her thoughts on 1A-1C.\n",
    "\n",
    "Link: https://www.canva.com/design/DAF-zYCheAg/gvrn2HpHzCrVhAjkplE32A/view?utm_content=DAF-zYCheAg&utm_campaign=designshare&utm_medium=link&utm_source=editor"
   ]
  },
  {
   "cell_type": "markdown",
   "metadata": {},
   "source": [
    "## 2. Test your hypotheses [3 pts]\n",
    "\n",
    "    A. For each hypothesized interactive relationship: use regression with the appropriate interaction syntax to estimate 1 model with uninteracted variables and 1 model with interacted variables. Use --esttab-- to output a model with the 2 tables\n",
    "    \n",
    "    B. Use margins and marginsplot with the appropriate syntax to visually represent your regression adjusted estimates for given nominal categories or at given interval-ratio values"
   ]
  },
  {
   "cell_type": "code",
   "execution_count": 9,
   "metadata": {},
   "outputs": [
    {
     "name": "stdout",
     "output_type": "stream",
     "text": [
      "\n",
      "      Source |       SS           df       MS      Number of obs   =    36,684\n",
      "-------------+----------------------------------   F(9, 36674)     =    405.08\n",
      "       Model |  27692.7672         9  3076.97413   Prob > F        =    0.0000\n",
      "    Residual |  278574.794    36,674  7.59597519   R-squared       =    0.0904\n",
      "-------------+----------------------------------   Adj R-squared   =    0.0902\n",
      "       Total |  306267.561    36,683  8.34903256   Root MSE        =    2.7561\n",
      "\n",
      "------------------------------------------------------------------------------\n",
      "        educ | Coefficient  Std. err.      t    P>|t|     [95% conf. interval]\n",
      "-------------+----------------------------------------------------------------\n",
      "   rincomeln |   1.265872   .0244696    51.73   0.000     1.217911    1.313833\n",
      "    1.female |   .4612106   .0294586    15.66   0.000     .4034709    .5189503\n",
      "         age |   -.011092   .0010758   -10.31   0.000    -.0132006   -.0089834\n",
      "             |\n",
      "        race |\n",
      "      black  |  -.5970312   .0444375   -13.44   0.000      -.68413   -.5099323\n",
      "      other  |  -.4907408   .0609092    -8.06   0.000    -.6101246    -.371357\n",
      "             |\n",
      "       party |\n",
      "Independe..  |   -.015295   .0345202    -0.44   0.658    -.0829555    .0523656\n",
      " Republican  |   .3838024   .0410462     9.35   0.000     .3033506    .4642543\n",
      "             |\n",
      "     polideo |\n",
      "Centrist/~s  |  -.9434724   .0405794   -23.25   0.000    -1.023009   -.8639356\n",
      "Conservat~e  |  -.9550714   .0533734   -17.89   0.000    -1.059685   -.8504581\n",
      "             |\n",
      "       _cons |   12.02244   .0784167   153.31   0.000     11.86874    12.17614\n",
      "------------------------------------------------------------------------------\n",
      "(est1 stored)\n"
     ]
    }
   ],
   "source": [
    "*Generate the regression model WITHOUT the interaction terms\n",
    "\n",
    "eststo: reg educ rincomeln i.female age i.race i.party i.polideo"
   ]
  },
  {
   "cell_type": "markdown",
   "metadata": {},
   "source": [
    "There are some noteworthy results here. For instance, the coefficient of 0.38 for Republicans indicates that, holding all other variables constant, individuals who identify as Republicans have on average 0.38 more years of education compared to individuals identify as Democrats. This result is statistically significant (p < 0.001)."
   ]
  },
  {
   "cell_type": "code",
   "execution_count": 10,
   "metadata": {},
   "outputs": [
    {
     "name": "stdout",
     "output_type": "stream",
     "text": [
      "\n",
      "      Source |       SS           df       MS      Number of obs   =    36,684\n",
      "-------------+----------------------------------   F(14, 36669)    =    306.46\n",
      "       Model |  32081.0713        14   2291.5051   Prob > F        =    0.0000\n",
      "    Residual |   274186.49    36,669  7.47733753   R-squared       =    0.1047\n",
      "-------------+----------------------------------   Adj R-squared   =    0.1044\n",
      "       Total |  306267.561    36,683  8.34903256   Root MSE        =    2.7345\n",
      "\n",
      "------------------------------------------------------------------------------\n",
      "        educ | Coefficient  Std. err.      t    P>|t|     [95% conf. interval]\n",
      "-------------+----------------------------------------------------------------\n",
      "   rincomeln |   1.393886   .0399586    34.88   0.000     1.315566    1.472206\n",
      "    1.female |   .9943512   .1105599     8.99   0.000     .7776506    1.211052\n",
      "             |\n",
      "      female#|\n",
      " c.rincomeln |\n",
      "          1  |  -.2523959   .0498633    -5.06   0.000    -.3501294   -.1546624\n",
      "             |\n",
      "         age |  -.0116837   .0010679   -10.94   0.000    -.0137768   -.0095905\n",
      "             |\n",
      "        race |\n",
      "      black  |  -.5365448   .0441748   -12.15   0.000    -.6231287   -.4499609\n",
      "      other  |  -.4704373   .0604394    -7.78   0.000    -.5889004   -.3519743\n",
      "             |\n",
      "       party |\n",
      "Independe..  |  -.6636072   .0761727    -8.71   0.000    -.8129079   -.5143064\n",
      " Republican  |  -1.902175   .1382028   -13.76   0.000    -2.173057   -1.631294\n",
      "             |\n",
      "     polideo |\n",
      "Centrist/~s  |  -1.390066   .0557873   -24.92   0.000    -1.499411   -1.280721\n",
      "Conservat~e  |  -2.378818   .0963836   -24.68   0.000    -2.567733   -2.189903\n",
      "             |\n",
      "       party#|\n",
      "     polideo |\n",
      "Independe.. #|\n",
      "Centrist/~s  |   .7723218   .0857457     9.01   0.000     .6042578    .9403858\n",
      "Independe.. #|\n",
      "Conservat~e  |    1.45184   .1307344    11.11   0.000     1.195597    1.708083\n",
      " Republican #|\n",
      "Centrist/~s  |   2.220278   .1460166    15.21   0.000     1.934081    2.506475\n",
      " Republican #|\n",
      "Conservat~e  |   3.738714   .1686255    22.17   0.000     3.408203    4.069225\n",
      "             |\n",
      "       _cons |   12.16069   .1081885   112.40   0.000     11.94863    12.37274\n",
      "------------------------------------------------------------------------------\n",
      "(est2 stored)\n"
     ]
    }
   ],
   "source": [
    "*Generate the regression model WITH the interaction terms\n",
    "\n",
    "eststo: reg educ c.rincomeln##i.female age i.race i.party##i.polideo\n",
    "\n",
    "*Remember: interval-ratio variables must be denoted with \"c.\" in the interaction term here"
   ]
  },
  {
   "cell_type": "code",
   "execution_count": 11,
   "metadata": {},
   "outputs": [
    {
     "name": "stdout",
     "output_type": "stream",
     "text": [
      "\n",
      "--------------------------------------------\n",
      "                      (1)             (2)   \n",
      "                  Model 1         Model 2   \n",
      "                     b/se            b/se   \n",
      "--------------------------------------------\n",
      "Log income          1.266***        1.394***\n",
      "                  (0.024)         (0.040)   \n",
      "Female              0.461***        0.994***\n",
      "                  (0.029)         (0.111)   \n",
      "age                -0.011***       -0.012***\n",
      "                  (0.001)         (0.001)   \n",
      "Black              -0.597***       -0.537***\n",
      "                  (0.044)         (0.044)   \n",
      "Other race         -0.491***       -0.470***\n",
      "                  (0.061)         (0.060)   \n",
      "Independent        -0.015          -0.664***\n",
      "                  (0.035)         (0.076)   \n",
      "Republican          0.384***       -1.902***\n",
      "                  (0.041)         (0.138)   \n",
      "Centrist           -0.943***       -1.390***\n",
      "                  (0.041)         (0.056)   \n",
      "Conservative       -0.955***       -2.379***\n",
      "                  (0.053)         (0.096)   \n",
      "1.female#c~n                       -0.252***\n",
      "                                  (0.050)   \n",
      "1.party#1.~o                        0.772***\n",
      "                                  (0.086)   \n",
      "1.party#2.~o                        1.452***\n",
      "                                  (0.131)   \n",
      "2.party#1.~o                        2.220***\n",
      "                                  (0.146)   \n",
      "2.party#2.~o                        3.739***\n",
      "                                  (0.169)   \n",
      "--------------------------------------------\n",
      "R-Squared           0.090           0.105   \n",
      "N               36684.000       36684.000   \n",
      "--------------------------------------------\n"
     ]
    }
   ],
   "source": [
    "esttab, stats(r2 N, labels(\"R-Squared\" \"N\")) cells(b(star fmt(3)) se(fmt(3) par)) /// \n",
    "nobase mlabels (\"Model 1\" \"Model 2\") starlevels(* .05 ** .01 *** .001) ///\n",
    "coeflabels (rincomeln \"Log income\" educ \"Education\" 1.female \"Female\" 2.race \"Black\" 3.race \"Other race\" ///\n",
    "1.party \"Independent\" 2.party \"Republican\" 1.polideo \"Centrist\" 2.polideo \"Conservative\") noconstant\n",
    "\n",
    "*Keep in mind that there are omitted categories that act as points of comparison for nominal variables"
   ]
  },
  {
   "cell_type": "markdown",
   "metadata": {},
   "source": [
    "#### Interpretating regression results in the tables\n",
    "\n",
    "These tables are hard to read, but there a few things to focus on here:\n",
    "1. Are the coefficients significant on their own? If the coefficient is significant for a particular factor, what is the magnitude and direction of the coefficient? It is still important to look at the coefficient for Female for instance. \n",
    "2. Look over the statistical significance of the interaction terms. If the interaction terms are not statistically significant, this suggests that there are not strong interactions between the two independent variables. Essentially, the effect of one variable on the dependent variable does not significantly depend on the other variable."
   ]
  },
  {
   "cell_type": "markdown",
   "metadata": {},
   "source": [
    "#### What if the interaction terms are significant but the individual coefficients are not?\n",
    "\n",
    "Sometimes you may find that the coefficients for the independent variables are not significant, whereas the interaction terms between the independent variables are significant. Why is this?\n",
    "1. The interaction term represents the combined effect of two variables on the dependent variable. If this combined effect is strong, it can lead to the interaction term being significant even if the individual effects are weak or inconsistent.\n",
    "2. The significance of an interaction term might indicate a non-linear relationship between the variables and the outcome. Basically, the independent variables might not have a significant linear relationship with the dependent variable, but together they might have a significant non-linear effect.\n",
    "3. The relationship between one independent variable and the dependent variable may be changing at different levels of another independent variable. Basically, the effect of one variable on the dependent variable may depend on the level of another variable."
   ]
  },
  {
   "cell_type": "markdown",
   "metadata": {
    "tags": []
   },
   "source": [
    "##### Don't forget to adjust the settings for graph visibility"
   ]
  },
  {
   "cell_type": "code",
   "execution_count": 12,
   "metadata": {
    "tags": []
   },
   "outputs": [
    {
     "name": "stdout",
     "output_type": "stream",
     "text": [
      "graph size was (5.5in, 4in), is now (11, 4in).\n"
     ]
    }
   ],
   "source": [
    "%set graph_width = 11"
   ]
  },
  {
   "cell_type": "code",
   "execution_count": 13,
   "metadata": {
    "tags": []
   },
   "outputs": [
    {
     "name": "stdout",
     "output_type": "stream",
     "text": [
      "graph size was (11, 4in), is now (11, 8).\n"
     ]
    }
   ],
   "source": [
    "%set graph_height = 8"
   ]
  },
  {
   "cell_type": "markdown",
   "metadata": {
    "tags": []
   },
   "source": [
    "##### Then you can create the margins plots for 2b"
   ]
  },
  {
   "cell_type": "code",
   "execution_count": 14,
   "metadata": {
    "tags": []
   },
   "outputs": [
    {
     "name": "stdout",
     "output_type": "stream",
     "text": [
      "\n",
      "Variables that uniquely identify margins: party polideo\n"
     ]
    },
    {
     "data": {
      "image/png": "[encoded data removed]",
      "text/plain": [
       "<IPython.core.display.Image object>"
      ]
     },
     "metadata": {},
     "output_type": "display_data"
    }
   ],
   "source": [
    "*Plotting margins for nominal - nominal interaction terms\n",
    "\n",
    "quietly reg educ c.rincomeln##i.female age i.race i.party##i.polideo\n",
    "quietly margins i.party, over(polideo) atmeans\n",
    "marginsplot, recast(scatter) scheme(538w)"
   ]
  },
  {
   "cell_type": "markdown",
   "metadata": {},
   "source": [
    "### How do we interpret this first margins plot?\n",
    "\n",
    "1. First focus on the individual categories for the x-axis (party identification).\n",
    "\n",
    "For Democrats, Liberals have the highest predicted years of education, followed by Centrists/Moderates and then Conservatives. There's a clear downward trend as we move from Liberal to Conservative within the Democrat category.\n",
    "\n",
    "A similar trend is observed for Independents or people registered with other parties. However, conservatives within this category have higher years of education compared to Conservatives registered with the Democrat party.\n",
    "\n",
    "For Republicans, Conservatives have the highest predicted years of education, followed by Centrists/Moderates, and then Liberals.\n",
    "\n",
    "2. Think about your hypothesis\n",
    "\n",
    "Political ideology appears to have a different impact on years of education depending on party identification. For Democrats, being more liberal is associated with higher education, whereas for Republicans, being more conservative is associated with higher education. Independents show polarizing extremes in predicted education levels based on ideology, but Conservatives are predicted to have fewer years of education compared to Liberals and Centrists/Moderates within this group.\n",
    "\n",
    "NOTE: If your interaction term(s) is significant, you will see results like this. My interaction terms for political ideology and party identification are all significant. If your interaction terms are not significant, you will see much less variation across the x-axis."
   ]
  },
  {
   "cell_type": "code",
   "execution_count": 15,
   "metadata": {
    "tags": []
   },
   "outputs": [
    {
     "name": "stdout",
     "output_type": "stream",
     "text": [
      "\n",
      "    Variable |        Obs        Mean    Std. dev.       Min        Max\n",
      "-------------+---------------------------------------------------------\n",
      "   rincomeln |     40,343    2.108366    .6094026          0   2.484907\n"
     ]
    }
   ],
   "source": [
    "sum rincomeln"
   ]
  },
  {
   "cell_type": "code",
   "execution_count": 16,
   "metadata": {
    "tags": []
   },
   "outputs": [
    {
     "name": "stdout",
     "output_type": "stream",
     "text": [
      "\n",
      "Variables that uniquely identify margins: rincomeln female\n"
     ]
    },
    {
     "data": {
      "image/png": "[encoded data removed]",
      "text/plain": [
       "<IPython.core.display.Image object>"
      ]
     },
     "metadata": {},
     "output_type": "display_data"
    }
   ],
   "source": [
    "*Plotting margins for nominal - interval-ratio interaction terms\n",
    "\n",
    "quietly reg educ c.rincomeln##i.female age i.race i.party##i.polideo\n",
    "\n",
    "quietly margins female, at(rincomeln=(0(.2)2.484907)) atmeans\n",
    "marginsplot, noci legend(on) xtitle(\"Log income\") ///\n",
    "ytitle(\"Years of Education\") legend(rows(1) position(1) ring(0)) scheme(538w)"
   ]
  },
  {
   "cell_type": "markdown",
   "metadata": {},
   "source": [
    "### How do we interpret this second margins plot?\n",
    "\n",
    "Both lines are upward sloping, indicating that for both males and females, as log income increases, the predicted years of education also increase. This suggests a positive relationship between income and years of education. Basically, the more income you have the more likely you are to attain more education, and this is true whether you are a woman or man.\n",
    "\n",
    "The red line (representing women) is consistently above the blue line (representing men). This shows that at all observed levels of log income, women are predicted to more years of education than men. Furthermore, the lines are not parallel (they almost seem to be closing in on one another at the topic), which indicates a difference in slope. The difference in the slopes of the lines for women and men implies that the rate of increase in years of education with respect to log income is different between the sexes.\n",
    "\n",
    "Surprisingly, this result suggests that the rate of increase in years of education with respect to log income is greater for women than for men. Basically, as income increases, the predicted years of education for women increases more than for men! This holds implications for my hypothesis and predictions on the interaction effects between sex and log income."
   ]
  },
  {
   "cell_type": "markdown",
   "metadata": {},
   "source": [
    "## 3. Interpret your results [1 pt]\n",
    "\n",
    "Write a couple sentences answering each of the following questions:"
   ]
  },
  {
   "cell_type": "markdown",
   "metadata": {},
   "source": [
    "    A. Do the results support or contradict each of your hypotheses?\n",
    "    \n",
    "    B. Why do the regression coefficients support or contradict your hypotheses?\n",
    "    \n",
    "    C. Why do your regression adjusted estimates from margins for nominal categories or given interval-ratio values support or contradict your hypotheses?"
   ]
  },
  {
   "cell_type": "markdown",
   "metadata": {},
   "source": [
    "#### Notes on interpreting results\n",
    "\n",
    "FOR 3A\n",
    "1) Note if there are differences in magnitude, direction, and statistical significance for the independent variables you are interested in between the model with interaction terms and the model with no interaction terms.\n",
    "\n",
    "2) Relate these differences back to the hypothesis, focusing on the model that provides better support for your hypothesis (if available). If both models support your hypothesis, you may choose which one to focus on.\n",
    "\n",
    "FOR 3B\n",
    "1) Reference the literature or prior knowledge here with a focus on the relationship between the dependent variable and the independent variable(s). He is asking about theory (what are the potential reasons the results are like this?). For instance, are the results surprising and different than what is commonly found in the literature? Or are you providing support for a theory from the literature?\n",
    "\n",
    "FOR 3C\n",
    "1) Reference the literature or prior knowledge here with a focus on the relationship between the two independent variables interacting. Again, what is your theoretical explanation for what you found?"
   ]
  },
  {
   "cell_type": "markdown",
   "metadata": {},
   "source": [
    "#### Don't forget to read the \"ASA Statement on Statistical Significance and P-Values\" (2016) for next class. This is a very important reading that all quantitative sociologists should know."
   ]
  },
  {
   "cell_type": "code",
   "execution_count": null,
   "metadata": {},
   "outputs": [],
   "source": []
  }
 ],
 "metadata": {
  "kernelspec": {
   "display_name": "Stata (nbstata)",
   "language": "stata",
   "name": "nbstata"
  },
  "language_info": {
   "file_extension": ".do",
   "mimetype": "text/x-stata",
   "name": "stata",
   "version": "17"
  }
 },
 "nbformat": 4,
 "nbformat_minor": 4
}
